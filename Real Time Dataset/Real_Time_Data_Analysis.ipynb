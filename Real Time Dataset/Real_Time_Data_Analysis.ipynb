{
  "cells": [
    {
      "cell_type": "code",
      "source": [
        "# Import necessary libraries\n",
        "import pandas as pd\n",
        "import numpy as np\n",
        "import re\n",
        "import nltk\n",
        "import spacy\n",
        "import string\n",
        "import os\n",
        "import zipfile\n",
        "from nltk.tokenize import word_tokenize\n",
        "from nltk.corpus import stopwords\n",
        "from nltk.stem import WordNetLemmatizer\n",
        "from sklearn.feature_extraction.text import TfidfVectorizer\n",
        "from textblob import TextBlob\n",
        "from gensim.models import Word2Vec"
      ],
      "metadata": {
        "id": "czrtgGU-8vBb"
      },
      "id": "czrtgGU-8vBb",
      "execution_count": 1,
      "outputs": []
    },
    {
      "cell_type": "code",
      "source": [
        "# Ensure necessary NLTK resources are downloaded\n",
        "nltk.download('punkt')\n",
        "nltk.download('stopwords')\n",
        "nltk.download('wordnet')\n",
        "nltk.download('punkt_tab')"
      ],
      "metadata": {
        "colab": {
          "base_uri": "https://localhost:8080/"
        },
        "id": "kW6m79_O8xcR",
        "outputId": "241839dd-758f-40bc-df1d-3b48280fdf21"
      },
      "id": "kW6m79_O8xcR",
      "execution_count": 2,
      "outputs": [
        {
          "output_type": "stream",
          "name": "stderr",
          "text": [
            "[nltk_data] Downloading package punkt to /root/nltk_data...\n",
            "[nltk_data]   Package punkt is already up-to-date!\n",
            "[nltk_data] Downloading package stopwords to /root/nltk_data...\n",
            "[nltk_data]   Package stopwords is already up-to-date!\n",
            "[nltk_data] Downloading package wordnet to /root/nltk_data...\n",
            "[nltk_data]   Package wordnet is already up-to-date!\n",
            "[nltk_data] Downloading package punkt_tab to /root/nltk_data...\n",
            "[nltk_data]   Package punkt_tab is already up-to-date!\n"
          ]
        },
        {
          "output_type": "execute_result",
          "data": {
            "text/plain": [
              "True"
            ]
          },
          "metadata": {},
          "execution_count": 2
        }
      ]
    },
    {
      "cell_type": "code",
      "source": [
        "# Load SpaCy model\n",
        "try:\n",
        "    nlp = spacy.load(\"en_core_web_sm\")\n",
        "except OSError:\n",
        "    import subprocess\n",
        "    subprocess.run([\"python\", \"-m\", \"spacy\", \"download\", \"en_core_web_sm\"])\n",
        "    nlp = spacy.load(\"en_core_web_sm\")"
      ],
      "metadata": {
        "id": "zlVLlD4P8y-N"
      },
      "id": "zlVLlD4P8y-N",
      "execution_count": 3,
      "outputs": []
    },
    {
      "cell_type": "code",
      "source": [
        "# Initialize necessary tools\n",
        "lemmatizer = WordNetLemmatizer()\n",
        "stop_words = set(stopwords.words(\"english\"))"
      ],
      "metadata": {
        "id": "C-C9zdFj81Hk"
      },
      "id": "C-C9zdFj81Hk",
      "execution_count": 4,
      "outputs": []
    },
    {
      "cell_type": "code",
      "source": [
        "# Function to clean raw text data\n",
        "def clean_text(text):\n",
        "    if isinstance(text, str):\n",
        "        text = text.lower()\n",
        "        text = re.sub(r'\\s+', ' ', text)  # Remove extra spaces\n",
        "        text = re.sub(r'\\[.*?\\]', '', text)  # Remove text inside brackets\n",
        "        text = re.sub(r'https?://\\S+|www\\.\\S+', '', text)  # Remove URLs\n",
        "        text = re.sub(r'<.*?>+', '', text)  # Remove HTML tags\n",
        "        text = re.sub(r'[^\\w\\s]', '', text)  # Remove punctuation\n",
        "        text = re.sub(r'\\d+', '', text)  # Remove numbers\n",
        "        return text\n",
        "    return \"\""
      ],
      "metadata": {
        "id": "0r6rDcIP83WU"
      },
      "id": "0r6rDcIP83WU",
      "execution_count": 5,
      "outputs": []
    },
    {
      "cell_type": "code",
      "source": [
        "# Function for tokenization, stopword removal, and lemmatization\n",
        "def preprocess_text(text):\n",
        "    tokens = word_tokenize(text)\n",
        "    tokens = [word for word in tokens if word not in stop_words]\n",
        "    tokens = [lemmatizer.lemmatize(word) for word in tokens]\n",
        "    return \" \".join(tokens)"
      ],
      "metadata": {
        "id": "xrrAnyCc85e8"
      },
      "id": "xrrAnyCc85e8",
      "execution_count": 6,
      "outputs": []
    },
    {
      "cell_type": "code",
      "source": [
        "# Function for sentiment analysis\n",
        "def sentiment_score(text):\n",
        "    return TextBlob(text).sentiment.polarity"
      ],
      "metadata": {
        "id": "wg6_pkEo87ox"
      },
      "id": "wg6_pkEo87ox",
      "execution_count": 7,
      "outputs": []
    },
    {
      "cell_type": "code",
      "source": [
        "# Function for word embedding using Word2Vec\n",
        "def train_word2vec(corpus):\n",
        "    tokenized_corpus = [word_tokenize(doc) for doc in corpus]\n",
        "    model = Word2Vec(sentences=tokenized_corpus, vector_size=100, window=5, min_count=1, workers=4)\n",
        "    return model"
      ],
      "metadata": {
        "id": "4QgNYYiz89Ln"
      },
      "id": "4QgNYYiz89Ln",
      "execution_count": 8,
      "outputs": []
    },
    {
      "cell_type": "code",
      "source": [
        "# GitHub raw CSV URLs\n",
        "github_csv_urls = [\n",
        "    \"https://raw.githubusercontent.com/prynka1808/Team-03-Fake-News-Detection-Finale-Project/main/Real%20Time%20Dataset/More_newsdata_io_articles.csv\",\n",
        "    \"https://raw.githubusercontent.com/prynka1808/Team-03-Fake-News-Detection-Finale-Project/main/Real%20Time%20Dataset/nes_api_data.csv\",\n",
        "    \"https://raw.githubusercontent.com/prynka1808/Team-03-Fake-News-Detection-Finale-Project/main/Real%20Time%20Dataset/news_data%20(1).csv\",\n",
        "    \"https://raw.githubusercontent.com/prynka1808/Team-03-Fake-News-Detection-Finale-Project/main/Real%20Time%20Dataset/news_data%20(2).csv\",\n",
        "    \"https://raw.githubusercontent.com/prynka1808/Team-03-Fake-News-Detection-Finale-Project/main/Real%20Time%20Dataset/newsdata_io_articles.csv\"\n",
        "]\n",
        "\n",
        "all_dataframes = []\n",
        "\n",
        "for url in github_csv_urls:\n",
        "    try:\n",
        "        # Read each CSV (comma-delimited by default)\n",
        "        df_temp = pd.read_csv(url)\n",
        "        all_dataframes.append(df_temp)\n",
        "        print(f\"Successfully read {url}, shape: {df_temp.shape}\")\n",
        "    except Exception as e:\n",
        "        print(f\"Error loading {url}: {e}\")\n",
        "\n",
        "if all_dataframes:\n",
        "    # Concatenate all DataFrames\n",
        "    combined_df = pd.concat(all_dataframes, ignore_index=True)\n",
        "    print(f\"Combined DataFrame shape: {combined_df.shape}\")\n",
        "\n",
        "    # Inspect columns\n",
        "    print(\"Columns in combined DataFrame:\", combined_df.columns.tolist())\n",
        "\n",
        "    # Save to a local CSV file\n",
        "    combined_csv_filename = \"combined_data.csv\"\n",
        "    combined_df.to_csv(combined_csv_filename, index=False)\n",
        "    print(f\"All CSVs combined into {combined_csv_filename}!\")\n",
        "else:\n",
        "    print(\"No DataFrames were loaded.\")\n"
      ],
      "metadata": {
        "colab": {
          "base_uri": "https://localhost:8080/"
        },
        "id": "28GIxBxlz5Qn",
        "outputId": "f24469a1-4ed0-4a51-d964-730f537a5b8f"
      },
      "id": "28GIxBxlz5Qn",
      "execution_count": 9,
      "outputs": [
        {
          "output_type": "stream",
          "name": "stdout",
          "text": [
            "Successfully read https://raw.githubusercontent.com/prynka1808/Team-03-Fake-News-Detection-Finale-Project/main/Real%20Time%20Dataset/More_newsdata_io_articles.csv, shape: (10, 25)\n",
            "Successfully read https://raw.githubusercontent.com/prynka1808/Team-03-Fake-News-Detection-Finale-Project/main/Real%20Time%20Dataset/nes_api_data.csv, shape: (94, 8)\n",
            "Successfully read https://raw.githubusercontent.com/prynka1808/Team-03-Fake-News-Detection-Finale-Project/main/Real%20Time%20Dataset/news_data%20(1).csv, shape: (19, 6)\n",
            "Successfully read https://raw.githubusercontent.com/prynka1808/Team-03-Fake-News-Detection-Finale-Project/main/Real%20Time%20Dataset/news_data%20(2).csv, shape: (44, 6)\n",
            "Successfully read https://raw.githubusercontent.com/prynka1808/Team-03-Fake-News-Detection-Finale-Project/main/Real%20Time%20Dataset/newsdata_io_articles.csv, shape: (10, 25)\n",
            "Combined DataFrame shape: (177, 31)\n",
            "Columns in combined DataFrame: ['article_id', 'title', 'link', 'keywords', 'creator', 'video_url', 'description', 'content', 'pubDate', 'pubDateTZ', 'image_url', 'source_id', 'source_priority', 'source_name', 'source_url', 'source_icon', 'language', 'country', 'category', 'ai_tag', 'sentiment', 'sentiment_stats', 'ai_region', 'ai_org', 'duplicate', 'source', 'author', 'url', 'urlToImage', 'publishedAt', 'published_at']\n",
            "All CSVs combined into combined_data.csv!\n"
          ]
        }
      ]
    },
    {
      "cell_type": "code",
      "source": [
        "# https://raw.githubusercontent.com/prynka1808/Team-03-Fake-News-Detection-Finale-Project/main/Fake News Real_time Data/politifact_fact_checks.csv\n",
        "# https://raw.githubusercontent.com/prynka1808/Team-03-Fake-News-Detection-Finale-Project/main/Fake News Real_time Data/politifact_fake_news.csv"
      ],
      "metadata": {
        "id": "2tvAtuOhIyye"
      },
      "id": "2tvAtuOhIyye",
      "execution_count": 10,
      "outputs": []
    },
    {
      "cell_type": "code",
      "source": [
        "import pandas as pd\n",
        "\n",
        "# GitHub raw CSV URLs for fake datasets\n",
        "fake_dataset_urls = [\n",
        "    \"https://raw.githubusercontent.com/prynka1808/Team-03-Fake-News-Detection-Finale-Project/main/Fake%20News%20Real_time%20Data/politifact_fact_checks.csv\",\n",
        "    \"https://raw.githubusercontent.com/prynka1808/Team-03-Fake-News-Detection-Finale-Project/main/Fake%20News%20Real_time%20Data/politifact_fake_news.csv\"\n",
        "]\n",
        "\n",
        "all_fake_dfs = []\n",
        "\n",
        "for url in fake_dataset_urls:\n",
        "    try:\n",
        "        # Read each CSV (using the default comma delimiter)\n",
        "        df_temp = pd.read_csv(url)\n",
        "        all_fake_dfs.append(df_temp)\n",
        "        print(f\"Successfully read {url}, shape: {df_temp.shape}\")\n",
        "    except Exception as e:\n",
        "        print(f\"Error loading {url}: {e}\")\n",
        "\n",
        "if all_fake_dfs:\n",
        "    # Concatenate the fake datasets into one DataFrame\n",
        "    combined_fake_df = pd.concat(all_fake_dfs, ignore_index=True)\n",
        "    print(f\"Combined Fake DataFrame shape: {combined_fake_df.shape}\")\n",
        "\n",
        "    # Inspect columns if needed\n",
        "    print(\"Columns in combined Fake DataFrame:\", combined_fake_df.columns.tolist())\n",
        "\n",
        "    # Save the combined DataFrame to a CSV file\n",
        "    combined_fake_filename = \"combined_fake_data.csv\"\n",
        "    combined_fake_df.to_csv(combined_fake_filename, index=False)\n",
        "    print(f\"All fake CSVs combined into {combined_fake_filename}!\")\n",
        "else:\n",
        "    print(\"No fake DataFrames were loaded.\")\n"
      ],
      "metadata": {
        "colab": {
          "base_uri": "https://localhost:8080/"
        },
        "id": "Y8Nk4sWOKnrF",
        "outputId": "64a2f4e5-c4d6-414e-bed3-e2c66fde8ab6"
      },
      "id": "Y8Nk4sWOKnrF",
      "execution_count": 11,
      "outputs": [
        {
          "output_type": "stream",
          "name": "stdout",
          "text": [
            "Successfully read https://raw.githubusercontent.com/prynka1808/Team-03-Fake-News-Detection-Finale-Project/main/Fake%20News%20Real_time%20Data/politifact_fact_checks.csv, shape: (90, 4)\n",
            "Successfully read https://raw.githubusercontent.com/prynka1808/Team-03-Fake-News-Detection-Finale-Project/main/Fake%20News%20Real_time%20Data/politifact_fake_news.csv, shape: (90, 3)\n",
            "Combined Fake DataFrame shape: (180, 4)\n",
            "Columns in combined Fake DataFrame: ['headline', 'link', 'speaker_date', 'rating']\n",
            "All fake CSVs combined into combined_fake_data.csv!\n"
          ]
        }
      ]
    },
    {
      "cell_type": "code",
      "source": [
        "import pandas as pd\n",
        "\n",
        "# Local CSV file names for fake and real news datasets\n",
        "fake_news_file = \"combined_fake_data.csv\"\n",
        "real_news_file = \"combined_data.csv\"\n",
        "\n",
        "try:\n",
        "    # Read the CSV files\n",
        "    fake_df = pd.read_csv(fake_news_file)\n",
        "    real_df = pd.read_csv(real_news_file)\n",
        "\n",
        "    # Inspect columns for debugging\n",
        "    print(\"Fake news columns:\", fake_df.columns.tolist())\n",
        "    print(\"Real news columns:\", real_df.columns.tolist())\n",
        "\n",
        "    # Process Fake News DataFrame:\n",
        "    # Create an \"id\" column if not present (using index)\n",
        "    if \"id\" not in fake_df.columns:\n",
        "        fake_df[\"id\"] = fake_df.index\n",
        "    # Rename columns to standard names\n",
        "    fake_df = fake_df.rename(columns={\"headline\": \"title\", \"link\": \"news_url\"})\n",
        "    # Assign fake news label\n",
        "    fake_df[\"label\"] = 1\n",
        "    # Subset to necessary columns\n",
        "    fake_df = fake_df[[\"id\", \"news_url\", \"title\", \"label\"]]\n",
        "\n",
        "    # Process Real News DataFrame:\n",
        "    # Rename columns: 'article_id' becomes 'id', and 'link' becomes 'news_url'\n",
        "    real_df = real_df.rename(columns={\"article_id\": \"id\", \"link\": \"news_url\"})\n",
        "    # Assign real news label\n",
        "    real_df[\"label\"] = 0\n",
        "    # Subset to necessary columns; if 'id' is not present, you might create it as well\n",
        "    if \"id\" not in real_df.columns:\n",
        "        real_df[\"id\"] = real_df.index\n",
        "    real_df = real_df[[\"id\", \"news_url\", \"title\", \"label\"]]\n",
        "\n",
        "    # Merge the two datasets\n",
        "    combined_df = pd.concat([fake_df, real_df], ignore_index=True)\n",
        "\n",
        "    print(\"FakeNewsNet dataset loaded successfully!\")\n",
        "    print(\"Combined dataset shape:\", combined_df.shape)\n",
        "    print(combined_df.head())\n",
        "\n",
        "    # Save the combined DataFrame to a CSV file\n",
        "    combined_csv_filename = \"FakeNewsNet_combined.csv\"\n",
        "    combined_df.to_csv(combined_csv_filename, index=False)\n",
        "    print(f\"Merged dataset saved to {combined_csv_filename}!\")\n",
        "\n",
        "except Exception as e:\n",
        "    print(f\"Error loading FakeNewsNet dataset: {e}\")\n"
      ],
      "metadata": {
        "colab": {
          "base_uri": "https://localhost:8080/"
        },
        "id": "kAEVVD9BbndZ",
        "outputId": "b0ab3422-4222-46fa-f54f-a985fd18339b"
      },
      "id": "kAEVVD9BbndZ",
      "execution_count": 12,
      "outputs": [
        {
          "output_type": "stream",
          "name": "stdout",
          "text": [
            "Fake news columns: ['headline', 'link', 'speaker_date', 'rating']\n",
            "Real news columns: ['article_id', 'title', 'link', 'keywords', 'creator', 'video_url', 'description', 'content', 'pubDate', 'pubDateTZ', 'image_url', 'source_id', 'source_priority', 'source_name', 'source_url', 'source_icon', 'language', 'country', 'category', 'ai_tag', 'sentiment', 'sentiment_stats', 'ai_region', 'ai_org', 'duplicate', 'source', 'author', 'url', 'urlToImage', 'publishedAt', 'published_at']\n",
            "FakeNewsNet dataset loaded successfully!\n",
            "Combined dataset shape: (357, 4)\n",
            "  id                                           news_url  \\\n",
            "0  0  https://www.politifact.com/personalities/insta...   \n",
            "1  1  https://www.politifact.com/personalities/viral...   \n",
            "2  2  https://www.politifact.com/personalities/faceb...   \n",
            "3  3  https://www.politifact.com/personalities/elon-...   \n",
            "4  4  https://www.politifact.com/personalities/faceb...   \n",
            "\n",
            "                                               title  label  \n",
            "0  “Delta plane that crashed in Toronto operated ...      1  \n",
            "1  Says Luigi Mangione posted on X, “He who saves...      1  \n",
            "2  “The media is showing how Obama’s birth certif...      1  \n",
            "3  President Joe Biden’s immigration policy was “...      1  \n",
            "4  El congresista Adriano Espaillat muestra “La n...      1  \n",
            "Merged dataset saved to FakeNewsNet_combined.csv!\n"
          ]
        }
      ]
    },
    {
      "cell_type": "code",
      "source": [
        "all_data=\"FakeNewsNet_combined.csv\""
      ],
      "metadata": {
        "id": "41J1wFX0bngn"
      },
      "id": "41J1wFX0bngn",
      "execution_count": 13,
      "outputs": []
    },
    {
      "cell_type": "code",
      "source": [
        "all_data = \"FakeNewsNet_combined.csv\"\n",
        "\n",
        "# Read the CSV into a DataFrame\n",
        "df = pd.read_csv(all_data)\n",
        "\n",
        "# Now call .head(5) on the DataFrame\n",
        "df.head(5)\n"
      ],
      "metadata": {
        "colab": {
          "base_uri": "https://localhost:8080/",
          "height": 206
        },
        "id": "KPMku2C5dHXJ",
        "outputId": "10910d27-be83-42eb-de3d-b3c8f7bf6edd"
      },
      "id": "KPMku2C5dHXJ",
      "execution_count": 14,
      "outputs": [
        {
          "output_type": "execute_result",
          "data": {
            "text/plain": [
              "  id                                           news_url  \\\n",
              "0  0  https://www.politifact.com/personalities/insta...   \n",
              "1  1  https://www.politifact.com/personalities/viral...   \n",
              "2  2  https://www.politifact.com/personalities/faceb...   \n",
              "3  3  https://www.politifact.com/personalities/elon-...   \n",
              "4  4  https://www.politifact.com/personalities/faceb...   \n",
              "\n",
              "                                               title  label  \n",
              "0  “Delta plane that crashed in Toronto operated ...      1  \n",
              "1  Says Luigi Mangione posted on X, “He who saves...      1  \n",
              "2  “The media is showing how Obama’s birth certif...      1  \n",
              "3  President Joe Biden’s immigration policy was “...      1  \n",
              "4  El congresista Adriano Espaillat muestra “La n...      1  "
            ],
            "text/html": [
              "\n",
              "  <div id=\"df-e6cd49fe-1759-4c26-8371-ab77b1d93ece\" class=\"colab-df-container\">\n",
              "    <div>\n",
              "<style scoped>\n",
              "    .dataframe tbody tr th:only-of-type {\n",
              "        vertical-align: middle;\n",
              "    }\n",
              "\n",
              "    .dataframe tbody tr th {\n",
              "        vertical-align: top;\n",
              "    }\n",
              "\n",
              "    .dataframe thead th {\n",
              "        text-align: right;\n",
              "    }\n",
              "</style>\n",
              "<table border=\"1\" class=\"dataframe\">\n",
              "  <thead>\n",
              "    <tr style=\"text-align: right;\">\n",
              "      <th></th>\n",
              "      <th>id</th>\n",
              "      <th>news_url</th>\n",
              "      <th>title</th>\n",
              "      <th>label</th>\n",
              "    </tr>\n",
              "  </thead>\n",
              "  <tbody>\n",
              "    <tr>\n",
              "      <th>0</th>\n",
              "      <td>0</td>\n",
              "      <td>https://www.politifact.com/personalities/insta...</td>\n",
              "      <td>“Delta plane that crashed in Toronto operated ...</td>\n",
              "      <td>1</td>\n",
              "    </tr>\n",
              "    <tr>\n",
              "      <th>1</th>\n",
              "      <td>1</td>\n",
              "      <td>https://www.politifact.com/personalities/viral...</td>\n",
              "      <td>Says Luigi Mangione posted on X, “He who saves...</td>\n",
              "      <td>1</td>\n",
              "    </tr>\n",
              "    <tr>\n",
              "      <th>2</th>\n",
              "      <td>2</td>\n",
              "      <td>https://www.politifact.com/personalities/faceb...</td>\n",
              "      <td>“The media is showing how Obama’s birth certif...</td>\n",
              "      <td>1</td>\n",
              "    </tr>\n",
              "    <tr>\n",
              "      <th>3</th>\n",
              "      <td>3</td>\n",
              "      <td>https://www.politifact.com/personalities/elon-...</td>\n",
              "      <td>President Joe Biden’s immigration policy was “...</td>\n",
              "      <td>1</td>\n",
              "    </tr>\n",
              "    <tr>\n",
              "      <th>4</th>\n",
              "      <td>4</td>\n",
              "      <td>https://www.politifact.com/personalities/faceb...</td>\n",
              "      <td>El congresista Adriano Espaillat muestra “La n...</td>\n",
              "      <td>1</td>\n",
              "    </tr>\n",
              "  </tbody>\n",
              "</table>\n",
              "</div>\n",
              "    <div class=\"colab-df-buttons\">\n",
              "\n",
              "  <div class=\"colab-df-container\">\n",
              "    <button class=\"colab-df-convert\" onclick=\"convertToInteractive('df-e6cd49fe-1759-4c26-8371-ab77b1d93ece')\"\n",
              "            title=\"Convert this dataframe to an interactive table.\"\n",
              "            style=\"display:none;\">\n",
              "\n",
              "  <svg xmlns=\"http://www.w3.org/2000/svg\" height=\"24px\" viewBox=\"0 -960 960 960\">\n",
              "    <path d=\"M120-120v-720h720v720H120Zm60-500h600v-160H180v160Zm220 220h160v-160H400v160Zm0 220h160v-160H400v160ZM180-400h160v-160H180v160Zm440 0h160v-160H620v160ZM180-180h160v-160H180v160Zm440 0h160v-160H620v160Z\"/>\n",
              "  </svg>\n",
              "    </button>\n",
              "\n",
              "  <style>\n",
              "    .colab-df-container {\n",
              "      display:flex;\n",
              "      gap: 12px;\n",
              "    }\n",
              "\n",
              "    .colab-df-convert {\n",
              "      background-color: #E8F0FE;\n",
              "      border: none;\n",
              "      border-radius: 50%;\n",
              "      cursor: pointer;\n",
              "      display: none;\n",
              "      fill: #1967D2;\n",
              "      height: 32px;\n",
              "      padding: 0 0 0 0;\n",
              "      width: 32px;\n",
              "    }\n",
              "\n",
              "    .colab-df-convert:hover {\n",
              "      background-color: #E2EBFA;\n",
              "      box-shadow: 0px 1px 2px rgba(60, 64, 67, 0.3), 0px 1px 3px 1px rgba(60, 64, 67, 0.15);\n",
              "      fill: #174EA6;\n",
              "    }\n",
              "\n",
              "    .colab-df-buttons div {\n",
              "      margin-bottom: 4px;\n",
              "    }\n",
              "\n",
              "    [theme=dark] .colab-df-convert {\n",
              "      background-color: #3B4455;\n",
              "      fill: #D2E3FC;\n",
              "    }\n",
              "\n",
              "    [theme=dark] .colab-df-convert:hover {\n",
              "      background-color: #434B5C;\n",
              "      box-shadow: 0px 1px 3px 1px rgba(0, 0, 0, 0.15);\n",
              "      filter: drop-shadow(0px 1px 2px rgba(0, 0, 0, 0.3));\n",
              "      fill: #FFFFFF;\n",
              "    }\n",
              "  </style>\n",
              "\n",
              "    <script>\n",
              "      const buttonEl =\n",
              "        document.querySelector('#df-e6cd49fe-1759-4c26-8371-ab77b1d93ece button.colab-df-convert');\n",
              "      buttonEl.style.display =\n",
              "        google.colab.kernel.accessAllowed ? 'block' : 'none';\n",
              "\n",
              "      async function convertToInteractive(key) {\n",
              "        const element = document.querySelector('#df-e6cd49fe-1759-4c26-8371-ab77b1d93ece');\n",
              "        const dataTable =\n",
              "          await google.colab.kernel.invokeFunction('convertToInteractive',\n",
              "                                                    [key], {});\n",
              "        if (!dataTable) return;\n",
              "\n",
              "        const docLinkHtml = 'Like what you see? Visit the ' +\n",
              "          '<a target=\"_blank\" href=https://colab.research.google.com/notebooks/data_table.ipynb>data table notebook</a>'\n",
              "          + ' to learn more about interactive tables.';\n",
              "        element.innerHTML = '';\n",
              "        dataTable['output_type'] = 'display_data';\n",
              "        await google.colab.output.renderOutput(dataTable, element);\n",
              "        const docLink = document.createElement('div');\n",
              "        docLink.innerHTML = docLinkHtml;\n",
              "        element.appendChild(docLink);\n",
              "      }\n",
              "    </script>\n",
              "  </div>\n",
              "\n",
              "\n",
              "<div id=\"df-360bbdc4-3d51-40b9-bc6c-aef9d36f0c1d\">\n",
              "  <button class=\"colab-df-quickchart\" onclick=\"quickchart('df-360bbdc4-3d51-40b9-bc6c-aef9d36f0c1d')\"\n",
              "            title=\"Suggest charts\"\n",
              "            style=\"display:none;\">\n",
              "\n",
              "<svg xmlns=\"http://www.w3.org/2000/svg\" height=\"24px\"viewBox=\"0 0 24 24\"\n",
              "     width=\"24px\">\n",
              "    <g>\n",
              "        <path d=\"M19 3H5c-1.1 0-2 .9-2 2v14c0 1.1.9 2 2 2h14c1.1 0 2-.9 2-2V5c0-1.1-.9-2-2-2zM9 17H7v-7h2v7zm4 0h-2V7h2v10zm4 0h-2v-4h2v4z\"/>\n",
              "    </g>\n",
              "</svg>\n",
              "  </button>\n",
              "\n",
              "<style>\n",
              "  .colab-df-quickchart {\n",
              "      --bg-color: #E8F0FE;\n",
              "      --fill-color: #1967D2;\n",
              "      --hover-bg-color: #E2EBFA;\n",
              "      --hover-fill-color: #174EA6;\n",
              "      --disabled-fill-color: #AAA;\n",
              "      --disabled-bg-color: #DDD;\n",
              "  }\n",
              "\n",
              "  [theme=dark] .colab-df-quickchart {\n",
              "      --bg-color: #3B4455;\n",
              "      --fill-color: #D2E3FC;\n",
              "      --hover-bg-color: #434B5C;\n",
              "      --hover-fill-color: #FFFFFF;\n",
              "      --disabled-bg-color: #3B4455;\n",
              "      --disabled-fill-color: #666;\n",
              "  }\n",
              "\n",
              "  .colab-df-quickchart {\n",
              "    background-color: var(--bg-color);\n",
              "    border: none;\n",
              "    border-radius: 50%;\n",
              "    cursor: pointer;\n",
              "    display: none;\n",
              "    fill: var(--fill-color);\n",
              "    height: 32px;\n",
              "    padding: 0;\n",
              "    width: 32px;\n",
              "  }\n",
              "\n",
              "  .colab-df-quickchart:hover {\n",
              "    background-color: var(--hover-bg-color);\n",
              "    box-shadow: 0 1px 2px rgba(60, 64, 67, 0.3), 0 1px 3px 1px rgba(60, 64, 67, 0.15);\n",
              "    fill: var(--button-hover-fill-color);\n",
              "  }\n",
              "\n",
              "  .colab-df-quickchart-complete:disabled,\n",
              "  .colab-df-quickchart-complete:disabled:hover {\n",
              "    background-color: var(--disabled-bg-color);\n",
              "    fill: var(--disabled-fill-color);\n",
              "    box-shadow: none;\n",
              "  }\n",
              "\n",
              "  .colab-df-spinner {\n",
              "    border: 2px solid var(--fill-color);\n",
              "    border-color: transparent;\n",
              "    border-bottom-color: var(--fill-color);\n",
              "    animation:\n",
              "      spin 1s steps(1) infinite;\n",
              "  }\n",
              "\n",
              "  @keyframes spin {\n",
              "    0% {\n",
              "      border-color: transparent;\n",
              "      border-bottom-color: var(--fill-color);\n",
              "      border-left-color: var(--fill-color);\n",
              "    }\n",
              "    20% {\n",
              "      border-color: transparent;\n",
              "      border-left-color: var(--fill-color);\n",
              "      border-top-color: var(--fill-color);\n",
              "    }\n",
              "    30% {\n",
              "      border-color: transparent;\n",
              "      border-left-color: var(--fill-color);\n",
              "      border-top-color: var(--fill-color);\n",
              "      border-right-color: var(--fill-color);\n",
              "    }\n",
              "    40% {\n",
              "      border-color: transparent;\n",
              "      border-right-color: var(--fill-color);\n",
              "      border-top-color: var(--fill-color);\n",
              "    }\n",
              "    60% {\n",
              "      border-color: transparent;\n",
              "      border-right-color: var(--fill-color);\n",
              "    }\n",
              "    80% {\n",
              "      border-color: transparent;\n",
              "      border-right-color: var(--fill-color);\n",
              "      border-bottom-color: var(--fill-color);\n",
              "    }\n",
              "    90% {\n",
              "      border-color: transparent;\n",
              "      border-bottom-color: var(--fill-color);\n",
              "    }\n",
              "  }\n",
              "</style>\n",
              "\n",
              "  <script>\n",
              "    async function quickchart(key) {\n",
              "      const quickchartButtonEl =\n",
              "        document.querySelector('#' + key + ' button');\n",
              "      quickchartButtonEl.disabled = true;  // To prevent multiple clicks.\n",
              "      quickchartButtonEl.classList.add('colab-df-spinner');\n",
              "      try {\n",
              "        const charts = await google.colab.kernel.invokeFunction(\n",
              "            'suggestCharts', [key], {});\n",
              "      } catch (error) {\n",
              "        console.error('Error during call to suggestCharts:', error);\n",
              "      }\n",
              "      quickchartButtonEl.classList.remove('colab-df-spinner');\n",
              "      quickchartButtonEl.classList.add('colab-df-quickchart-complete');\n",
              "    }\n",
              "    (() => {\n",
              "      let quickchartButtonEl =\n",
              "        document.querySelector('#df-360bbdc4-3d51-40b9-bc6c-aef9d36f0c1d button');\n",
              "      quickchartButtonEl.style.display =\n",
              "        google.colab.kernel.accessAllowed ? 'block' : 'none';\n",
              "    })();\n",
              "  </script>\n",
              "</div>\n",
              "\n",
              "    </div>\n",
              "  </div>\n"
            ],
            "application/vnd.google.colaboratory.intrinsic+json": {
              "type": "dataframe",
              "variable_name": "df",
              "summary": "{\n  \"name\": \"df\",\n  \"rows\": 357,\n  \"fields\": [\n    {\n      \"column\": \"id\",\n      \"properties\": {\n        \"dtype\": \"string\",\n        \"num_unique_values\": 200,\n        \"samples\": [\n          \"95\",\n          \"15\",\n          \"30\"\n        ],\n        \"semantic_type\": \"\",\n        \"description\": \"\"\n      }\n    },\n    {\n      \"column\": \"news_url\",\n      \"properties\": {\n        \"dtype\": \"category\",\n        \"num_unique_values\": 39,\n        \"samples\": [\n          \"https://variety.com/2025/film/features/writers-guild-america-awards-2025-anora-complete-unknown-shogun-1236307324/\",\n          \"https://nptelegraph.com/life-entertainment/nation-world/wellness/weight-loss-drugs-alcohol-cravings-study-glp-1-semaglutide-ozempic-wegovy/article_5894baf5-1dcc-5839-a2e7-6fa71f555d82.html\",\n          \"https://www.politifact.com/personalities/social-media/\"\n        ],\n        \"semantic_type\": \"\",\n        \"description\": \"\"\n      }\n    },\n    {\n      \"column\": \"title\",\n      \"properties\": {\n        \"dtype\": \"string\",\n        \"num_unique_values\": 258,\n        \"samples\": [\n          \"Florida\\u2019s in-state college tuition waiver for immigrants in the country illegally costs the state $41 million.By Samantha Putterman \\u2022 February 6, 2025\",\n          \"Says U.S. Sen. Elizabeth Warren said, \\u201cThere is nothing in the Constitution that says ordinary citizens have a right to see what we spend our tax dollars on.\\u201dBy Ciara O'Rourke \\u2022 February 11, 2025\",\n          \"\\u201cThe very LIBERAL 9th Circuit Court has ruled that 84 of Biden's last-minute pardons are unconstitutional.\\u201dBy Ciara O'Rourke \\u2022 February 21, 2025\"\n        ],\n        \"semantic_type\": \"\",\n        \"description\": \"\"\n      }\n    },\n    {\n      \"column\": \"label\",\n      \"properties\": {\n        \"dtype\": \"number\",\n        \"std\": 0,\n        \"min\": 0,\n        \"max\": 1,\n        \"num_unique_values\": 2,\n        \"samples\": [\n          0,\n          1\n        ],\n        \"semantic_type\": \"\",\n        \"description\": \"\"\n      }\n    }\n  ]\n}"
            }
          },
          "metadata": {},
          "execution_count": 14
        }
      ]
    },
    {
      "cell_type": "code",
      "source": [
        "df.describe()"
      ],
      "metadata": {
        "id": "uLTT3DHB9Jko",
        "colab": {
          "base_uri": "https://localhost:8080/",
          "height": 300
        },
        "outputId": "fca95b1c-86c9-4b27-a581-d326c899bdd8"
      },
      "id": "uLTT3DHB9Jko",
      "execution_count": 15,
      "outputs": [
        {
          "output_type": "execute_result",
          "data": {
            "text/plain": [
              "            label\n",
              "count  357.000000\n",
              "mean     0.504202\n",
              "std      0.500684\n",
              "min      0.000000\n",
              "25%      0.000000\n",
              "50%      1.000000\n",
              "75%      1.000000\n",
              "max      1.000000"
            ],
            "text/html": [
              "\n",
              "  <div id=\"df-7280d186-4e1f-49c3-9b52-e3a7200a3239\" class=\"colab-df-container\">\n",
              "    <div>\n",
              "<style scoped>\n",
              "    .dataframe tbody tr th:only-of-type {\n",
              "        vertical-align: middle;\n",
              "    }\n",
              "\n",
              "    .dataframe tbody tr th {\n",
              "        vertical-align: top;\n",
              "    }\n",
              "\n",
              "    .dataframe thead th {\n",
              "        text-align: right;\n",
              "    }\n",
              "</style>\n",
              "<table border=\"1\" class=\"dataframe\">\n",
              "  <thead>\n",
              "    <tr style=\"text-align: right;\">\n",
              "      <th></th>\n",
              "      <th>label</th>\n",
              "    </tr>\n",
              "  </thead>\n",
              "  <tbody>\n",
              "    <tr>\n",
              "      <th>count</th>\n",
              "      <td>357.000000</td>\n",
              "    </tr>\n",
              "    <tr>\n",
              "      <th>mean</th>\n",
              "      <td>0.504202</td>\n",
              "    </tr>\n",
              "    <tr>\n",
              "      <th>std</th>\n",
              "      <td>0.500684</td>\n",
              "    </tr>\n",
              "    <tr>\n",
              "      <th>min</th>\n",
              "      <td>0.000000</td>\n",
              "    </tr>\n",
              "    <tr>\n",
              "      <th>25%</th>\n",
              "      <td>0.000000</td>\n",
              "    </tr>\n",
              "    <tr>\n",
              "      <th>50%</th>\n",
              "      <td>1.000000</td>\n",
              "    </tr>\n",
              "    <tr>\n",
              "      <th>75%</th>\n",
              "      <td>1.000000</td>\n",
              "    </tr>\n",
              "    <tr>\n",
              "      <th>max</th>\n",
              "      <td>1.000000</td>\n",
              "    </tr>\n",
              "  </tbody>\n",
              "</table>\n",
              "</div>\n",
              "    <div class=\"colab-df-buttons\">\n",
              "\n",
              "  <div class=\"colab-df-container\">\n",
              "    <button class=\"colab-df-convert\" onclick=\"convertToInteractive('df-7280d186-4e1f-49c3-9b52-e3a7200a3239')\"\n",
              "            title=\"Convert this dataframe to an interactive table.\"\n",
              "            style=\"display:none;\">\n",
              "\n",
              "  <svg xmlns=\"http://www.w3.org/2000/svg\" height=\"24px\" viewBox=\"0 -960 960 960\">\n",
              "    <path d=\"M120-120v-720h720v720H120Zm60-500h600v-160H180v160Zm220 220h160v-160H400v160Zm0 220h160v-160H400v160ZM180-400h160v-160H180v160Zm440 0h160v-160H620v160ZM180-180h160v-160H180v160Zm440 0h160v-160H620v160Z\"/>\n",
              "  </svg>\n",
              "    </button>\n",
              "\n",
              "  <style>\n",
              "    .colab-df-container {\n",
              "      display:flex;\n",
              "      gap: 12px;\n",
              "    }\n",
              "\n",
              "    .colab-df-convert {\n",
              "      background-color: #E8F0FE;\n",
              "      border: none;\n",
              "      border-radius: 50%;\n",
              "      cursor: pointer;\n",
              "      display: none;\n",
              "      fill: #1967D2;\n",
              "      height: 32px;\n",
              "      padding: 0 0 0 0;\n",
              "      width: 32px;\n",
              "    }\n",
              "\n",
              "    .colab-df-convert:hover {\n",
              "      background-color: #E2EBFA;\n",
              "      box-shadow: 0px 1px 2px rgba(60, 64, 67, 0.3), 0px 1px 3px 1px rgba(60, 64, 67, 0.15);\n",
              "      fill: #174EA6;\n",
              "    }\n",
              "\n",
              "    .colab-df-buttons div {\n",
              "      margin-bottom: 4px;\n",
              "    }\n",
              "\n",
              "    [theme=dark] .colab-df-convert {\n",
              "      background-color: #3B4455;\n",
              "      fill: #D2E3FC;\n",
              "    }\n",
              "\n",
              "    [theme=dark] .colab-df-convert:hover {\n",
              "      background-color: #434B5C;\n",
              "      box-shadow: 0px 1px 3px 1px rgba(0, 0, 0, 0.15);\n",
              "      filter: drop-shadow(0px 1px 2px rgba(0, 0, 0, 0.3));\n",
              "      fill: #FFFFFF;\n",
              "    }\n",
              "  </style>\n",
              "\n",
              "    <script>\n",
              "      const buttonEl =\n",
              "        document.querySelector('#df-7280d186-4e1f-49c3-9b52-e3a7200a3239 button.colab-df-convert');\n",
              "      buttonEl.style.display =\n",
              "        google.colab.kernel.accessAllowed ? 'block' : 'none';\n",
              "\n",
              "      async function convertToInteractive(key) {\n",
              "        const element = document.querySelector('#df-7280d186-4e1f-49c3-9b52-e3a7200a3239');\n",
              "        const dataTable =\n",
              "          await google.colab.kernel.invokeFunction('convertToInteractive',\n",
              "                                                    [key], {});\n",
              "        if (!dataTable) return;\n",
              "\n",
              "        const docLinkHtml = 'Like what you see? Visit the ' +\n",
              "          '<a target=\"_blank\" href=https://colab.research.google.com/notebooks/data_table.ipynb>data table notebook</a>'\n",
              "          + ' to learn more about interactive tables.';\n",
              "        element.innerHTML = '';\n",
              "        dataTable['output_type'] = 'display_data';\n",
              "        await google.colab.output.renderOutput(dataTable, element);\n",
              "        const docLink = document.createElement('div');\n",
              "        docLink.innerHTML = docLinkHtml;\n",
              "        element.appendChild(docLink);\n",
              "      }\n",
              "    </script>\n",
              "  </div>\n",
              "\n",
              "\n",
              "<div id=\"df-ae0e68a4-f59c-4917-b863-0d964dacd912\">\n",
              "  <button class=\"colab-df-quickchart\" onclick=\"quickchart('df-ae0e68a4-f59c-4917-b863-0d964dacd912')\"\n",
              "            title=\"Suggest charts\"\n",
              "            style=\"display:none;\">\n",
              "\n",
              "<svg xmlns=\"http://www.w3.org/2000/svg\" height=\"24px\"viewBox=\"0 0 24 24\"\n",
              "     width=\"24px\">\n",
              "    <g>\n",
              "        <path d=\"M19 3H5c-1.1 0-2 .9-2 2v14c0 1.1.9 2 2 2h14c1.1 0 2-.9 2-2V5c0-1.1-.9-2-2-2zM9 17H7v-7h2v7zm4 0h-2V7h2v10zm4 0h-2v-4h2v4z\"/>\n",
              "    </g>\n",
              "</svg>\n",
              "  </button>\n",
              "\n",
              "<style>\n",
              "  .colab-df-quickchart {\n",
              "      --bg-color: #E8F0FE;\n",
              "      --fill-color: #1967D2;\n",
              "      --hover-bg-color: #E2EBFA;\n",
              "      --hover-fill-color: #174EA6;\n",
              "      --disabled-fill-color: #AAA;\n",
              "      --disabled-bg-color: #DDD;\n",
              "  }\n",
              "\n",
              "  [theme=dark] .colab-df-quickchart {\n",
              "      --bg-color: #3B4455;\n",
              "      --fill-color: #D2E3FC;\n",
              "      --hover-bg-color: #434B5C;\n",
              "      --hover-fill-color: #FFFFFF;\n",
              "      --disabled-bg-color: #3B4455;\n",
              "      --disabled-fill-color: #666;\n",
              "  }\n",
              "\n",
              "  .colab-df-quickchart {\n",
              "    background-color: var(--bg-color);\n",
              "    border: none;\n",
              "    border-radius: 50%;\n",
              "    cursor: pointer;\n",
              "    display: none;\n",
              "    fill: var(--fill-color);\n",
              "    height: 32px;\n",
              "    padding: 0;\n",
              "    width: 32px;\n",
              "  }\n",
              "\n",
              "  .colab-df-quickchart:hover {\n",
              "    background-color: var(--hover-bg-color);\n",
              "    box-shadow: 0 1px 2px rgba(60, 64, 67, 0.3), 0 1px 3px 1px rgba(60, 64, 67, 0.15);\n",
              "    fill: var(--button-hover-fill-color);\n",
              "  }\n",
              "\n",
              "  .colab-df-quickchart-complete:disabled,\n",
              "  .colab-df-quickchart-complete:disabled:hover {\n",
              "    background-color: var(--disabled-bg-color);\n",
              "    fill: var(--disabled-fill-color);\n",
              "    box-shadow: none;\n",
              "  }\n",
              "\n",
              "  .colab-df-spinner {\n",
              "    border: 2px solid var(--fill-color);\n",
              "    border-color: transparent;\n",
              "    border-bottom-color: var(--fill-color);\n",
              "    animation:\n",
              "      spin 1s steps(1) infinite;\n",
              "  }\n",
              "\n",
              "  @keyframes spin {\n",
              "    0% {\n",
              "      border-color: transparent;\n",
              "      border-bottom-color: var(--fill-color);\n",
              "      border-left-color: var(--fill-color);\n",
              "    }\n",
              "    20% {\n",
              "      border-color: transparent;\n",
              "      border-left-color: var(--fill-color);\n",
              "      border-top-color: var(--fill-color);\n",
              "    }\n",
              "    30% {\n",
              "      border-color: transparent;\n",
              "      border-left-color: var(--fill-color);\n",
              "      border-top-color: var(--fill-color);\n",
              "      border-right-color: var(--fill-color);\n",
              "    }\n",
              "    40% {\n",
              "      border-color: transparent;\n",
              "      border-right-color: var(--fill-color);\n",
              "      border-top-color: var(--fill-color);\n",
              "    }\n",
              "    60% {\n",
              "      border-color: transparent;\n",
              "      border-right-color: var(--fill-color);\n",
              "    }\n",
              "    80% {\n",
              "      border-color: transparent;\n",
              "      border-right-color: var(--fill-color);\n",
              "      border-bottom-color: var(--fill-color);\n",
              "    }\n",
              "    90% {\n",
              "      border-color: transparent;\n",
              "      border-bottom-color: var(--fill-color);\n",
              "    }\n",
              "  }\n",
              "</style>\n",
              "\n",
              "  <script>\n",
              "    async function quickchart(key) {\n",
              "      const quickchartButtonEl =\n",
              "        document.querySelector('#' + key + ' button');\n",
              "      quickchartButtonEl.disabled = true;  // To prevent multiple clicks.\n",
              "      quickchartButtonEl.classList.add('colab-df-spinner');\n",
              "      try {\n",
              "        const charts = await google.colab.kernel.invokeFunction(\n",
              "            'suggestCharts', [key], {});\n",
              "      } catch (error) {\n",
              "        console.error('Error during call to suggestCharts:', error);\n",
              "      }\n",
              "      quickchartButtonEl.classList.remove('colab-df-spinner');\n",
              "      quickchartButtonEl.classList.add('colab-df-quickchart-complete');\n",
              "    }\n",
              "    (() => {\n",
              "      let quickchartButtonEl =\n",
              "        document.querySelector('#df-ae0e68a4-f59c-4917-b863-0d964dacd912 button');\n",
              "      quickchartButtonEl.style.display =\n",
              "        google.colab.kernel.accessAllowed ? 'block' : 'none';\n",
              "    })();\n",
              "  </script>\n",
              "</div>\n",
              "\n",
              "    </div>\n",
              "  </div>\n"
            ],
            "application/vnd.google.colaboratory.intrinsic+json": {
              "type": "dataframe",
              "summary": "{\n  \"name\": \"df\",\n  \"rows\": 8,\n  \"fields\": [\n    {\n      \"column\": \"label\",\n      \"properties\": {\n        \"dtype\": \"number\",\n        \"std\": 126.01697105741522,\n        \"min\": 0.0,\n        \"max\": 357.0,\n        \"num_unique_values\": 5,\n        \"samples\": [\n          0.5042016806722689,\n          1.0,\n          0.5006840755209944\n        ],\n        \"semantic_type\": \"\",\n        \"description\": \"\"\n      }\n    }\n  ]\n}"
            }
          },
          "metadata": {},
          "execution_count": 15
        }
      ]
    },
    {
      "cell_type": "code",
      "source": [
        "# df.dropna()"
      ],
      "metadata": {
        "id": "YzTzi_N0dybd"
      },
      "id": "YzTzi_N0dybd",
      "execution_count": 16,
      "outputs": []
    },
    {
      "cell_type": "code",
      "source": [
        "df[\"clean_text\"] = df[\"title\"].apply(clean_text)\n",
        "df[\"processed_text\"] = df[\"clean_text\"].apply(preprocess_text)\n",
        "df[\"sentiment\"] = df[\"processed_text\"].apply(sentiment_score)\n",
        "\n",
        "print(\"Data processing completed successfully!\")\n",
        "print(df[[\"title\", \"clean_text\", \"processed_text\", \"sentiment\"]].head())"
      ],
      "metadata": {
        "colab": {
          "base_uri": "https://localhost:8080/"
        },
        "id": "5kFGgYoyefCP",
        "outputId": "4e16becc-4db6-44c1-ee6c-c53661a55cf3"
      },
      "id": "5kFGgYoyefCP",
      "execution_count": 17,
      "outputs": [
        {
          "output_type": "stream",
          "name": "stdout",
          "text": [
            "Data processing completed successfully!\n",
            "                                               title  \\\n",
            "0  “Delta plane that crashed in Toronto operated ...   \n",
            "1  Says Luigi Mangione posted on X, “He who saves...   \n",
            "2  “The media is showing how Obama’s birth certif...   \n",
            "3  President Joe Biden’s immigration policy was “...   \n",
            "4  El congresista Adriano Espaillat muestra “La n...   \n",
            "\n",
            "                                          clean_text  \\\n",
            "0  delta plane that crashed in toronto operated b...   \n",
            "1  says luigi mangione posted on x he who saves h...   \n",
            "2  the media is showing how obamas birth certific...   \n",
            "3  president joe bidens immigration policy was a ...   \n",
            "4  el congresista adriano espaillat muestra la nu...   \n",
            "\n",
            "                                      processed_text  sentiment  \n",
            "0  delta plane crashed toronto operated endeavor ...        0.0  \n",
            "1  say luigi mangione posted x save country viola...        0.0  \n",
            "2  medium showing obamas birth certificate change...       -0.1  \n",
            "3  president joe bidens immigration policy giant ...        0.0  \n",
            "4  el congresista adriano espaillat muestra la nu...        0.0  \n"
          ]
        }
      ]
    },
    {
      "cell_type": "markdown",
      "source": [
        "FEATURE ENGINEERING"
      ],
      "metadata": {
        "id": "2d4l2HYr7cw4"
      },
      "id": "2d4l2HYr7cw4"
    },
    {
      "cell_type": "code",
      "source": [
        "# Word count\n",
        "df['word_count'] = df['clean_text'].apply(lambda x: len(x.split()))\n",
        "\n",
        "# Character count\n",
        "df['char_count'] = df['clean_text'].apply(lambda x: len(x))\n"
      ],
      "metadata": {
        "id": "6Lvo-SRo60iN"
      },
      "id": "6Lvo-SRo60iN",
      "execution_count": 18,
      "outputs": []
    },
    {
      "cell_type": "code",
      "source": [
        "# Average word length\n",
        "df['avg_word_length'] = df['char_count'] / (df['word_count'] + 1)\n"
      ],
      "metadata": {
        "id": "7z9ZP_1D60tf"
      },
      "id": "7z9ZP_1D60tf",
      "execution_count": 19,
      "outputs": []
    },
    {
      "cell_type": "code",
      "source": [
        "# Stopword count\n",
        "from nltk.corpus import stopwords\n",
        "stop_words = set(stopwords.words('english'))\n",
        "\n",
        "df['stopword_count'] = df['clean_text'].apply(\n",
        "    lambda x: len([word for word in x.split() if word in stop_words])\n",
        ")\n"
      ],
      "metadata": {
        "id": "vfSQvQmi60wO"
      },
      "id": "vfSQvQmi60wO",
      "execution_count": 20,
      "outputs": []
    },
    {
      "cell_type": "code",
      "source": [
        "# Subjectivity\n",
        "df['subjectivity'] = df['processed_text'].apply(lambda x: TextBlob(x).sentiment.subjectivity)\n"
      ],
      "metadata": {
        "id": "iaOxtDE760z0"
      },
      "id": "iaOxtDE760z0",
      "execution_count": 21,
      "outputs": []
    },
    {
      "cell_type": "code",
      "source": [
        "# Named entity count\n",
        "def count_named_entities(text):\n",
        "    doc = nlp(text)\n",
        "    return len(doc.ents)\n",
        "\n",
        "df['entity_count'] = df['processed_text'].apply(count_named_entities)\n"
      ],
      "metadata": {
        "id": "lYFekOSY8_v6"
      },
      "id": "lYFekOSY8_v6",
      "execution_count": 22,
      "outputs": []
    },
    {
      "cell_type": "code",
      "source": [
        "# POS features\n",
        "def pos_counts(text):\n",
        "    doc = nlp(text)\n",
        "    noun_count = sum(1 for token in doc if token.pos_ == 'NOUN')\n",
        "    verb_count = sum(1 for token in doc if token.pos_ == 'VERB')\n",
        "    adj_count = sum(1 for token in doc if token.pos_ == 'ADJ')\n",
        "    return noun_count, verb_count, adj_count\n",
        "\n",
        "df[['noun_count', 'verb_count', 'adj_count']] = df['processed_text'].apply(\n",
        "    lambda x: pd.Series(pos_counts(x))\n",
        ")\n"
      ],
      "metadata": {
        "id": "2LH-8dK59E7P"
      },
      "id": "2LH-8dK59E7P",
      "execution_count": 23,
      "outputs": []
    },
    {
      "cell_type": "code",
      "source": [
        "# Count of uppercase words\n",
        "df['uppercase_count'] = df['clean_text'].apply(\n",
        "    lambda x: sum(1 for word in x.split() if word.isupper())\n",
        ")\n"
      ],
      "metadata": {
        "id": "df-Uf8HC9OsX"
      },
      "id": "df-Uf8HC9OsX",
      "execution_count": 24,
      "outputs": []
    },
    {
      "cell_type": "code",
      "source": [
        "# Exclamation mark count\n",
        "df['exclamation_count'] = df['clean_text'].apply(lambda x: x.count('!'))\n"
      ],
      "metadata": {
        "id": "e8D1rzW89OwM"
      },
      "id": "e8D1rzW89OwM",
      "execution_count": 25,
      "outputs": []
    },
    {
      "cell_type": "code",
      "source": [
        "df.to_csv(\"real_time_data_processed_with_features.csv\", index=False)\n",
        "print(\"Feature engineering completed and dataset saved!\")\n"
      ],
      "metadata": {
        "colab": {
          "base_uri": "https://localhost:8080/"
        },
        "id": "yOScgiK69O0c",
        "outputId": "c5f8c9de-39f5-458b-db18-28fc36798233"
      },
      "id": "yOScgiK69O0c",
      "execution_count": 26,
      "outputs": [
        {
          "output_type": "stream",
          "name": "stdout",
          "text": [
            "Feature engineering completed and dataset saved!\n"
          ]
        }
      ]
    },
    {
      "cell_type": "code",
      "source": [
        "from google.colab import files\n",
        "\n",
        "files.download(\"real_time_data_processed_with_features.csv\")\n"
      ],
      "metadata": {
        "colab": {
          "base_uri": "https://localhost:8080/",
          "height": 17
        },
        "id": "RP_bdzKqCgjO",
        "outputId": "760f37e7-d598-4fe0-84d5-3974f3fcec4b"
      },
      "id": "RP_bdzKqCgjO",
      "execution_count": 27,
      "outputs": [
        {
          "output_type": "display_data",
          "data": {
            "text/plain": [
              "<IPython.core.display.Javascript object>"
            ],
            "application/javascript": [
              "\n",
              "    async function download(id, filename, size) {\n",
              "      if (!google.colab.kernel.accessAllowed) {\n",
              "        return;\n",
              "      }\n",
              "      const div = document.createElement('div');\n",
              "      const label = document.createElement('label');\n",
              "      label.textContent = `Downloading \"${filename}\": `;\n",
              "      div.appendChild(label);\n",
              "      const progress = document.createElement('progress');\n",
              "      progress.max = size;\n",
              "      div.appendChild(progress);\n",
              "      document.body.appendChild(div);\n",
              "\n",
              "      const buffers = [];\n",
              "      let downloaded = 0;\n",
              "\n",
              "      const channel = await google.colab.kernel.comms.open(id);\n",
              "      // Send a message to notify the kernel that we're ready.\n",
              "      channel.send({})\n",
              "\n",
              "      for await (const message of channel.messages) {\n",
              "        // Send a message to notify the kernel that we're ready.\n",
              "        channel.send({})\n",
              "        if (message.buffers) {\n",
              "          for (const buffer of message.buffers) {\n",
              "            buffers.push(buffer);\n",
              "            downloaded += buffer.byteLength;\n",
              "            progress.value = downloaded;\n",
              "          }\n",
              "        }\n",
              "      }\n",
              "      const blob = new Blob(buffers, {type: 'application/binary'});\n",
              "      const a = document.createElement('a');\n",
              "      a.href = window.URL.createObjectURL(blob);\n",
              "      a.download = filename;\n",
              "      div.appendChild(a);\n",
              "      a.click();\n",
              "      div.remove();\n",
              "    }\n",
              "  "
            ]
          },
          "metadata": {}
        },
        {
          "output_type": "display_data",
          "data": {
            "text/plain": [
              "<IPython.core.display.Javascript object>"
            ],
            "application/javascript": [
              "download(\"download_ec0b7c84-d8b3-47de-b94d-4495b3e73521\", \"real_time_data_processed_with_features.csv\", 143018)"
            ]
          },
          "metadata": {}
        }
      ]
    },
    {
      "cell_type": "markdown",
      "source": [
        "WEEK 4"
      ],
      "metadata": {
        "id": "rHl57moAdBOW"
      },
      "id": "rHl57moAdBOW"
    },
    {
      "cell_type": "markdown",
      "source": [
        "Step 1: Load Preprocessed Dataset"
      ],
      "metadata": {
        "id": "pdROI1oag-T2"
      },
      "id": "pdROI1oag-T2"
    },
    {
      "cell_type": "code",
      "source": [
        "# import pandas as pd\n",
        "\n",
        "# # URL to the processed_with_features.csv file\n",
        "# real_time_processed_data_url = \"https://raw.githubusercontent.com/prynka1808/Team-03-Fake-News-Detection-Finale-Project/main/Data Preprocessing/real_time_data_processed_with_features.csv\"\n",
        "\n",
        "# # Data Preprocessing/real_time_data_processed_with_features.csv\n",
        "# # Load the dataset\n",
        "# try:\n",
        "#     all_data = pd.read_csv(processed_data_url)\n",
        "#     print(\"Processed dataset loaded successfully!\")\n",
        "# except Exception as e:\n",
        "#     print(f\"Error loading the processed dataset: {e}\")\n",
        "\n",
        "# # Preview the dataset\n",
        "# print(all_data.head())\n"
      ],
      "metadata": {
        "id": "N_6kCjliCgmv"
      },
      "id": "N_6kCjliCgmv",
      "execution_count": 28,
      "outputs": []
    },
    {
      "cell_type": "markdown",
      "source": [
        "Step 2: Preparing the Data for Modeling"
      ],
      "metadata": {
        "id": "B6nC3xa2gyi2"
      },
      "id": "B6nC3xa2gyi2"
    },
    {
      "cell_type": "code",
      "source": [
        "from sklearn.model_selection import train_test_split\n",
        "from sklearn.feature_extraction.text import TfidfVectorizer\n",
        "\n",
        "# Split the dataset into features (X) and target (y)\n",
        "X = df['processed_text']  # The processed text feature\n",
        "y = df['label']  # The target labels (1 = Fake, 0 = Real)\n",
        "\n",
        "\n",
        "\n",
        "# Split into training and testing sets\n",
        "X_train, X_test, y_train, y_test = train_test_split(X, y, test_size=0.2, random_state=42)\n",
        "\n",
        "# # Convert text data into TF-IDF embeddings\n",
        "# tfidf_vectorizer = TfidfVectorizer(max_features=5000)\n",
        "# X_train_tfidf = tfidf_vectorizer.fit_transform(X_train)\n",
        "# X_test_tfidf = tfidf_vectorizer.transform(X_test)\n",
        "\n",
        "tfidf = TfidfVectorizer()\n",
        "X_train_tfidf = tfidf.fit_transform(X_train)  # shape will be (283, vocab_size)\n",
        "X_test_tfidf = tfidf.transform(X_test)\n",
        "\n",
        "print(\"TF-IDF transformation completed!\")\n"
      ],
      "metadata": {
        "colab": {
          "base_uri": "https://localhost:8080/"
        },
        "id": "AG6XnX0wdMJk",
        "outputId": "76eae60e-f25f-4aab-e0af-9b7ed13b8c06"
      },
      "id": "AG6XnX0wdMJk",
      "execution_count": 29,
      "outputs": [
        {
          "output_type": "stream",
          "name": "stdout",
          "text": [
            "TF-IDF transformation completed!\n"
          ]
        }
      ]
    },
    {
      "cell_type": "code",
      "source": [
        "print(X_train.shape )\n",
        "print(X_test.shape)"
      ],
      "metadata": {
        "colab": {
          "base_uri": "https://localhost:8080/"
        },
        "id": "BpMTvNfIjebx",
        "outputId": "447d447f-03e9-4d59-ccfb-e9a804a6f9fd"
      },
      "id": "BpMTvNfIjebx",
      "execution_count": 30,
      "outputs": [
        {
          "output_type": "stream",
          "name": "stdout",
          "text": [
            "(285,)\n",
            "(72,)\n"
          ]
        }
      ]
    },
    {
      "cell_type": "markdown",
      "source": [
        "Step 3: Build and Train Logistic Regression"
      ],
      "metadata": {
        "id": "3SOLck3fhGJx"
      },
      "id": "3SOLck3fhGJx"
    },
    {
      "cell_type": "code",
      "source": [
        "from sklearn.linear_model import LogisticRegression\n",
        "from sklearn.metrics import accuracy_score, classification_report\n",
        "\n",
        "# Initialize and train the Logistic Regression model\n",
        "logistic_model = LogisticRegression()\n",
        "logistic_model.fit(X_train_tfidf, y_train)\n",
        "\n",
        "# Evaluate the model on the test data\n",
        "y_pred_lr = logistic_model.predict(X_test_tfidf)\n",
        "print(\"Logistic Regression Accuracy:\", accuracy_score(y_test, y_pred_lr))\n",
        "print(classification_report(y_test, y_pred_lr))\n"
      ],
      "metadata": {
        "colab": {
          "base_uri": "https://localhost:8080/"
        },
        "id": "lWJBcuazdOJn",
        "outputId": "23962bdd-91f1-4c08-fffe-16835f8553ef"
      },
      "id": "lWJBcuazdOJn",
      "execution_count": 31,
      "outputs": [
        {
          "output_type": "stream",
          "name": "stdout",
          "text": [
            "Logistic Regression Accuracy: 0.9861111111111112\n",
            "              precision    recall  f1-score   support\n",
            "\n",
            "           0       1.00      0.97      0.99        35\n",
            "           1       0.97      1.00      0.99        37\n",
            "\n",
            "    accuracy                           0.99        72\n",
            "   macro avg       0.99      0.99      0.99        72\n",
            "weighted avg       0.99      0.99      0.99        72\n",
            "\n"
          ]
        }
      ]
    },
    {
      "cell_type": "markdown",
      "source": [
        "Step 4: Build and Train Support Vector Machine (SVM)"
      ],
      "metadata": {
        "id": "TfbCTpwwhRxY"
      },
      "id": "TfbCTpwwhRxY"
    },
    {
      "cell_type": "code",
      "source": [
        "from sklearn.svm import SVC\n",
        "\n",
        "# Initialize and train the SVM model\n",
        "svm_model = SVC(kernel='linear')\n",
        "svm_model.fit(X_train_tfidf, y_train)\n",
        "\n",
        "# Evaluate the model on the test data\n",
        "y_pred_svm = svm_model.predict(X_test_tfidf)\n",
        "print(\"SVM Accuracy:\", accuracy_score(y_test, y_pred_svm))\n",
        "print(classification_report(y_test, y_pred_svm))\n"
      ],
      "metadata": {
        "colab": {
          "base_uri": "https://localhost:8080/"
        },
        "id": "TqdilhgEhMOd",
        "outputId": "ef055d86-10bf-4dbe-9f83-e5ee5af3dc80"
      },
      "id": "TqdilhgEhMOd",
      "execution_count": 32,
      "outputs": [
        {
          "output_type": "stream",
          "name": "stdout",
          "text": [
            "SVM Accuracy: 0.9861111111111112\n",
            "              precision    recall  f1-score   support\n",
            "\n",
            "           0       1.00      0.97      0.99        35\n",
            "           1       0.97      1.00      0.99        37\n",
            "\n",
            "    accuracy                           0.99        72\n",
            "   macro avg       0.99      0.99      0.99        72\n",
            "weighted avg       0.99      0.99      0.99        72\n",
            "\n"
          ]
        }
      ]
    },
    {
      "cell_type": "markdown",
      "source": [
        "Step 5: Save the Models and Embeddings"
      ],
      "metadata": {
        "id": "-Yth6sKTh4Fj"
      },
      "id": "-Yth6sKTh4Fj"
    },
    {
      "cell_type": "code",
      "source": [
        "# import pickle\n",
        "\n",
        "# # Save the TF-IDF vectorizer\n",
        "# with open(\"Dataset/tfidf_vectorizer.pkl\", \"wb\") as f:\n",
        "#     pickle.dump(tfidf_vectorizer, f)\n",
        "# print(\"TF-IDF vectorizer saved!\")\n"
      ],
      "metadata": {
        "id": "68CiN1Z4hMSJ"
      },
      "id": "68CiN1Z4hMSJ",
      "execution_count": 33,
      "outputs": []
    },
    {
      "cell_type": "code",
      "source": [
        "# # Save Logistic Regression model\n",
        "# with open(\"Dataset/logistic_model.pkl\", \"wb\") as f:\n",
        "#     pickle.dump(logistic_model, f)\n",
        "# print(\"Logistic Regression model saved!\")\n",
        "\n",
        "# # Save SVM model\n",
        "# with open(\"Dataset/svm_model.pkl\", \"wb\") as f:\n",
        "#     pickle.dump(svm_model, f)\n",
        "# print(\"SVM model saved!\")\n"
      ],
      "metadata": {
        "id": "9d6VogRHhgGV"
      },
      "id": "9d6VogRHhgGV",
      "execution_count": 34,
      "outputs": []
    },
    {
      "cell_type": "code",
      "source": [
        "# !ls /content/Dataset\n"
      ],
      "metadata": {
        "id": "wqAgyIothgRR"
      },
      "id": "wqAgyIothgRR",
      "execution_count": 35,
      "outputs": []
    },
    {
      "cell_type": "code",
      "source": [
        "# import shutil\n",
        "\n",
        "# # Zip the Dataset folder\n",
        "# shutil.make_archive(\"Dataset\", \"zip\", \"Dataset\")\n",
        "\n",
        "# # Download the zip file\n",
        "# files.download(\"Dataset.zip\")\n"
      ],
      "metadata": {
        "id": "InSSkG1miFE4"
      },
      "id": "InSSkG1miFE4",
      "execution_count": 36,
      "outputs": []
    },
    {
      "cell_type": "markdown",
      "source": [
        "Week 5 Training advanced NLP models (BERT, RoBERTa, and DistilBERT) for fake news classification."
      ],
      "metadata": {
        "id": "kErawgXOon9D"
      },
      "id": "kErawgXOon9D"
    },
    {
      "cell_type": "markdown",
      "source": [
        "1. Install required Libraries"
      ],
      "metadata": {
        "id": "ETjFShTopfYh"
      },
      "id": "ETjFShTopfYh"
    },
    {
      "cell_type": "code",
      "source": [
        "# pip install transformers datasets scikit-learn\n"
      ],
      "metadata": {
        "id": "IEauyrhjmRyh"
      },
      "id": "IEauyrhjmRyh",
      "execution_count": 38,
      "outputs": []
    },
    {
      "cell_type": "markdown",
      "source": [
        "2. Load Data"
      ],
      "metadata": {
        "id": "XDV2aPNxpkpO"
      },
      "id": "XDV2aPNxpkpO"
    },
    {
      "cell_type": "code",
      "source": [
        "# import pandas as pd\n",
        "# from sklearn.model_selection import train_test_split\n",
        "from datasets import Dataset\n",
        "\n",
        "# 1. Load the CSV\n",
        "df = pd.read_csv(\"FakeNewsNet_combined.csv\")\n",
        "\n",
        "# 2. Decide which column has the text\n",
        "#    E.g., if your DataFrame has \"title\" as the text:\n",
        "text_column = \"title\"\n",
        "\n",
        "# 3. We'll assume there's a \"label\" column with values 0 or 1\n",
        "label_column = \"label\"\n",
        "\n",
        "# 4. Train-test split\n",
        "train_df, val_df = train_test_split(df, test_size=0.2, random_state=42, shuffle=True)\n",
        "\n",
        "# 5. Convert to Hugging Face Dataset objects\n",
        "train_dataset = Dataset.from_pandas(train_df.reset_index(drop=True))\n",
        "val_dataset = Dataset.from_pandas(val_df.reset_index(drop=True))\n"
      ],
      "metadata": {
        "id": "WNA8dLc4mR_r"
      },
      "id": "WNA8dLc4mR_r",
      "execution_count": 40,
      "outputs": []
    },
    {
      "cell_type": "markdown",
      "source": [
        "3. Choose a Model (BERT, RoBERTa, or DistilBERT)"
      ],
      "metadata": {
        "id": "thPzGMQ5pqbt"
      },
      "id": "thPzGMQ5pqbt"
    },
    {
      "cell_type": "code",
      "source": [
        "model_name = \"bert-base-uncased\"         # BERT\n",
        "model_name = \"roberta-base\"            # RoBERTa\n",
        "model_name = \"distilbert-base-uncased\" # DistilBERT\n"
      ],
      "metadata": {
        "id": "ly-OgVK3o-Ll"
      },
      "id": "ly-OgVK3o-Ll",
      "execution_count": 42,
      "outputs": []
    },
    {
      "cell_type": "markdown",
      "source": [
        "4. Tokenize the Data"
      ],
      "metadata": {
        "id": "jkDfLNbmpyA-"
      },
      "id": "jkDfLNbmpyA-"
    },
    {
      "cell_type": "code",
      "source": [
        "from transformers import AutoTokenizer\n",
        "\n",
        "tokenizer = AutoTokenizer.from_pretrained(model_name)\n",
        "\n",
        "def tokenize_function(example):\n",
        "    return tokenizer(\n",
        "        example[text_column],\n",
        "        truncation=True,\n",
        "        padding=\"max_length\",\n",
        "        max_length=128\n",
        "    )\n",
        "\n",
        "# Apply to train and validation sets\n",
        "train_dataset = train_dataset.map(tokenize_function, batched=True)\n",
        "val_dataset   = val_dataset.map(tokenize_function,   batched=True)\n"
      ],
      "metadata": {
        "colab": {
          "base_uri": "https://localhost:8080/",
          "height": 333,
          "referenced_widgets": [
            "33492ca7e79741f990c9edc07a0a8aa6",
            "373823e46237458cb388984219344e56",
            "fe8532f90e2e4600b7e4e2d406a2e6cd",
            "f68638aa6b0c48aa8e5f4439a2143f28",
            "4498dd094b7940f09c90d513bbcdff02",
            "7e4e87ddbd464311b81686610a4d394f",
            "301f17ba467b42dd906b4fbba819486f",
            "2511e2daefa642cf964b30c39c2a5a0d",
            "a21f418671234eeea5eb8f6348005c5b",
            "9d9826a7b0b64f23907ef74bdef61bd5",
            "e5eb0363e7fb42828534f3383373442d",
            "96bf0889c22a4f2594543e7c148845d6",
            "adc0cd608c4f48f1898f9c354bf34039",
            "c4ad1d2682784ac79480616dc9fa2907",
            "cbba12d71ed14baa8e2fccdee59163de",
            "1ae26687a1674e3f9a0a14bec0e115c6",
            "877ba2221c21438a94c6aa897a0116e9",
            "119293e3ed49443db9c21ec19c23750b",
            "ce684c84c6b943a8a492bc0797072d13",
            "36269c7c0c854464bdd4913ab0623f84",
            "44f283e7918b474ebc35e9124a83ddc1",
            "79321caafbd347b9b7f348e782169f93",
            "5f2ef73d25704c5ba031866ae5d3b7aa",
            "0a04691917c84732acb4b2975625ac09",
            "25e639f404344d6e9b49f76a895c15b5",
            "8470438c2c1b4f95bbc8b58ac862c806",
            "4d22df5373924ccd8b80272ad62371d9",
            "b1a4b9a3714445e7bd1e3ebd58d75370",
            "31ed16c3c7854bc9aad55c223a66c3ee",
            "4f0b05222a474be2babe5dc62a399b52",
            "e87a0303faf94ef881071fa6014dc5cf",
            "b760360a8d26447cb8fac69f1b718ee7",
            "9df0b60a99a44279bf165a92808e919d",
            "7bd68304755c49dd8b3ea120e501face",
            "583d96a5f25a473da400aef49d269630",
            "c19cdce674a04475841c0d0a8168d1ef",
            "ccd735d316cd452d95f34673478cc634",
            "44f35efd477940ef895d9321e36afb79",
            "81aaca9ed4ac4ec69d6182625584cf94",
            "bcbf1e71574147d69ba006a963a605f4",
            "265c7c0bc760460ab815cf3ef16c0610",
            "8e3820765df1439a9064d5f108e394a1",
            "fc60139effaf43d48671a144bbfe8e31",
            "e71b91925fd54201a75a1f5170de93b4",
            "9d76537b3ee04eaeb5520b2d0b2b400e",
            "10673273738d4bdebb68631596079c05",
            "4bc2f37974a344d5a7180a24896b76d9",
            "dfa3c759a5904b109a39d3025e5bf3d8",
            "dfd82557e1b34646b4173a5394c3fbbb",
            "5dfe78e990104d39b03510de38014c66",
            "e635152969ea484eacfc2ed39d4555bf",
            "f0239b960cd346cfbe2ee856d7a10647",
            "b98ca3f2e9454dd4a07d245cf3ccc6a1",
            "1edf183677c348faa48c334574e2a870",
            "ce286fcd4f854aea950d79a8eaf4d411",
            "900424bc81234f90a0f5fae5ee42d6cd",
            "3e422ca3047d47c7915dd59cb3ca6e64",
            "afe4a33c8aa84a14b50719c634c11f6f",
            "159f300e05a642b9b251f6398bdd319a",
            "861703abaf97401ba2fb8a2e481e6035",
            "bfaeebbf024c457793c4438006decf34",
            "f65c2041c98942e7826b416ccd88fb2e",
            "1219573379b04ab98741fbeab8bfc932",
            "1faece14543f42989924ff3eb746ffed",
            "fe10491bb25d4308876fbfd80645a48c",
            "f149960a0c3340aa98c90ff7716c41ce"
          ]
        },
        "id": "rA9uXiF0pHAp",
        "outputId": "e3b29f72-a663-416c-c902-2869bf2e5dac"
      },
      "id": "rA9uXiF0pHAp",
      "execution_count": 43,
      "outputs": [
        {
          "output_type": "stream",
          "name": "stderr",
          "text": [
            "/usr/local/lib/python3.11/dist-packages/huggingface_hub/utils/_auth.py:94: UserWarning: \n",
            "The secret `HF_TOKEN` does not exist in your Colab secrets.\n",
            "To authenticate with the Hugging Face Hub, create a token in your settings tab (https://huggingface.co/settings/tokens), set it as secret in your Google Colab and restart your session.\n",
            "You will be able to reuse this secret in all of your notebooks.\n",
            "Please note that authentication is recommended but still optional to access public models or datasets.\n",
            "  warnings.warn(\n"
          ]
        },
        {
          "output_type": "display_data",
          "data": {
            "text/plain": [
              "tokenizer_config.json:   0%|          | 0.00/48.0 [00:00<?, ?B/s]"
            ],
            "application/vnd.jupyter.widget-view+json": {
              "version_major": 2,
              "version_minor": 0,
              "model_id": "33492ca7e79741f990c9edc07a0a8aa6"
            }
          },
          "metadata": {}
        },
        {
          "output_type": "display_data",
          "data": {
            "text/plain": [
              "config.json:   0%|          | 0.00/483 [00:00<?, ?B/s]"
            ],
            "application/vnd.jupyter.widget-view+json": {
              "version_major": 2,
              "version_minor": 0,
              "model_id": "96bf0889c22a4f2594543e7c148845d6"
            }
          },
          "metadata": {}
        },
        {
          "output_type": "display_data",
          "data": {
            "text/plain": [
              "vocab.txt:   0%|          | 0.00/232k [00:00<?, ?B/s]"
            ],
            "application/vnd.jupyter.widget-view+json": {
              "version_major": 2,
              "version_minor": 0,
              "model_id": "5f2ef73d25704c5ba031866ae5d3b7aa"
            }
          },
          "metadata": {}
        },
        {
          "output_type": "display_data",
          "data": {
            "text/plain": [
              "tokenizer.json:   0%|          | 0.00/466k [00:00<?, ?B/s]"
            ],
            "application/vnd.jupyter.widget-view+json": {
              "version_major": 2,
              "version_minor": 0,
              "model_id": "7bd68304755c49dd8b3ea120e501face"
            }
          },
          "metadata": {}
        },
        {
          "output_type": "display_data",
          "data": {
            "text/plain": [
              "Map:   0%|          | 0/285 [00:00<?, ? examples/s]"
            ],
            "application/vnd.jupyter.widget-view+json": {
              "version_major": 2,
              "version_minor": 0,
              "model_id": "9d76537b3ee04eaeb5520b2d0b2b400e"
            }
          },
          "metadata": {}
        },
        {
          "output_type": "display_data",
          "data": {
            "text/plain": [
              "Map:   0%|          | 0/72 [00:00<?, ? examples/s]"
            ],
            "application/vnd.jupyter.widget-view+json": {
              "version_major": 2,
              "version_minor": 0,
              "model_id": "900424bc81234f90a0f5fae5ee42d6cd"
            }
          },
          "metadata": {}
        }
      ]
    },
    {
      "cell_type": "markdown",
      "source": [
        "5. Rename “label”"
      ],
      "metadata": {
        "id": "lcHAtEPFp58F"
      },
      "id": "lcHAtEPFp58F"
    },
    {
      "cell_type": "code",
      "source": [
        "# Remove original text columns\n",
        "train_dataset = train_dataset.rename_column(\"label\", \"labels\")\n",
        "val_dataset   = val_dataset.rename_column(\"label\", \"labels\")\n",
        "\n",
        "train_dataset.set_format(\"torch\")\n",
        "val_dataset.set_format(\"torch\")\n",
        "\n",
        "print(train_dataset.features)\n"
      ],
      "metadata": {
        "colab": {
          "base_uri": "https://localhost:8080/"
        },
        "id": "WEVu0Z1epHD7",
        "outputId": "16e636a2-d721-4114-cc4d-2ee05d9b64a3"
      },
      "id": "WEVu0Z1epHD7",
      "execution_count": 47,
      "outputs": [
        {
          "output_type": "stream",
          "name": "stdout",
          "text": [
            "{'id': Value(dtype='string', id=None), 'news_url': Value(dtype='string', id=None), 'title': Value(dtype='string', id=None), 'labels': Value(dtype='int64', id=None), 'input_ids': Sequence(feature=Value(dtype='int32', id=None), length=-1, id=None), 'attention_mask': Sequence(feature=Value(dtype='int8', id=None), length=-1, id=None)}\n"
          ]
        }
      ]
    },
    {
      "cell_type": "code",
      "source": [
        "# print(\"Train columns:\", train_dataset.column_names)\n",
        "# print(\"Val columns:\", val_dataset.column_names)\n"
      ],
      "metadata": {
        "id": "UN31YmhPqbnI"
      },
      "id": "UN31YmhPqbnI",
      "execution_count": 48,
      "outputs": []
    },
    {
      "cell_type": "markdown",
      "source": [
        "6. Creating the Model & Training Arguments"
      ],
      "metadata": {
        "id": "RDwOF8LKrUMU"
      },
      "id": "RDwOF8LKrUMU"
    },
    {
      "cell_type": "code",
      "source": [
        "from transformers import AutoModelForSequenceClassification, TrainingArguments, Trainer\n",
        "import numpy as np\n",
        "from sklearn.metrics import accuracy_score, precision_recall_fscore_support\n",
        "\n",
        "model = AutoModelForSequenceClassification.from_pretrained(\n",
        "    model_name,\n",
        "    num_labels=2\n",
        ")\n"
      ],
      "metadata": {
        "colab": {
          "base_uri": "https://localhost:8080/",
          "height": 104,
          "referenced_widgets": [
            "68795e0630b2419390f9e7e7084a3c7c",
            "b0c7838f81df47c7ad0e979efc67dff5",
            "af8d492c765c42acb5f717f15a842036",
            "022c99794f83413a982935d767a5d3b1",
            "4e1c4316c49f479ea44dd357310f525f",
            "2437c9d940eb446ab9061b84a1ae909a",
            "5144fdf9ab3e40d5b07c58a9dbff2ee0",
            "5586d0c8058948ec83ca94fd611b5781",
            "762cca0df05d492cb35e1ab4600709d7",
            "7e49f95b55c4405a910d016ffa359838",
            "bab9e3aa6a9148d1a0f9b8404c6c26b4"
          ]
        },
        "id": "IblRczPzq2Xy",
        "outputId": "7766891d-26b8-4695-ed9d-f5918dd6953b"
      },
      "id": "IblRczPzq2Xy",
      "execution_count": 49,
      "outputs": [
        {
          "output_type": "display_data",
          "data": {
            "text/plain": [
              "model.safetensors:   0%|          | 0.00/268M [00:00<?, ?B/s]"
            ],
            "application/vnd.jupyter.widget-view+json": {
              "version_major": 2,
              "version_minor": 0,
              "model_id": "68795e0630b2419390f9e7e7084a3c7c"
            }
          },
          "metadata": {}
        },
        {
          "output_type": "stream",
          "name": "stderr",
          "text": [
            "Some weights of DistilBertForSequenceClassification were not initialized from the model checkpoint at distilbert-base-uncased and are newly initialized: ['classifier.bias', 'classifier.weight', 'pre_classifier.bias', 'pre_classifier.weight']\n",
            "You should probably TRAIN this model on a down-stream task to be able to use it for predictions and inference.\n"
          ]
        }
      ]
    },
    {
      "cell_type": "markdown",
      "source": [
        "Setting up Hyperparameters"
      ],
      "metadata": {
        "id": "WHmx_fO6r6Ti"
      },
      "id": "WHmx_fO6r6Ti"
    },
    {
      "cell_type": "code",
      "source": [
        "training_args = TrainingArguments(\n",
        "    output_dir=\"model_output\",\n",
        "    evaluation_strategy=\"epoch\",   # Evaluate every epoch\n",
        "    per_device_train_batch_size=8,\n",
        "    per_device_eval_batch_size=8,\n",
        "    num_train_epochs=3,            # Increase if you have enough data/time\n",
        "    weight_decay=0.01,             # Common setting for regularization\n",
        "    logging_dir=\"logs\",            # For TensorBoard\n",
        "    logging_steps=50,\n",
        "    save_strategy=\"epoch\"\n",
        ")\n"
      ],
      "metadata": {
        "colab": {
          "base_uri": "https://localhost:8080/"
        },
        "id": "RPsNxGbKrz-6",
        "outputId": "4ca308b9-7789-4bed-9ef1-3a5a07fa26fc"
      },
      "id": "RPsNxGbKrz-6",
      "execution_count": 50,
      "outputs": [
        {
          "output_type": "stream",
          "name": "stderr",
          "text": [
            "/usr/local/lib/python3.11/dist-packages/transformers/training_args.py:1575: FutureWarning: `evaluation_strategy` is deprecated and will be removed in version 4.46 of 🤗 Transformers. Use `eval_strategy` instead\n",
            "  warnings.warn(\n"
          ]
        }
      ]
    },
    {
      "cell_type": "markdown",
      "source": [
        "Define and Compute Metrics Function"
      ],
      "metadata": {
        "id": "zg_BDnzXsHbh"
      },
      "id": "zg_BDnzXsHbh"
    },
    {
      "cell_type": "code",
      "source": [
        "# def compute_metrics(eval_pred):\n",
        "#     logits, labels = eval_pred\n",
        "#     preds = np.argmax(logits, axis=-1)\n",
        "\n",
        "#     precision, recall, f1, _ = precision_recall_fscore_support(labels, preds, average=\"binary\")\n",
        "#     acc = accuracy_score(labels, preds)\n",
        "\n",
        "#     return {\n",
        "#         \"accuracy\": acc,\n",
        "#         \"precision\": precision,\n",
        "#         \"recall\": recall,\n",
        "#         \"f1\": f1\n",
        "#     }\n"
      ],
      "metadata": {
        "id": "IcJJVzQEr0CU"
      },
      "id": "IcJJVzQEr0CU",
      "execution_count": 51,
      "outputs": []
    },
    {
      "cell_type": "markdown",
      "source": [
        "Week 6 Fine-tuning models and performing hyperparameter optimization (grid search)."
      ],
      "metadata": {
        "id": "WBDeNmo9tzG7"
      },
      "id": "WBDeNmo9tzG7"
    },
    {
      "cell_type": "code",
      "source": [
        "from sklearn.model_selection import GridSearchCV, train_test_split\n",
        "from sklearn.pipeline import Pipeline\n",
        "from sklearn.svm import SVC\n",
        "from sklearn.feature_extraction.text import TfidfVectorizer\n",
        "\n",
        "# Example: if you need to load your data\n",
        "# df = pd.read_csv(\"FakeNewsNet_combined.csv\")\n",
        "# X = df[\"title\"]  # or df[\"content\"] if you have full text\n",
        "# y = df[\"label\"]  # 0 = real, 1 = fake\n",
        "\n",
        "# Example train/test split (if not already done)\n",
        "# X_train, X_test, y_train, y_test = train_test_split(X, y,\n",
        "#                                                     test_size=0.2,\n",
        "#                                                     random_state=42,\n",
        "#                                                     shuffle=True)\n",
        "\n",
        "# Create a pipeline that vectorizes text and then applies SVC\n",
        "pipeline = Pipeline([\n",
        "    (\"tfidf\", TfidfVectorizer()),     # Convert text to TF-IDF features\n",
        "    (\"svc\", SVC())                    # Support Vector Classifier\n",
        "])\n",
        "\n",
        "# Define parameter grid for hyperparameter tuning\n",
        "# Adjust the parameters as needed (kernels, Cs, etc.)\n",
        "param_grid = {\n",
        "    \"tfidf__max_features\": [1000, 2000],\n",
        "    \"tfidf__ngram_range\": [(1,1), (1,2)],\n",
        "    \"svc__kernel\": [\"linear\", \"rbf\"],\n",
        "    \"svc__C\": [0.1, 1, 10]\n",
        "}\n",
        "\n",
        "# Initialize GridSearchCV\n",
        "grid_search = GridSearchCV(\n",
        "    estimator=pipeline,\n",
        "    param_grid=param_grid,\n",
        "    scoring=\"accuracy\",       # or \"f1\", \"precision\", etc.\n",
        "    cv=3,                     # 3-fold cross-validation\n",
        "    verbose=2,                # show progress logs\n",
        "    n_jobs=-1                 # use all available CPU cores\n",
        ")\n",
        "\n",
        "# Fit the grid search on the training data\n",
        "grid_search.fit(X_train, y_train)\n",
        "\n",
        "# Show best parameters and best score from grid search\n",
        "print(\"Best Parameters:\", grid_search.best_params_)\n",
        "print(\"Best CV Score:\", grid_search.best_score_)\n"
      ],
      "metadata": {
        "colab": {
          "base_uri": "https://localhost:8080/"
        },
        "id": "xjIGlD5ssQcN",
        "outputId": "067cb222-e089-4461-87e8-32077dd1c7a6"
      },
      "id": "xjIGlD5ssQcN",
      "execution_count": 52,
      "outputs": [
        {
          "output_type": "stream",
          "name": "stdout",
          "text": [
            "Fitting 3 folds for each of 24 candidates, totalling 72 fits\n",
            "Best Parameters: {'svc__C': 1, 'svc__kernel': 'linear', 'tfidf__max_features': 1000, 'tfidf__ngram_range': (1, 1)}\n",
            "Best CV Score: 0.9964912280701754\n"
          ]
        }
      ]
    },
    {
      "cell_type": "code",
      "source": [
        "# Retrieve the best model\n",
        "best_model = grid_search.best_estimator_"
      ],
      "metadata": {
        "id": "M-rw2AansQnd"
      },
      "id": "M-rw2AansQnd",
      "execution_count": 53,
      "outputs": []
    },
    {
      "cell_type": "markdown",
      "source": [
        "WEEK 7\n",
        "Model evaluation (F1-score, precision, recall, confusion matrix,"
      ],
      "metadata": {
        "id": "BLQLVYgnucdw"
      },
      "id": "BLQLVYgnucdw"
    },
    {
      "cell_type": "code",
      "source": [
        "from sklearn.metrics import accuracy_score, precision_score, recall_score, f1_score, classification_report, confusion_matrix\n",
        "\n",
        "# Use the best model to predict on the test set\n",
        "y_pred = best_model.predict(X_test)\n",
        "\n",
        "# Evaluate using multiple metrics\n",
        "accuracy = accuracy_score(y_test, y_pred)\n",
        "precision = precision_score(y_test, y_pred, average=\"binary\")\n",
        "recall = recall_score(y_test, y_pred, average=\"binary\")\n",
        "f1 = f1_score(y_test, y_pred, average=\"binary\")\n",
        "\n",
        "print(\"Test Accuracy:\", accuracy)\n",
        "print(\"Test Precision:\", precision)\n",
        "print(\"Test Recall:\", recall)\n",
        "print(\"Test F1 Score:\", f1)\n"
      ],
      "metadata": {
        "colab": {
          "base_uri": "https://localhost:8080/"
        },
        "id": "7vwTfVmCub0C",
        "outputId": "4ce8b1f4-323a-4015-92c1-31cd37bdfac0"
      },
      "id": "7vwTfVmCub0C",
      "execution_count": 54,
      "outputs": [
        {
          "output_type": "stream",
          "name": "stdout",
          "text": [
            "Test Accuracy: 0.9861111111111112\n",
            "Test Precision: 0.9736842105263158\n",
            "Test Recall: 1.0\n",
            "Test F1 Score: 0.9866666666666667\n"
          ]
        }
      ]
    },
    {
      "cell_type": "code",
      "source": [
        "# Classification report (shows precision, recall, F1 per class)\n",
        "print(\"\\nClassification Report:\")\n",
        "print(classification_report(y_test, y_pred))\n",
        "\n",
        "# Confusion Matrix\n",
        "cm = confusion_matrix(y_test, y_pred)\n",
        "print(\"Confusion Matrix:\\n\", cm)"
      ],
      "metadata": {
        "colab": {
          "base_uri": "https://localhost:8080/"
        },
        "id": "xDC_5pNXuoh0",
        "outputId": "04a407b3-5af3-4066-db57-adeebc3e3fa5"
      },
      "id": "xDC_5pNXuoh0",
      "execution_count": 55,
      "outputs": [
        {
          "output_type": "stream",
          "name": "stdout",
          "text": [
            "\n",
            "Classification Report:\n",
            "              precision    recall  f1-score   support\n",
            "\n",
            "           0       1.00      0.97      0.99        35\n",
            "           1       0.97      1.00      0.99        37\n",
            "\n",
            "    accuracy                           0.99        72\n",
            "   macro avg       0.99      0.99      0.99        72\n",
            "weighted avg       0.99      0.99      0.99        72\n",
            "\n",
            "Confusion Matrix:\n",
            " [[34  1]\n",
            " [ 0 37]]\n"
          ]
        }
      ]
    }
  ],
  "metadata": {
    "colab": {
      "provenance": []
    },
    "language_info": {
      "name": "python"
    },
    "kernelspec": {
      "name": "python3",
      "display_name": "Python 3"
    },
    "widgets": {
      "application/vnd.jupyter.widget-state+json": {
        "33492ca7e79741f990c9edc07a0a8aa6": {
          "model_module": "@jupyter-widgets/controls",
          "model_name": "HBoxModel",
          "model_module_version": "1.5.0",
          "state": {
            "_dom_classes": [],
            "_model_module": "@jupyter-widgets/controls",
            "_model_module_version": "1.5.0",
            "_model_name": "HBoxModel",
            "_view_count": null,
            "_view_module": "@jupyter-widgets/controls",
            "_view_module_version": "1.5.0",
            "_view_name": "HBoxView",
            "box_style": "",
            "children": [
              "IPY_MODEL_373823e46237458cb388984219344e56",
              "IPY_MODEL_fe8532f90e2e4600b7e4e2d406a2e6cd",
              "IPY_MODEL_f68638aa6b0c48aa8e5f4439a2143f28"
            ],
            "layout": "IPY_MODEL_4498dd094b7940f09c90d513bbcdff02"
          }
        },
        "373823e46237458cb388984219344e56": {
          "model_module": "@jupyter-widgets/controls",
          "model_name": "HTMLModel",
          "model_module_version": "1.5.0",
          "state": {
            "_dom_classes": [],
            "_model_module": "@jupyter-widgets/controls",
            "_model_module_version": "1.5.0",
            "_model_name": "HTMLModel",
            "_view_count": null,
            "_view_module": "@jupyter-widgets/controls",
            "_view_module_version": "1.5.0",
            "_view_name": "HTMLView",
            "description": "",
            "description_tooltip": null,
            "layout": "IPY_MODEL_7e4e87ddbd464311b81686610a4d394f",
            "placeholder": "​",
            "style": "IPY_MODEL_301f17ba467b42dd906b4fbba819486f",
            "value": "tokenizer_config.json: 100%"
          }
        },
        "fe8532f90e2e4600b7e4e2d406a2e6cd": {
          "model_module": "@jupyter-widgets/controls",
          "model_name": "FloatProgressModel",
          "model_module_version": "1.5.0",
          "state": {
            "_dom_classes": [],
            "_model_module": "@jupyter-widgets/controls",
            "_model_module_version": "1.5.0",
            "_model_name": "FloatProgressModel",
            "_view_count": null,
            "_view_module": "@jupyter-widgets/controls",
            "_view_module_version": "1.5.0",
            "_view_name": "ProgressView",
            "bar_style": "success",
            "description": "",
            "description_tooltip": null,
            "layout": "IPY_MODEL_2511e2daefa642cf964b30c39c2a5a0d",
            "max": 48,
            "min": 0,
            "orientation": "horizontal",
            "style": "IPY_MODEL_a21f418671234eeea5eb8f6348005c5b",
            "value": 48
          }
        },
        "f68638aa6b0c48aa8e5f4439a2143f28": {
          "model_module": "@jupyter-widgets/controls",
          "model_name": "HTMLModel",
          "model_module_version": "1.5.0",
          "state": {
            "_dom_classes": [],
            "_model_module": "@jupyter-widgets/controls",
            "_model_module_version": "1.5.0",
            "_model_name": "HTMLModel",
            "_view_count": null,
            "_view_module": "@jupyter-widgets/controls",
            "_view_module_version": "1.5.0",
            "_view_name": "HTMLView",
            "description": "",
            "description_tooltip": null,
            "layout": "IPY_MODEL_9d9826a7b0b64f23907ef74bdef61bd5",
            "placeholder": "​",
            "style": "IPY_MODEL_e5eb0363e7fb42828534f3383373442d",
            "value": " 48.0/48.0 [00:00&lt;00:00, 2.33kB/s]"
          }
        },
        "4498dd094b7940f09c90d513bbcdff02": {
          "model_module": "@jupyter-widgets/base",
          "model_name": "LayoutModel",
          "model_module_version": "1.2.0",
          "state": {
            "_model_module": "@jupyter-widgets/base",
            "_model_module_version": "1.2.0",
            "_model_name": "LayoutModel",
            "_view_count": null,
            "_view_module": "@jupyter-widgets/base",
            "_view_module_version": "1.2.0",
            "_view_name": "LayoutView",
            "align_content": null,
            "align_items": null,
            "align_self": null,
            "border": null,
            "bottom": null,
            "display": null,
            "flex": null,
            "flex_flow": null,
            "grid_area": null,
            "grid_auto_columns": null,
            "grid_auto_flow": null,
            "grid_auto_rows": null,
            "grid_column": null,
            "grid_gap": null,
            "grid_row": null,
            "grid_template_areas": null,
            "grid_template_columns": null,
            "grid_template_rows": null,
            "height": null,
            "justify_content": null,
            "justify_items": null,
            "left": null,
            "margin": null,
            "max_height": null,
            "max_width": null,
            "min_height": null,
            "min_width": null,
            "object_fit": null,
            "object_position": null,
            "order": null,
            "overflow": null,
            "overflow_x": null,
            "overflow_y": null,
            "padding": null,
            "right": null,
            "top": null,
            "visibility": null,
            "width": null
          }
        },
        "7e4e87ddbd464311b81686610a4d394f": {
          "model_module": "@jupyter-widgets/base",
          "model_name": "LayoutModel",
          "model_module_version": "1.2.0",
          "state": {
            "_model_module": "@jupyter-widgets/base",
            "_model_module_version": "1.2.0",
            "_model_name": "LayoutModel",
            "_view_count": null,
            "_view_module": "@jupyter-widgets/base",
            "_view_module_version": "1.2.0",
            "_view_name": "LayoutView",
            "align_content": null,
            "align_items": null,
            "align_self": null,
            "border": null,
            "bottom": null,
            "display": null,
            "flex": null,
            "flex_flow": null,
            "grid_area": null,
            "grid_auto_columns": null,
            "grid_auto_flow": null,
            "grid_auto_rows": null,
            "grid_column": null,
            "grid_gap": null,
            "grid_row": null,
            "grid_template_areas": null,
            "grid_template_columns": null,
            "grid_template_rows": null,
            "height": null,
            "justify_content": null,
            "justify_items": null,
            "left": null,
            "margin": null,
            "max_height": null,
            "max_width": null,
            "min_height": null,
            "min_width": null,
            "object_fit": null,
            "object_position": null,
            "order": null,
            "overflow": null,
            "overflow_x": null,
            "overflow_y": null,
            "padding": null,
            "right": null,
            "top": null,
            "visibility": null,
            "width": null
          }
        },
        "301f17ba467b42dd906b4fbba819486f": {
          "model_module": "@jupyter-widgets/controls",
          "model_name": "DescriptionStyleModel",
          "model_module_version": "1.5.0",
          "state": {
            "_model_module": "@jupyter-widgets/controls",
            "_model_module_version": "1.5.0",
            "_model_name": "DescriptionStyleModel",
            "_view_count": null,
            "_view_module": "@jupyter-widgets/base",
            "_view_module_version": "1.2.0",
            "_view_name": "StyleView",
            "description_width": ""
          }
        },
        "2511e2daefa642cf964b30c39c2a5a0d": {
          "model_module": "@jupyter-widgets/base",
          "model_name": "LayoutModel",
          "model_module_version": "1.2.0",
          "state": {
            "_model_module": "@jupyter-widgets/base",
            "_model_module_version": "1.2.0",
            "_model_name": "LayoutModel",
            "_view_count": null,
            "_view_module": "@jupyter-widgets/base",
            "_view_module_version": "1.2.0",
            "_view_name": "LayoutView",
            "align_content": null,
            "align_items": null,
            "align_self": null,
            "border": null,
            "bottom": null,
            "display": null,
            "flex": null,
            "flex_flow": null,
            "grid_area": null,
            "grid_auto_columns": null,
            "grid_auto_flow": null,
            "grid_auto_rows": null,
            "grid_column": null,
            "grid_gap": null,
            "grid_row": null,
            "grid_template_areas": null,
            "grid_template_columns": null,
            "grid_template_rows": null,
            "height": null,
            "justify_content": null,
            "justify_items": null,
            "left": null,
            "margin": null,
            "max_height": null,
            "max_width": null,
            "min_height": null,
            "min_width": null,
            "object_fit": null,
            "object_position": null,
            "order": null,
            "overflow": null,
            "overflow_x": null,
            "overflow_y": null,
            "padding": null,
            "right": null,
            "top": null,
            "visibility": null,
            "width": null
          }
        },
        "a21f418671234eeea5eb8f6348005c5b": {
          "model_module": "@jupyter-widgets/controls",
          "model_name": "ProgressStyleModel",
          "model_module_version": "1.5.0",
          "state": {
            "_model_module": "@jupyter-widgets/controls",
            "_model_module_version": "1.5.0",
            "_model_name": "ProgressStyleModel",
            "_view_count": null,
            "_view_module": "@jupyter-widgets/base",
            "_view_module_version": "1.2.0",
            "_view_name": "StyleView",
            "bar_color": null,
            "description_width": ""
          }
        },
        "9d9826a7b0b64f23907ef74bdef61bd5": {
          "model_module": "@jupyter-widgets/base",
          "model_name": "LayoutModel",
          "model_module_version": "1.2.0",
          "state": {
            "_model_module": "@jupyter-widgets/base",
            "_model_module_version": "1.2.0",
            "_model_name": "LayoutModel",
            "_view_count": null,
            "_view_module": "@jupyter-widgets/base",
            "_view_module_version": "1.2.0",
            "_view_name": "LayoutView",
            "align_content": null,
            "align_items": null,
            "align_self": null,
            "border": null,
            "bottom": null,
            "display": null,
            "flex": null,
            "flex_flow": null,
            "grid_area": null,
            "grid_auto_columns": null,
            "grid_auto_flow": null,
            "grid_auto_rows": null,
            "grid_column": null,
            "grid_gap": null,
            "grid_row": null,
            "grid_template_areas": null,
            "grid_template_columns": null,
            "grid_template_rows": null,
            "height": null,
            "justify_content": null,
            "justify_items": null,
            "left": null,
            "margin": null,
            "max_height": null,
            "max_width": null,
            "min_height": null,
            "min_width": null,
            "object_fit": null,
            "object_position": null,
            "order": null,
            "overflow": null,
            "overflow_x": null,
            "overflow_y": null,
            "padding": null,
            "right": null,
            "top": null,
            "visibility": null,
            "width": null
          }
        },
        "e5eb0363e7fb42828534f3383373442d": {
          "model_module": "@jupyter-widgets/controls",
          "model_name": "DescriptionStyleModel",
          "model_module_version": "1.5.0",
          "state": {
            "_model_module": "@jupyter-widgets/controls",
            "_model_module_version": "1.5.0",
            "_model_name": "DescriptionStyleModel",
            "_view_count": null,
            "_view_module": "@jupyter-widgets/base",
            "_view_module_version": "1.2.0",
            "_view_name": "StyleView",
            "description_width": ""
          }
        },
        "96bf0889c22a4f2594543e7c148845d6": {
          "model_module": "@jupyter-widgets/controls",
          "model_name": "HBoxModel",
          "model_module_version": "1.5.0",
          "state": {
            "_dom_classes": [],
            "_model_module": "@jupyter-widgets/controls",
            "_model_module_version": "1.5.0",
            "_model_name": "HBoxModel",
            "_view_count": null,
            "_view_module": "@jupyter-widgets/controls",
            "_view_module_version": "1.5.0",
            "_view_name": "HBoxView",
            "box_style": "",
            "children": [
              "IPY_MODEL_adc0cd608c4f48f1898f9c354bf34039",
              "IPY_MODEL_c4ad1d2682784ac79480616dc9fa2907",
              "IPY_MODEL_cbba12d71ed14baa8e2fccdee59163de"
            ],
            "layout": "IPY_MODEL_1ae26687a1674e3f9a0a14bec0e115c6"
          }
        },
        "adc0cd608c4f48f1898f9c354bf34039": {
          "model_module": "@jupyter-widgets/controls",
          "model_name": "HTMLModel",
          "model_module_version": "1.5.0",
          "state": {
            "_dom_classes": [],
            "_model_module": "@jupyter-widgets/controls",
            "_model_module_version": "1.5.0",
            "_model_name": "HTMLModel",
            "_view_count": null,
            "_view_module": "@jupyter-widgets/controls",
            "_view_module_version": "1.5.0",
            "_view_name": "HTMLView",
            "description": "",
            "description_tooltip": null,
            "layout": "IPY_MODEL_877ba2221c21438a94c6aa897a0116e9",
            "placeholder": "​",
            "style": "IPY_MODEL_119293e3ed49443db9c21ec19c23750b",
            "value": "config.json: 100%"
          }
        },
        "c4ad1d2682784ac79480616dc9fa2907": {
          "model_module": "@jupyter-widgets/controls",
          "model_name": "FloatProgressModel",
          "model_module_version": "1.5.0",
          "state": {
            "_dom_classes": [],
            "_model_module": "@jupyter-widgets/controls",
            "_model_module_version": "1.5.0",
            "_model_name": "FloatProgressModel",
            "_view_count": null,
            "_view_module": "@jupyter-widgets/controls",
            "_view_module_version": "1.5.0",
            "_view_name": "ProgressView",
            "bar_style": "success",
            "description": "",
            "description_tooltip": null,
            "layout": "IPY_MODEL_ce684c84c6b943a8a492bc0797072d13",
            "max": 483,
            "min": 0,
            "orientation": "horizontal",
            "style": "IPY_MODEL_36269c7c0c854464bdd4913ab0623f84",
            "value": 483
          }
        },
        "cbba12d71ed14baa8e2fccdee59163de": {
          "model_module": "@jupyter-widgets/controls",
          "model_name": "HTMLModel",
          "model_module_version": "1.5.0",
          "state": {
            "_dom_classes": [],
            "_model_module": "@jupyter-widgets/controls",
            "_model_module_version": "1.5.0",
            "_model_name": "HTMLModel",
            "_view_count": null,
            "_view_module": "@jupyter-widgets/controls",
            "_view_module_version": "1.5.0",
            "_view_name": "HTMLView",
            "description": "",
            "description_tooltip": null,
            "layout": "IPY_MODEL_44f283e7918b474ebc35e9124a83ddc1",
            "placeholder": "​",
            "style": "IPY_MODEL_79321caafbd347b9b7f348e782169f93",
            "value": " 483/483 [00:00&lt;00:00, 36.3kB/s]"
          }
        },
        "1ae26687a1674e3f9a0a14bec0e115c6": {
          "model_module": "@jupyter-widgets/base",
          "model_name": "LayoutModel",
          "model_module_version": "1.2.0",
          "state": {
            "_model_module": "@jupyter-widgets/base",
            "_model_module_version": "1.2.0",
            "_model_name": "LayoutModel",
            "_view_count": null,
            "_view_module": "@jupyter-widgets/base",
            "_view_module_version": "1.2.0",
            "_view_name": "LayoutView",
            "align_content": null,
            "align_items": null,
            "align_self": null,
            "border": null,
            "bottom": null,
            "display": null,
            "flex": null,
            "flex_flow": null,
            "grid_area": null,
            "grid_auto_columns": null,
            "grid_auto_flow": null,
            "grid_auto_rows": null,
            "grid_column": null,
            "grid_gap": null,
            "grid_row": null,
            "grid_template_areas": null,
            "grid_template_columns": null,
            "grid_template_rows": null,
            "height": null,
            "justify_content": null,
            "justify_items": null,
            "left": null,
            "margin": null,
            "max_height": null,
            "max_width": null,
            "min_height": null,
            "min_width": null,
            "object_fit": null,
            "object_position": null,
            "order": null,
            "overflow": null,
            "overflow_x": null,
            "overflow_y": null,
            "padding": null,
            "right": null,
            "top": null,
            "visibility": null,
            "width": null
          }
        },
        "877ba2221c21438a94c6aa897a0116e9": {
          "model_module": "@jupyter-widgets/base",
          "model_name": "LayoutModel",
          "model_module_version": "1.2.0",
          "state": {
            "_model_module": "@jupyter-widgets/base",
            "_model_module_version": "1.2.0",
            "_model_name": "LayoutModel",
            "_view_count": null,
            "_view_module": "@jupyter-widgets/base",
            "_view_module_version": "1.2.0",
            "_view_name": "LayoutView",
            "align_content": null,
            "align_items": null,
            "align_self": null,
            "border": null,
            "bottom": null,
            "display": null,
            "flex": null,
            "flex_flow": null,
            "grid_area": null,
            "grid_auto_columns": null,
            "grid_auto_flow": null,
            "grid_auto_rows": null,
            "grid_column": null,
            "grid_gap": null,
            "grid_row": null,
            "grid_template_areas": null,
            "grid_template_columns": null,
            "grid_template_rows": null,
            "height": null,
            "justify_content": null,
            "justify_items": null,
            "left": null,
            "margin": null,
            "max_height": null,
            "max_width": null,
            "min_height": null,
            "min_width": null,
            "object_fit": null,
            "object_position": null,
            "order": null,
            "overflow": null,
            "overflow_x": null,
            "overflow_y": null,
            "padding": null,
            "right": null,
            "top": null,
            "visibility": null,
            "width": null
          }
        },
        "119293e3ed49443db9c21ec19c23750b": {
          "model_module": "@jupyter-widgets/controls",
          "model_name": "DescriptionStyleModel",
          "model_module_version": "1.5.0",
          "state": {
            "_model_module": "@jupyter-widgets/controls",
            "_model_module_version": "1.5.0",
            "_model_name": "DescriptionStyleModel",
            "_view_count": null,
            "_view_module": "@jupyter-widgets/base",
            "_view_module_version": "1.2.0",
            "_view_name": "StyleView",
            "description_width": ""
          }
        },
        "ce684c84c6b943a8a492bc0797072d13": {
          "model_module": "@jupyter-widgets/base",
          "model_name": "LayoutModel",
          "model_module_version": "1.2.0",
          "state": {
            "_model_module": "@jupyter-widgets/base",
            "_model_module_version": "1.2.0",
            "_model_name": "LayoutModel",
            "_view_count": null,
            "_view_module": "@jupyter-widgets/base",
            "_view_module_version": "1.2.0",
            "_view_name": "LayoutView",
            "align_content": null,
            "align_items": null,
            "align_self": null,
            "border": null,
            "bottom": null,
            "display": null,
            "flex": null,
            "flex_flow": null,
            "grid_area": null,
            "grid_auto_columns": null,
            "grid_auto_flow": null,
            "grid_auto_rows": null,
            "grid_column": null,
            "grid_gap": null,
            "grid_row": null,
            "grid_template_areas": null,
            "grid_template_columns": null,
            "grid_template_rows": null,
            "height": null,
            "justify_content": null,
            "justify_items": null,
            "left": null,
            "margin": null,
            "max_height": null,
            "max_width": null,
            "min_height": null,
            "min_width": null,
            "object_fit": null,
            "object_position": null,
            "order": null,
            "overflow": null,
            "overflow_x": null,
            "overflow_y": null,
            "padding": null,
            "right": null,
            "top": null,
            "visibility": null,
            "width": null
          }
        },
        "36269c7c0c854464bdd4913ab0623f84": {
          "model_module": "@jupyter-widgets/controls",
          "model_name": "ProgressStyleModel",
          "model_module_version": "1.5.0",
          "state": {
            "_model_module": "@jupyter-widgets/controls",
            "_model_module_version": "1.5.0",
            "_model_name": "ProgressStyleModel",
            "_view_count": null,
            "_view_module": "@jupyter-widgets/base",
            "_view_module_version": "1.2.0",
            "_view_name": "StyleView",
            "bar_color": null,
            "description_width": ""
          }
        },
        "44f283e7918b474ebc35e9124a83ddc1": {
          "model_module": "@jupyter-widgets/base",
          "model_name": "LayoutModel",
          "model_module_version": "1.2.0",
          "state": {
            "_model_module": "@jupyter-widgets/base",
            "_model_module_version": "1.2.0",
            "_model_name": "LayoutModel",
            "_view_count": null,
            "_view_module": "@jupyter-widgets/base",
            "_view_module_version": "1.2.0",
            "_view_name": "LayoutView",
            "align_content": null,
            "align_items": null,
            "align_self": null,
            "border": null,
            "bottom": null,
            "display": null,
            "flex": null,
            "flex_flow": null,
            "grid_area": null,
            "grid_auto_columns": null,
            "grid_auto_flow": null,
            "grid_auto_rows": null,
            "grid_column": null,
            "grid_gap": null,
            "grid_row": null,
            "grid_template_areas": null,
            "grid_template_columns": null,
            "grid_template_rows": null,
            "height": null,
            "justify_content": null,
            "justify_items": null,
            "left": null,
            "margin": null,
            "max_height": null,
            "max_width": null,
            "min_height": null,
            "min_width": null,
            "object_fit": null,
            "object_position": null,
            "order": null,
            "overflow": null,
            "overflow_x": null,
            "overflow_y": null,
            "padding": null,
            "right": null,
            "top": null,
            "visibility": null,
            "width": null
          }
        },
        "79321caafbd347b9b7f348e782169f93": {
          "model_module": "@jupyter-widgets/controls",
          "model_name": "DescriptionStyleModel",
          "model_module_version": "1.5.0",
          "state": {
            "_model_module": "@jupyter-widgets/controls",
            "_model_module_version": "1.5.0",
            "_model_name": "DescriptionStyleModel",
            "_view_count": null,
            "_view_module": "@jupyter-widgets/base",
            "_view_module_version": "1.2.0",
            "_view_name": "StyleView",
            "description_width": ""
          }
        },
        "5f2ef73d25704c5ba031866ae5d3b7aa": {
          "model_module": "@jupyter-widgets/controls",
          "model_name": "HBoxModel",
          "model_module_version": "1.5.0",
          "state": {
            "_dom_classes": [],
            "_model_module": "@jupyter-widgets/controls",
            "_model_module_version": "1.5.0",
            "_model_name": "HBoxModel",
            "_view_count": null,
            "_view_module": "@jupyter-widgets/controls",
            "_view_module_version": "1.5.0",
            "_view_name": "HBoxView",
            "box_style": "",
            "children": [
              "IPY_MODEL_0a04691917c84732acb4b2975625ac09",
              "IPY_MODEL_25e639f404344d6e9b49f76a895c15b5",
              "IPY_MODEL_8470438c2c1b4f95bbc8b58ac862c806"
            ],
            "layout": "IPY_MODEL_4d22df5373924ccd8b80272ad62371d9"
          }
        },
        "0a04691917c84732acb4b2975625ac09": {
          "model_module": "@jupyter-widgets/controls",
          "model_name": "HTMLModel",
          "model_module_version": "1.5.0",
          "state": {
            "_dom_classes": [],
            "_model_module": "@jupyter-widgets/controls",
            "_model_module_version": "1.5.0",
            "_model_name": "HTMLModel",
            "_view_count": null,
            "_view_module": "@jupyter-widgets/controls",
            "_view_module_version": "1.5.0",
            "_view_name": "HTMLView",
            "description": "",
            "description_tooltip": null,
            "layout": "IPY_MODEL_b1a4b9a3714445e7bd1e3ebd58d75370",
            "placeholder": "​",
            "style": "IPY_MODEL_31ed16c3c7854bc9aad55c223a66c3ee",
            "value": "vocab.txt: 100%"
          }
        },
        "25e639f404344d6e9b49f76a895c15b5": {
          "model_module": "@jupyter-widgets/controls",
          "model_name": "FloatProgressModel",
          "model_module_version": "1.5.0",
          "state": {
            "_dom_classes": [],
            "_model_module": "@jupyter-widgets/controls",
            "_model_module_version": "1.5.0",
            "_model_name": "FloatProgressModel",
            "_view_count": null,
            "_view_module": "@jupyter-widgets/controls",
            "_view_module_version": "1.5.0",
            "_view_name": "ProgressView",
            "bar_style": "success",
            "description": "",
            "description_tooltip": null,
            "layout": "IPY_MODEL_4f0b05222a474be2babe5dc62a399b52",
            "max": 231508,
            "min": 0,
            "orientation": "horizontal",
            "style": "IPY_MODEL_e87a0303faf94ef881071fa6014dc5cf",
            "value": 231508
          }
        },
        "8470438c2c1b4f95bbc8b58ac862c806": {
          "model_module": "@jupyter-widgets/controls",
          "model_name": "HTMLModel",
          "model_module_version": "1.5.0",
          "state": {
            "_dom_classes": [],
            "_model_module": "@jupyter-widgets/controls",
            "_model_module_version": "1.5.0",
            "_model_name": "HTMLModel",
            "_view_count": null,
            "_view_module": "@jupyter-widgets/controls",
            "_view_module_version": "1.5.0",
            "_view_name": "HTMLView",
            "description": "",
            "description_tooltip": null,
            "layout": "IPY_MODEL_b760360a8d26447cb8fac69f1b718ee7",
            "placeholder": "​",
            "style": "IPY_MODEL_9df0b60a99a44279bf165a92808e919d",
            "value": " 232k/232k [00:00&lt;00:00, 9.60MB/s]"
          }
        },
        "4d22df5373924ccd8b80272ad62371d9": {
          "model_module": "@jupyter-widgets/base",
          "model_name": "LayoutModel",
          "model_module_version": "1.2.0",
          "state": {
            "_model_module": "@jupyter-widgets/base",
            "_model_module_version": "1.2.0",
            "_model_name": "LayoutModel",
            "_view_count": null,
            "_view_module": "@jupyter-widgets/base",
            "_view_module_version": "1.2.0",
            "_view_name": "LayoutView",
            "align_content": null,
            "align_items": null,
            "align_self": null,
            "border": null,
            "bottom": null,
            "display": null,
            "flex": null,
            "flex_flow": null,
            "grid_area": null,
            "grid_auto_columns": null,
            "grid_auto_flow": null,
            "grid_auto_rows": null,
            "grid_column": null,
            "grid_gap": null,
            "grid_row": null,
            "grid_template_areas": null,
            "grid_template_columns": null,
            "grid_template_rows": null,
            "height": null,
            "justify_content": null,
            "justify_items": null,
            "left": null,
            "margin": null,
            "max_height": null,
            "max_width": null,
            "min_height": null,
            "min_width": null,
            "object_fit": null,
            "object_position": null,
            "order": null,
            "overflow": null,
            "overflow_x": null,
            "overflow_y": null,
            "padding": null,
            "right": null,
            "top": null,
            "visibility": null,
            "width": null
          }
        },
        "b1a4b9a3714445e7bd1e3ebd58d75370": {
          "model_module": "@jupyter-widgets/base",
          "model_name": "LayoutModel",
          "model_module_version": "1.2.0",
          "state": {
            "_model_module": "@jupyter-widgets/base",
            "_model_module_version": "1.2.0",
            "_model_name": "LayoutModel",
            "_view_count": null,
            "_view_module": "@jupyter-widgets/base",
            "_view_module_version": "1.2.0",
            "_view_name": "LayoutView",
            "align_content": null,
            "align_items": null,
            "align_self": null,
            "border": null,
            "bottom": null,
            "display": null,
            "flex": null,
            "flex_flow": null,
            "grid_area": null,
            "grid_auto_columns": null,
            "grid_auto_flow": null,
            "grid_auto_rows": null,
            "grid_column": null,
            "grid_gap": null,
            "grid_row": null,
            "grid_template_areas": null,
            "grid_template_columns": null,
            "grid_template_rows": null,
            "height": null,
            "justify_content": null,
            "justify_items": null,
            "left": null,
            "margin": null,
            "max_height": null,
            "max_width": null,
            "min_height": null,
            "min_width": null,
            "object_fit": null,
            "object_position": null,
            "order": null,
            "overflow": null,
            "overflow_x": null,
            "overflow_y": null,
            "padding": null,
            "right": null,
            "top": null,
            "visibility": null,
            "width": null
          }
        },
        "31ed16c3c7854bc9aad55c223a66c3ee": {
          "model_module": "@jupyter-widgets/controls",
          "model_name": "DescriptionStyleModel",
          "model_module_version": "1.5.0",
          "state": {
            "_model_module": "@jupyter-widgets/controls",
            "_model_module_version": "1.5.0",
            "_model_name": "DescriptionStyleModel",
            "_view_count": null,
            "_view_module": "@jupyter-widgets/base",
            "_view_module_version": "1.2.0",
            "_view_name": "StyleView",
            "description_width": ""
          }
        },
        "4f0b05222a474be2babe5dc62a399b52": {
          "model_module": "@jupyter-widgets/base",
          "model_name": "LayoutModel",
          "model_module_version": "1.2.0",
          "state": {
            "_model_module": "@jupyter-widgets/base",
            "_model_module_version": "1.2.0",
            "_model_name": "LayoutModel",
            "_view_count": null,
            "_view_module": "@jupyter-widgets/base",
            "_view_module_version": "1.2.0",
            "_view_name": "LayoutView",
            "align_content": null,
            "align_items": null,
            "align_self": null,
            "border": null,
            "bottom": null,
            "display": null,
            "flex": null,
            "flex_flow": null,
            "grid_area": null,
            "grid_auto_columns": null,
            "grid_auto_flow": null,
            "grid_auto_rows": null,
            "grid_column": null,
            "grid_gap": null,
            "grid_row": null,
            "grid_template_areas": null,
            "grid_template_columns": null,
            "grid_template_rows": null,
            "height": null,
            "justify_content": null,
            "justify_items": null,
            "left": null,
            "margin": null,
            "max_height": null,
            "max_width": null,
            "min_height": null,
            "min_width": null,
            "object_fit": null,
            "object_position": null,
            "order": null,
            "overflow": null,
            "overflow_x": null,
            "overflow_y": null,
            "padding": null,
            "right": null,
            "top": null,
            "visibility": null,
            "width": null
          }
        },
        "e87a0303faf94ef881071fa6014dc5cf": {
          "model_module": "@jupyter-widgets/controls",
          "model_name": "ProgressStyleModel",
          "model_module_version": "1.5.0",
          "state": {
            "_model_module": "@jupyter-widgets/controls",
            "_model_module_version": "1.5.0",
            "_model_name": "ProgressStyleModel",
            "_view_count": null,
            "_view_module": "@jupyter-widgets/base",
            "_view_module_version": "1.2.0",
            "_view_name": "StyleView",
            "bar_color": null,
            "description_width": ""
          }
        },
        "b760360a8d26447cb8fac69f1b718ee7": {
          "model_module": "@jupyter-widgets/base",
          "model_name": "LayoutModel",
          "model_module_version": "1.2.0",
          "state": {
            "_model_module": "@jupyter-widgets/base",
            "_model_module_version": "1.2.0",
            "_model_name": "LayoutModel",
            "_view_count": null,
            "_view_module": "@jupyter-widgets/base",
            "_view_module_version": "1.2.0",
            "_view_name": "LayoutView",
            "align_content": null,
            "align_items": null,
            "align_self": null,
            "border": null,
            "bottom": null,
            "display": null,
            "flex": null,
            "flex_flow": null,
            "grid_area": null,
            "grid_auto_columns": null,
            "grid_auto_flow": null,
            "grid_auto_rows": null,
            "grid_column": null,
            "grid_gap": null,
            "grid_row": null,
            "grid_template_areas": null,
            "grid_template_columns": null,
            "grid_template_rows": null,
            "height": null,
            "justify_content": null,
            "justify_items": null,
            "left": null,
            "margin": null,
            "max_height": null,
            "max_width": null,
            "min_height": null,
            "min_width": null,
            "object_fit": null,
            "object_position": null,
            "order": null,
            "overflow": null,
            "overflow_x": null,
            "overflow_y": null,
            "padding": null,
            "right": null,
            "top": null,
            "visibility": null,
            "width": null
          }
        },
        "9df0b60a99a44279bf165a92808e919d": {
          "model_module": "@jupyter-widgets/controls",
          "model_name": "DescriptionStyleModel",
          "model_module_version": "1.5.0",
          "state": {
            "_model_module": "@jupyter-widgets/controls",
            "_model_module_version": "1.5.0",
            "_model_name": "DescriptionStyleModel",
            "_view_count": null,
            "_view_module": "@jupyter-widgets/base",
            "_view_module_version": "1.2.0",
            "_view_name": "StyleView",
            "description_width": ""
          }
        },
        "7bd68304755c49dd8b3ea120e501face": {
          "model_module": "@jupyter-widgets/controls",
          "model_name": "HBoxModel",
          "model_module_version": "1.5.0",
          "state": {
            "_dom_classes": [],
            "_model_module": "@jupyter-widgets/controls",
            "_model_module_version": "1.5.0",
            "_model_name": "HBoxModel",
            "_view_count": null,
            "_view_module": "@jupyter-widgets/controls",
            "_view_module_version": "1.5.0",
            "_view_name": "HBoxView",
            "box_style": "",
            "children": [
              "IPY_MODEL_583d96a5f25a473da400aef49d269630",
              "IPY_MODEL_c19cdce674a04475841c0d0a8168d1ef",
              "IPY_MODEL_ccd735d316cd452d95f34673478cc634"
            ],
            "layout": "IPY_MODEL_44f35efd477940ef895d9321e36afb79"
          }
        },
        "583d96a5f25a473da400aef49d269630": {
          "model_module": "@jupyter-widgets/controls",
          "model_name": "HTMLModel",
          "model_module_version": "1.5.0",
          "state": {
            "_dom_classes": [],
            "_model_module": "@jupyter-widgets/controls",
            "_model_module_version": "1.5.0",
            "_model_name": "HTMLModel",
            "_view_count": null,
            "_view_module": "@jupyter-widgets/controls",
            "_view_module_version": "1.5.0",
            "_view_name": "HTMLView",
            "description": "",
            "description_tooltip": null,
            "layout": "IPY_MODEL_81aaca9ed4ac4ec69d6182625584cf94",
            "placeholder": "​",
            "style": "IPY_MODEL_bcbf1e71574147d69ba006a963a605f4",
            "value": "tokenizer.json: 100%"
          }
        },
        "c19cdce674a04475841c0d0a8168d1ef": {
          "model_module": "@jupyter-widgets/controls",
          "model_name": "FloatProgressModel",
          "model_module_version": "1.5.0",
          "state": {
            "_dom_classes": [],
            "_model_module": "@jupyter-widgets/controls",
            "_model_module_version": "1.5.0",
            "_model_name": "FloatProgressModel",
            "_view_count": null,
            "_view_module": "@jupyter-widgets/controls",
            "_view_module_version": "1.5.0",
            "_view_name": "ProgressView",
            "bar_style": "success",
            "description": "",
            "description_tooltip": null,
            "layout": "IPY_MODEL_265c7c0bc760460ab815cf3ef16c0610",
            "max": 466062,
            "min": 0,
            "orientation": "horizontal",
            "style": "IPY_MODEL_8e3820765df1439a9064d5f108e394a1",
            "value": 466062
          }
        },
        "ccd735d316cd452d95f34673478cc634": {
          "model_module": "@jupyter-widgets/controls",
          "model_name": "HTMLModel",
          "model_module_version": "1.5.0",
          "state": {
            "_dom_classes": [],
            "_model_module": "@jupyter-widgets/controls",
            "_model_module_version": "1.5.0",
            "_model_name": "HTMLModel",
            "_view_count": null,
            "_view_module": "@jupyter-widgets/controls",
            "_view_module_version": "1.5.0",
            "_view_name": "HTMLView",
            "description": "",
            "description_tooltip": null,
            "layout": "IPY_MODEL_fc60139effaf43d48671a144bbfe8e31",
            "placeholder": "​",
            "style": "IPY_MODEL_e71b91925fd54201a75a1f5170de93b4",
            "value": " 466k/466k [00:00&lt;00:00, 22.7MB/s]"
          }
        },
        "44f35efd477940ef895d9321e36afb79": {
          "model_module": "@jupyter-widgets/base",
          "model_name": "LayoutModel",
          "model_module_version": "1.2.0",
          "state": {
            "_model_module": "@jupyter-widgets/base",
            "_model_module_version": "1.2.0",
            "_model_name": "LayoutModel",
            "_view_count": null,
            "_view_module": "@jupyter-widgets/base",
            "_view_module_version": "1.2.0",
            "_view_name": "LayoutView",
            "align_content": null,
            "align_items": null,
            "align_self": null,
            "border": null,
            "bottom": null,
            "display": null,
            "flex": null,
            "flex_flow": null,
            "grid_area": null,
            "grid_auto_columns": null,
            "grid_auto_flow": null,
            "grid_auto_rows": null,
            "grid_column": null,
            "grid_gap": null,
            "grid_row": null,
            "grid_template_areas": null,
            "grid_template_columns": null,
            "grid_template_rows": null,
            "height": null,
            "justify_content": null,
            "justify_items": null,
            "left": null,
            "margin": null,
            "max_height": null,
            "max_width": null,
            "min_height": null,
            "min_width": null,
            "object_fit": null,
            "object_position": null,
            "order": null,
            "overflow": null,
            "overflow_x": null,
            "overflow_y": null,
            "padding": null,
            "right": null,
            "top": null,
            "visibility": null,
            "width": null
          }
        },
        "81aaca9ed4ac4ec69d6182625584cf94": {
          "model_module": "@jupyter-widgets/base",
          "model_name": "LayoutModel",
          "model_module_version": "1.2.0",
          "state": {
            "_model_module": "@jupyter-widgets/base",
            "_model_module_version": "1.2.0",
            "_model_name": "LayoutModel",
            "_view_count": null,
            "_view_module": "@jupyter-widgets/base",
            "_view_module_version": "1.2.0",
            "_view_name": "LayoutView",
            "align_content": null,
            "align_items": null,
            "align_self": null,
            "border": null,
            "bottom": null,
            "display": null,
            "flex": null,
            "flex_flow": null,
            "grid_area": null,
            "grid_auto_columns": null,
            "grid_auto_flow": null,
            "grid_auto_rows": null,
            "grid_column": null,
            "grid_gap": null,
            "grid_row": null,
            "grid_template_areas": null,
            "grid_template_columns": null,
            "grid_template_rows": null,
            "height": null,
            "justify_content": null,
            "justify_items": null,
            "left": null,
            "margin": null,
            "max_height": null,
            "max_width": null,
            "min_height": null,
            "min_width": null,
            "object_fit": null,
            "object_position": null,
            "order": null,
            "overflow": null,
            "overflow_x": null,
            "overflow_y": null,
            "padding": null,
            "right": null,
            "top": null,
            "visibility": null,
            "width": null
          }
        },
        "bcbf1e71574147d69ba006a963a605f4": {
          "model_module": "@jupyter-widgets/controls",
          "model_name": "DescriptionStyleModel",
          "model_module_version": "1.5.0",
          "state": {
            "_model_module": "@jupyter-widgets/controls",
            "_model_module_version": "1.5.0",
            "_model_name": "DescriptionStyleModel",
            "_view_count": null,
            "_view_module": "@jupyter-widgets/base",
            "_view_module_version": "1.2.0",
            "_view_name": "StyleView",
            "description_width": ""
          }
        },
        "265c7c0bc760460ab815cf3ef16c0610": {
          "model_module": "@jupyter-widgets/base",
          "model_name": "LayoutModel",
          "model_module_version": "1.2.0",
          "state": {
            "_model_module": "@jupyter-widgets/base",
            "_model_module_version": "1.2.0",
            "_model_name": "LayoutModel",
            "_view_count": null,
            "_view_module": "@jupyter-widgets/base",
            "_view_module_version": "1.2.0",
            "_view_name": "LayoutView",
            "align_content": null,
            "align_items": null,
            "align_self": null,
            "border": null,
            "bottom": null,
            "display": null,
            "flex": null,
            "flex_flow": null,
            "grid_area": null,
            "grid_auto_columns": null,
            "grid_auto_flow": null,
            "grid_auto_rows": null,
            "grid_column": null,
            "grid_gap": null,
            "grid_row": null,
            "grid_template_areas": null,
            "grid_template_columns": null,
            "grid_template_rows": null,
            "height": null,
            "justify_content": null,
            "justify_items": null,
            "left": null,
            "margin": null,
            "max_height": null,
            "max_width": null,
            "min_height": null,
            "min_width": null,
            "object_fit": null,
            "object_position": null,
            "order": null,
            "overflow": null,
            "overflow_x": null,
            "overflow_y": null,
            "padding": null,
            "right": null,
            "top": null,
            "visibility": null,
            "width": null
          }
        },
        "8e3820765df1439a9064d5f108e394a1": {
          "model_module": "@jupyter-widgets/controls",
          "model_name": "ProgressStyleModel",
          "model_module_version": "1.5.0",
          "state": {
            "_model_module": "@jupyter-widgets/controls",
            "_model_module_version": "1.5.0",
            "_model_name": "ProgressStyleModel",
            "_view_count": null,
            "_view_module": "@jupyter-widgets/base",
            "_view_module_version": "1.2.0",
            "_view_name": "StyleView",
            "bar_color": null,
            "description_width": ""
          }
        },
        "fc60139effaf43d48671a144bbfe8e31": {
          "model_module": "@jupyter-widgets/base",
          "model_name": "LayoutModel",
          "model_module_version": "1.2.0",
          "state": {
            "_model_module": "@jupyter-widgets/base",
            "_model_module_version": "1.2.0",
            "_model_name": "LayoutModel",
            "_view_count": null,
            "_view_module": "@jupyter-widgets/base",
            "_view_module_version": "1.2.0",
            "_view_name": "LayoutView",
            "align_content": null,
            "align_items": null,
            "align_self": null,
            "border": null,
            "bottom": null,
            "display": null,
            "flex": null,
            "flex_flow": null,
            "grid_area": null,
            "grid_auto_columns": null,
            "grid_auto_flow": null,
            "grid_auto_rows": null,
            "grid_column": null,
            "grid_gap": null,
            "grid_row": null,
            "grid_template_areas": null,
            "grid_template_columns": null,
            "grid_template_rows": null,
            "height": null,
            "justify_content": null,
            "justify_items": null,
            "left": null,
            "margin": null,
            "max_height": null,
            "max_width": null,
            "min_height": null,
            "min_width": null,
            "object_fit": null,
            "object_position": null,
            "order": null,
            "overflow": null,
            "overflow_x": null,
            "overflow_y": null,
            "padding": null,
            "right": null,
            "top": null,
            "visibility": null,
            "width": null
          }
        },
        "e71b91925fd54201a75a1f5170de93b4": {
          "model_module": "@jupyter-widgets/controls",
          "model_name": "DescriptionStyleModel",
          "model_module_version": "1.5.0",
          "state": {
            "_model_module": "@jupyter-widgets/controls",
            "_model_module_version": "1.5.0",
            "_model_name": "DescriptionStyleModel",
            "_view_count": null,
            "_view_module": "@jupyter-widgets/base",
            "_view_module_version": "1.2.0",
            "_view_name": "StyleView",
            "description_width": ""
          }
        },
        "9d76537b3ee04eaeb5520b2d0b2b400e": {
          "model_module": "@jupyter-widgets/controls",
          "model_name": "HBoxModel",
          "model_module_version": "1.5.0",
          "state": {
            "_dom_classes": [],
            "_model_module": "@jupyter-widgets/controls",
            "_model_module_version": "1.5.0",
            "_model_name": "HBoxModel",
            "_view_count": null,
            "_view_module": "@jupyter-widgets/controls",
            "_view_module_version": "1.5.0",
            "_view_name": "HBoxView",
            "box_style": "",
            "children": [
              "IPY_MODEL_10673273738d4bdebb68631596079c05",
              "IPY_MODEL_4bc2f37974a344d5a7180a24896b76d9",
              "IPY_MODEL_dfa3c759a5904b109a39d3025e5bf3d8"
            ],
            "layout": "IPY_MODEL_dfd82557e1b34646b4173a5394c3fbbb"
          }
        },
        "10673273738d4bdebb68631596079c05": {
          "model_module": "@jupyter-widgets/controls",
          "model_name": "HTMLModel",
          "model_module_version": "1.5.0",
          "state": {
            "_dom_classes": [],
            "_model_module": "@jupyter-widgets/controls",
            "_model_module_version": "1.5.0",
            "_model_name": "HTMLModel",
            "_view_count": null,
            "_view_module": "@jupyter-widgets/controls",
            "_view_module_version": "1.5.0",
            "_view_name": "HTMLView",
            "description": "",
            "description_tooltip": null,
            "layout": "IPY_MODEL_5dfe78e990104d39b03510de38014c66",
            "placeholder": "​",
            "style": "IPY_MODEL_e635152969ea484eacfc2ed39d4555bf",
            "value": "Map: 100%"
          }
        },
        "4bc2f37974a344d5a7180a24896b76d9": {
          "model_module": "@jupyter-widgets/controls",
          "model_name": "FloatProgressModel",
          "model_module_version": "1.5.0",
          "state": {
            "_dom_classes": [],
            "_model_module": "@jupyter-widgets/controls",
            "_model_module_version": "1.5.0",
            "_model_name": "FloatProgressModel",
            "_view_count": null,
            "_view_module": "@jupyter-widgets/controls",
            "_view_module_version": "1.5.0",
            "_view_name": "ProgressView",
            "bar_style": "success",
            "description": "",
            "description_tooltip": null,
            "layout": "IPY_MODEL_f0239b960cd346cfbe2ee856d7a10647",
            "max": 285,
            "min": 0,
            "orientation": "horizontal",
            "style": "IPY_MODEL_b98ca3f2e9454dd4a07d245cf3ccc6a1",
            "value": 285
          }
        },
        "dfa3c759a5904b109a39d3025e5bf3d8": {
          "model_module": "@jupyter-widgets/controls",
          "model_name": "HTMLModel",
          "model_module_version": "1.5.0",
          "state": {
            "_dom_classes": [],
            "_model_module": "@jupyter-widgets/controls",
            "_model_module_version": "1.5.0",
            "_model_name": "HTMLModel",
            "_view_count": null,
            "_view_module": "@jupyter-widgets/controls",
            "_view_module_version": "1.5.0",
            "_view_name": "HTMLView",
            "description": "",
            "description_tooltip": null,
            "layout": "IPY_MODEL_1edf183677c348faa48c334574e2a870",
            "placeholder": "​",
            "style": "IPY_MODEL_ce286fcd4f854aea950d79a8eaf4d411",
            "value": " 285/285 [00:00&lt;00:00, 2988.22 examples/s]"
          }
        },
        "dfd82557e1b34646b4173a5394c3fbbb": {
          "model_module": "@jupyter-widgets/base",
          "model_name": "LayoutModel",
          "model_module_version": "1.2.0",
          "state": {
            "_model_module": "@jupyter-widgets/base",
            "_model_module_version": "1.2.0",
            "_model_name": "LayoutModel",
            "_view_count": null,
            "_view_module": "@jupyter-widgets/base",
            "_view_module_version": "1.2.0",
            "_view_name": "LayoutView",
            "align_content": null,
            "align_items": null,
            "align_self": null,
            "border": null,
            "bottom": null,
            "display": null,
            "flex": null,
            "flex_flow": null,
            "grid_area": null,
            "grid_auto_columns": null,
            "grid_auto_flow": null,
            "grid_auto_rows": null,
            "grid_column": null,
            "grid_gap": null,
            "grid_row": null,
            "grid_template_areas": null,
            "grid_template_columns": null,
            "grid_template_rows": null,
            "height": null,
            "justify_content": null,
            "justify_items": null,
            "left": null,
            "margin": null,
            "max_height": null,
            "max_width": null,
            "min_height": null,
            "min_width": null,
            "object_fit": null,
            "object_position": null,
            "order": null,
            "overflow": null,
            "overflow_x": null,
            "overflow_y": null,
            "padding": null,
            "right": null,
            "top": null,
            "visibility": null,
            "width": null
          }
        },
        "5dfe78e990104d39b03510de38014c66": {
          "model_module": "@jupyter-widgets/base",
          "model_name": "LayoutModel",
          "model_module_version": "1.2.0",
          "state": {
            "_model_module": "@jupyter-widgets/base",
            "_model_module_version": "1.2.0",
            "_model_name": "LayoutModel",
            "_view_count": null,
            "_view_module": "@jupyter-widgets/base",
            "_view_module_version": "1.2.0",
            "_view_name": "LayoutView",
            "align_content": null,
            "align_items": null,
            "align_self": null,
            "border": null,
            "bottom": null,
            "display": null,
            "flex": null,
            "flex_flow": null,
            "grid_area": null,
            "grid_auto_columns": null,
            "grid_auto_flow": null,
            "grid_auto_rows": null,
            "grid_column": null,
            "grid_gap": null,
            "grid_row": null,
            "grid_template_areas": null,
            "grid_template_columns": null,
            "grid_template_rows": null,
            "height": null,
            "justify_content": null,
            "justify_items": null,
            "left": null,
            "margin": null,
            "max_height": null,
            "max_width": null,
            "min_height": null,
            "min_width": null,
            "object_fit": null,
            "object_position": null,
            "order": null,
            "overflow": null,
            "overflow_x": null,
            "overflow_y": null,
            "padding": null,
            "right": null,
            "top": null,
            "visibility": null,
            "width": null
          }
        },
        "e635152969ea484eacfc2ed39d4555bf": {
          "model_module": "@jupyter-widgets/controls",
          "model_name": "DescriptionStyleModel",
          "model_module_version": "1.5.0",
          "state": {
            "_model_module": "@jupyter-widgets/controls",
            "_model_module_version": "1.5.0",
            "_model_name": "DescriptionStyleModel",
            "_view_count": null,
            "_view_module": "@jupyter-widgets/base",
            "_view_module_version": "1.2.0",
            "_view_name": "StyleView",
            "description_width": ""
          }
        },
        "f0239b960cd346cfbe2ee856d7a10647": {
          "model_module": "@jupyter-widgets/base",
          "model_name": "LayoutModel",
          "model_module_version": "1.2.0",
          "state": {
            "_model_module": "@jupyter-widgets/base",
            "_model_module_version": "1.2.0",
            "_model_name": "LayoutModel",
            "_view_count": null,
            "_view_module": "@jupyter-widgets/base",
            "_view_module_version": "1.2.0",
            "_view_name": "LayoutView",
            "align_content": null,
            "align_items": null,
            "align_self": null,
            "border": null,
            "bottom": null,
            "display": null,
            "flex": null,
            "flex_flow": null,
            "grid_area": null,
            "grid_auto_columns": null,
            "grid_auto_flow": null,
            "grid_auto_rows": null,
            "grid_column": null,
            "grid_gap": null,
            "grid_row": null,
            "grid_template_areas": null,
            "grid_template_columns": null,
            "grid_template_rows": null,
            "height": null,
            "justify_content": null,
            "justify_items": null,
            "left": null,
            "margin": null,
            "max_height": null,
            "max_width": null,
            "min_height": null,
            "min_width": null,
            "object_fit": null,
            "object_position": null,
            "order": null,
            "overflow": null,
            "overflow_x": null,
            "overflow_y": null,
            "padding": null,
            "right": null,
            "top": null,
            "visibility": null,
            "width": null
          }
        },
        "b98ca3f2e9454dd4a07d245cf3ccc6a1": {
          "model_module": "@jupyter-widgets/controls",
          "model_name": "ProgressStyleModel",
          "model_module_version": "1.5.0",
          "state": {
            "_model_module": "@jupyter-widgets/controls",
            "_model_module_version": "1.5.0",
            "_model_name": "ProgressStyleModel",
            "_view_count": null,
            "_view_module": "@jupyter-widgets/base",
            "_view_module_version": "1.2.0",
            "_view_name": "StyleView",
            "bar_color": null,
            "description_width": ""
          }
        },
        "1edf183677c348faa48c334574e2a870": {
          "model_module": "@jupyter-widgets/base",
          "model_name": "LayoutModel",
          "model_module_version": "1.2.0",
          "state": {
            "_model_module": "@jupyter-widgets/base",
            "_model_module_version": "1.2.0",
            "_model_name": "LayoutModel",
            "_view_count": null,
            "_view_module": "@jupyter-widgets/base",
            "_view_module_version": "1.2.0",
            "_view_name": "LayoutView",
            "align_content": null,
            "align_items": null,
            "align_self": null,
            "border": null,
            "bottom": null,
            "display": null,
            "flex": null,
            "flex_flow": null,
            "grid_area": null,
            "grid_auto_columns": null,
            "grid_auto_flow": null,
            "grid_auto_rows": null,
            "grid_column": null,
            "grid_gap": null,
            "grid_row": null,
            "grid_template_areas": null,
            "grid_template_columns": null,
            "grid_template_rows": null,
            "height": null,
            "justify_content": null,
            "justify_items": null,
            "left": null,
            "margin": null,
            "max_height": null,
            "max_width": null,
            "min_height": null,
            "min_width": null,
            "object_fit": null,
            "object_position": null,
            "order": null,
            "overflow": null,
            "overflow_x": null,
            "overflow_y": null,
            "padding": null,
            "right": null,
            "top": null,
            "visibility": null,
            "width": null
          }
        },
        "ce286fcd4f854aea950d79a8eaf4d411": {
          "model_module": "@jupyter-widgets/controls",
          "model_name": "DescriptionStyleModel",
          "model_module_version": "1.5.0",
          "state": {
            "_model_module": "@jupyter-widgets/controls",
            "_model_module_version": "1.5.0",
            "_model_name": "DescriptionStyleModel",
            "_view_count": null,
            "_view_module": "@jupyter-widgets/base",
            "_view_module_version": "1.2.0",
            "_view_name": "StyleView",
            "description_width": ""
          }
        },
        "900424bc81234f90a0f5fae5ee42d6cd": {
          "model_module": "@jupyter-widgets/controls",
          "model_name": "HBoxModel",
          "model_module_version": "1.5.0",
          "state": {
            "_dom_classes": [],
            "_model_module": "@jupyter-widgets/controls",
            "_model_module_version": "1.5.0",
            "_model_name": "HBoxModel",
            "_view_count": null,
            "_view_module": "@jupyter-widgets/controls",
            "_view_module_version": "1.5.0",
            "_view_name": "HBoxView",
            "box_style": "",
            "children": [
              "IPY_MODEL_3e422ca3047d47c7915dd59cb3ca6e64",
              "IPY_MODEL_afe4a33c8aa84a14b50719c634c11f6f",
              "IPY_MODEL_159f300e05a642b9b251f6398bdd319a"
            ],
            "layout": "IPY_MODEL_861703abaf97401ba2fb8a2e481e6035"
          }
        },
        "3e422ca3047d47c7915dd59cb3ca6e64": {
          "model_module": "@jupyter-widgets/controls",
          "model_name": "HTMLModel",
          "model_module_version": "1.5.0",
          "state": {
            "_dom_classes": [],
            "_model_module": "@jupyter-widgets/controls",
            "_model_module_version": "1.5.0",
            "_model_name": "HTMLModel",
            "_view_count": null,
            "_view_module": "@jupyter-widgets/controls",
            "_view_module_version": "1.5.0",
            "_view_name": "HTMLView",
            "description": "",
            "description_tooltip": null,
            "layout": "IPY_MODEL_bfaeebbf024c457793c4438006decf34",
            "placeholder": "​",
            "style": "IPY_MODEL_f65c2041c98942e7826b416ccd88fb2e",
            "value": "Map: 100%"
          }
        },
        "afe4a33c8aa84a14b50719c634c11f6f": {
          "model_module": "@jupyter-widgets/controls",
          "model_name": "FloatProgressModel",
          "model_module_version": "1.5.0",
          "state": {
            "_dom_classes": [],
            "_model_module": "@jupyter-widgets/controls",
            "_model_module_version": "1.5.0",
            "_model_name": "FloatProgressModel",
            "_view_count": null,
            "_view_module": "@jupyter-widgets/controls",
            "_view_module_version": "1.5.0",
            "_view_name": "ProgressView",
            "bar_style": "success",
            "description": "",
            "description_tooltip": null,
            "layout": "IPY_MODEL_1219573379b04ab98741fbeab8bfc932",
            "max": 72,
            "min": 0,
            "orientation": "horizontal",
            "style": "IPY_MODEL_1faece14543f42989924ff3eb746ffed",
            "value": 72
          }
        },
        "159f300e05a642b9b251f6398bdd319a": {
          "model_module": "@jupyter-widgets/controls",
          "model_name": "HTMLModel",
          "model_module_version": "1.5.0",
          "state": {
            "_dom_classes": [],
            "_model_module": "@jupyter-widgets/controls",
            "_model_module_version": "1.5.0",
            "_model_name": "HTMLModel",
            "_view_count": null,
            "_view_module": "@jupyter-widgets/controls",
            "_view_module_version": "1.5.0",
            "_view_name": "HTMLView",
            "description": "",
            "description_tooltip": null,
            "layout": "IPY_MODEL_fe10491bb25d4308876fbfd80645a48c",
            "placeholder": "​",
            "style": "IPY_MODEL_f149960a0c3340aa98c90ff7716c41ce",
            "value": " 72/72 [00:00&lt;00:00, 1443.84 examples/s]"
          }
        },
        "861703abaf97401ba2fb8a2e481e6035": {
          "model_module": "@jupyter-widgets/base",
          "model_name": "LayoutModel",
          "model_module_version": "1.2.0",
          "state": {
            "_model_module": "@jupyter-widgets/base",
            "_model_module_version": "1.2.0",
            "_model_name": "LayoutModel",
            "_view_count": null,
            "_view_module": "@jupyter-widgets/base",
            "_view_module_version": "1.2.0",
            "_view_name": "LayoutView",
            "align_content": null,
            "align_items": null,
            "align_self": null,
            "border": null,
            "bottom": null,
            "display": null,
            "flex": null,
            "flex_flow": null,
            "grid_area": null,
            "grid_auto_columns": null,
            "grid_auto_flow": null,
            "grid_auto_rows": null,
            "grid_column": null,
            "grid_gap": null,
            "grid_row": null,
            "grid_template_areas": null,
            "grid_template_columns": null,
            "grid_template_rows": null,
            "height": null,
            "justify_content": null,
            "justify_items": null,
            "left": null,
            "margin": null,
            "max_height": null,
            "max_width": null,
            "min_height": null,
            "min_width": null,
            "object_fit": null,
            "object_position": null,
            "order": null,
            "overflow": null,
            "overflow_x": null,
            "overflow_y": null,
            "padding": null,
            "right": null,
            "top": null,
            "visibility": null,
            "width": null
          }
        },
        "bfaeebbf024c457793c4438006decf34": {
          "model_module": "@jupyter-widgets/base",
          "model_name": "LayoutModel",
          "model_module_version": "1.2.0",
          "state": {
            "_model_module": "@jupyter-widgets/base",
            "_model_module_version": "1.2.0",
            "_model_name": "LayoutModel",
            "_view_count": null,
            "_view_module": "@jupyter-widgets/base",
            "_view_module_version": "1.2.0",
            "_view_name": "LayoutView",
            "align_content": null,
            "align_items": null,
            "align_self": null,
            "border": null,
            "bottom": null,
            "display": null,
            "flex": null,
            "flex_flow": null,
            "grid_area": null,
            "grid_auto_columns": null,
            "grid_auto_flow": null,
            "grid_auto_rows": null,
            "grid_column": null,
            "grid_gap": null,
            "grid_row": null,
            "grid_template_areas": null,
            "grid_template_columns": null,
            "grid_template_rows": null,
            "height": null,
            "justify_content": null,
            "justify_items": null,
            "left": null,
            "margin": null,
            "max_height": null,
            "max_width": null,
            "min_height": null,
            "min_width": null,
            "object_fit": null,
            "object_position": null,
            "order": null,
            "overflow": null,
            "overflow_x": null,
            "overflow_y": null,
            "padding": null,
            "right": null,
            "top": null,
            "visibility": null,
            "width": null
          }
        },
        "f65c2041c98942e7826b416ccd88fb2e": {
          "model_module": "@jupyter-widgets/controls",
          "model_name": "DescriptionStyleModel",
          "model_module_version": "1.5.0",
          "state": {
            "_model_module": "@jupyter-widgets/controls",
            "_model_module_version": "1.5.0",
            "_model_name": "DescriptionStyleModel",
            "_view_count": null,
            "_view_module": "@jupyter-widgets/base",
            "_view_module_version": "1.2.0",
            "_view_name": "StyleView",
            "description_width": ""
          }
        },
        "1219573379b04ab98741fbeab8bfc932": {
          "model_module": "@jupyter-widgets/base",
          "model_name": "LayoutModel",
          "model_module_version": "1.2.0",
          "state": {
            "_model_module": "@jupyter-widgets/base",
            "_model_module_version": "1.2.0",
            "_model_name": "LayoutModel",
            "_view_count": null,
            "_view_module": "@jupyter-widgets/base",
            "_view_module_version": "1.2.0",
            "_view_name": "LayoutView",
            "align_content": null,
            "align_items": null,
            "align_self": null,
            "border": null,
            "bottom": null,
            "display": null,
            "flex": null,
            "flex_flow": null,
            "grid_area": null,
            "grid_auto_columns": null,
            "grid_auto_flow": null,
            "grid_auto_rows": null,
            "grid_column": null,
            "grid_gap": null,
            "grid_row": null,
            "grid_template_areas": null,
            "grid_template_columns": null,
            "grid_template_rows": null,
            "height": null,
            "justify_content": null,
            "justify_items": null,
            "left": null,
            "margin": null,
            "max_height": null,
            "max_width": null,
            "min_height": null,
            "min_width": null,
            "object_fit": null,
            "object_position": null,
            "order": null,
            "overflow": null,
            "overflow_x": null,
            "overflow_y": null,
            "padding": null,
            "right": null,
            "top": null,
            "visibility": null,
            "width": null
          }
        },
        "1faece14543f42989924ff3eb746ffed": {
          "model_module": "@jupyter-widgets/controls",
          "model_name": "ProgressStyleModel",
          "model_module_version": "1.5.0",
          "state": {
            "_model_module": "@jupyter-widgets/controls",
            "_model_module_version": "1.5.0",
            "_model_name": "ProgressStyleModel",
            "_view_count": null,
            "_view_module": "@jupyter-widgets/base",
            "_view_module_version": "1.2.0",
            "_view_name": "StyleView",
            "bar_color": null,
            "description_width": ""
          }
        },
        "fe10491bb25d4308876fbfd80645a48c": {
          "model_module": "@jupyter-widgets/base",
          "model_name": "LayoutModel",
          "model_module_version": "1.2.0",
          "state": {
            "_model_module": "@jupyter-widgets/base",
            "_model_module_version": "1.2.0",
            "_model_name": "LayoutModel",
            "_view_count": null,
            "_view_module": "@jupyter-widgets/base",
            "_view_module_version": "1.2.0",
            "_view_name": "LayoutView",
            "align_content": null,
            "align_items": null,
            "align_self": null,
            "border": null,
            "bottom": null,
            "display": null,
            "flex": null,
            "flex_flow": null,
            "grid_area": null,
            "grid_auto_columns": null,
            "grid_auto_flow": null,
            "grid_auto_rows": null,
            "grid_column": null,
            "grid_gap": null,
            "grid_row": null,
            "grid_template_areas": null,
            "grid_template_columns": null,
            "grid_template_rows": null,
            "height": null,
            "justify_content": null,
            "justify_items": null,
            "left": null,
            "margin": null,
            "max_height": null,
            "max_width": null,
            "min_height": null,
            "min_width": null,
            "object_fit": null,
            "object_position": null,
            "order": null,
            "overflow": null,
            "overflow_x": null,
            "overflow_y": null,
            "padding": null,
            "right": null,
            "top": null,
            "visibility": null,
            "width": null
          }
        },
        "f149960a0c3340aa98c90ff7716c41ce": {
          "model_module": "@jupyter-widgets/controls",
          "model_name": "DescriptionStyleModel",
          "model_module_version": "1.5.0",
          "state": {
            "_model_module": "@jupyter-widgets/controls",
            "_model_module_version": "1.5.0",
            "_model_name": "DescriptionStyleModel",
            "_view_count": null,
            "_view_module": "@jupyter-widgets/base",
            "_view_module_version": "1.2.0",
            "_view_name": "StyleView",
            "description_width": ""
          }
        },
        "68795e0630b2419390f9e7e7084a3c7c": {
          "model_module": "@jupyter-widgets/controls",
          "model_name": "HBoxModel",
          "model_module_version": "1.5.0",
          "state": {
            "_dom_classes": [],
            "_model_module": "@jupyter-widgets/controls",
            "_model_module_version": "1.5.0",
            "_model_name": "HBoxModel",
            "_view_count": null,
            "_view_module": "@jupyter-widgets/controls",
            "_view_module_version": "1.5.0",
            "_view_name": "HBoxView",
            "box_style": "",
            "children": [
              "IPY_MODEL_b0c7838f81df47c7ad0e979efc67dff5",
              "IPY_MODEL_af8d492c765c42acb5f717f15a842036",
              "IPY_MODEL_022c99794f83413a982935d767a5d3b1"
            ],
            "layout": "IPY_MODEL_4e1c4316c49f479ea44dd357310f525f"
          }
        },
        "b0c7838f81df47c7ad0e979efc67dff5": {
          "model_module": "@jupyter-widgets/controls",
          "model_name": "HTMLModel",
          "model_module_version": "1.5.0",
          "state": {
            "_dom_classes": [],
            "_model_module": "@jupyter-widgets/controls",
            "_model_module_version": "1.5.0",
            "_model_name": "HTMLModel",
            "_view_count": null,
            "_view_module": "@jupyter-widgets/controls",
            "_view_module_version": "1.5.0",
            "_view_name": "HTMLView",
            "description": "",
            "description_tooltip": null,
            "layout": "IPY_MODEL_2437c9d940eb446ab9061b84a1ae909a",
            "placeholder": "​",
            "style": "IPY_MODEL_5144fdf9ab3e40d5b07c58a9dbff2ee0",
            "value": "model.safetensors: 100%"
          }
        },
        "af8d492c765c42acb5f717f15a842036": {
          "model_module": "@jupyter-widgets/controls",
          "model_name": "FloatProgressModel",
          "model_module_version": "1.5.0",
          "state": {
            "_dom_classes": [],
            "_model_module": "@jupyter-widgets/controls",
            "_model_module_version": "1.5.0",
            "_model_name": "FloatProgressModel",
            "_view_count": null,
            "_view_module": "@jupyter-widgets/controls",
            "_view_module_version": "1.5.0",
            "_view_name": "ProgressView",
            "bar_style": "success",
            "description": "",
            "description_tooltip": null,
            "layout": "IPY_MODEL_5586d0c8058948ec83ca94fd611b5781",
            "max": 267954768,
            "min": 0,
            "orientation": "horizontal",
            "style": "IPY_MODEL_762cca0df05d492cb35e1ab4600709d7",
            "value": 267954768
          }
        },
        "022c99794f83413a982935d767a5d3b1": {
          "model_module": "@jupyter-widgets/controls",
          "model_name": "HTMLModel",
          "model_module_version": "1.5.0",
          "state": {
            "_dom_classes": [],
            "_model_module": "@jupyter-widgets/controls",
            "_model_module_version": "1.5.0",
            "_model_name": "HTMLModel",
            "_view_count": null,
            "_view_module": "@jupyter-widgets/controls",
            "_view_module_version": "1.5.0",
            "_view_name": "HTMLView",
            "description": "",
            "description_tooltip": null,
            "layout": "IPY_MODEL_7e49f95b55c4405a910d016ffa359838",
            "placeholder": "​",
            "style": "IPY_MODEL_bab9e3aa6a9148d1a0f9b8404c6c26b4",
            "value": " 268M/268M [00:03&lt;00:00, 166MB/s]"
          }
        },
        "4e1c4316c49f479ea44dd357310f525f": {
          "model_module": "@jupyter-widgets/base",
          "model_name": "LayoutModel",
          "model_module_version": "1.2.0",
          "state": {
            "_model_module": "@jupyter-widgets/base",
            "_model_module_version": "1.2.0",
            "_model_name": "LayoutModel",
            "_view_count": null,
            "_view_module": "@jupyter-widgets/base",
            "_view_module_version": "1.2.0",
            "_view_name": "LayoutView",
            "align_content": null,
            "align_items": null,
            "align_self": null,
            "border": null,
            "bottom": null,
            "display": null,
            "flex": null,
            "flex_flow": null,
            "grid_area": null,
            "grid_auto_columns": null,
            "grid_auto_flow": null,
            "grid_auto_rows": null,
            "grid_column": null,
            "grid_gap": null,
            "grid_row": null,
            "grid_template_areas": null,
            "grid_template_columns": null,
            "grid_template_rows": null,
            "height": null,
            "justify_content": null,
            "justify_items": null,
            "left": null,
            "margin": null,
            "max_height": null,
            "max_width": null,
            "min_height": null,
            "min_width": null,
            "object_fit": null,
            "object_position": null,
            "order": null,
            "overflow": null,
            "overflow_x": null,
            "overflow_y": null,
            "padding": null,
            "right": null,
            "top": null,
            "visibility": null,
            "width": null
          }
        },
        "2437c9d940eb446ab9061b84a1ae909a": {
          "model_module": "@jupyter-widgets/base",
          "model_name": "LayoutModel",
          "model_module_version": "1.2.0",
          "state": {
            "_model_module": "@jupyter-widgets/base",
            "_model_module_version": "1.2.0",
            "_model_name": "LayoutModel",
            "_view_count": null,
            "_view_module": "@jupyter-widgets/base",
            "_view_module_version": "1.2.0",
            "_view_name": "LayoutView",
            "align_content": null,
            "align_items": null,
            "align_self": null,
            "border": null,
            "bottom": null,
            "display": null,
            "flex": null,
            "flex_flow": null,
            "grid_area": null,
            "grid_auto_columns": null,
            "grid_auto_flow": null,
            "grid_auto_rows": null,
            "grid_column": null,
            "grid_gap": null,
            "grid_row": null,
            "grid_template_areas": null,
            "grid_template_columns": null,
            "grid_template_rows": null,
            "height": null,
            "justify_content": null,
            "justify_items": null,
            "left": null,
            "margin": null,
            "max_height": null,
            "max_width": null,
            "min_height": null,
            "min_width": null,
            "object_fit": null,
            "object_position": null,
            "order": null,
            "overflow": null,
            "overflow_x": null,
            "overflow_y": null,
            "padding": null,
            "right": null,
            "top": null,
            "visibility": null,
            "width": null
          }
        },
        "5144fdf9ab3e40d5b07c58a9dbff2ee0": {
          "model_module": "@jupyter-widgets/controls",
          "model_name": "DescriptionStyleModel",
          "model_module_version": "1.5.0",
          "state": {
            "_model_module": "@jupyter-widgets/controls",
            "_model_module_version": "1.5.0",
            "_model_name": "DescriptionStyleModel",
            "_view_count": null,
            "_view_module": "@jupyter-widgets/base",
            "_view_module_version": "1.2.0",
            "_view_name": "StyleView",
            "description_width": ""
          }
        },
        "5586d0c8058948ec83ca94fd611b5781": {
          "model_module": "@jupyter-widgets/base",
          "model_name": "LayoutModel",
          "model_module_version": "1.2.0",
          "state": {
            "_model_module": "@jupyter-widgets/base",
            "_model_module_version": "1.2.0",
            "_model_name": "LayoutModel",
            "_view_count": null,
            "_view_module": "@jupyter-widgets/base",
            "_view_module_version": "1.2.0",
            "_view_name": "LayoutView",
            "align_content": null,
            "align_items": null,
            "align_self": null,
            "border": null,
            "bottom": null,
            "display": null,
            "flex": null,
            "flex_flow": null,
            "grid_area": null,
            "grid_auto_columns": null,
            "grid_auto_flow": null,
            "grid_auto_rows": null,
            "grid_column": null,
            "grid_gap": null,
            "grid_row": null,
            "grid_template_areas": null,
            "grid_template_columns": null,
            "grid_template_rows": null,
            "height": null,
            "justify_content": null,
            "justify_items": null,
            "left": null,
            "margin": null,
            "max_height": null,
            "max_width": null,
            "min_height": null,
            "min_width": null,
            "object_fit": null,
            "object_position": null,
            "order": null,
            "overflow": null,
            "overflow_x": null,
            "overflow_y": null,
            "padding": null,
            "right": null,
            "top": null,
            "visibility": null,
            "width": null
          }
        },
        "762cca0df05d492cb35e1ab4600709d7": {
          "model_module": "@jupyter-widgets/controls",
          "model_name": "ProgressStyleModel",
          "model_module_version": "1.5.0",
          "state": {
            "_model_module": "@jupyter-widgets/controls",
            "_model_module_version": "1.5.0",
            "_model_name": "ProgressStyleModel",
            "_view_count": null,
            "_view_module": "@jupyter-widgets/base",
            "_view_module_version": "1.2.0",
            "_view_name": "StyleView",
            "bar_color": null,
            "description_width": ""
          }
        },
        "7e49f95b55c4405a910d016ffa359838": {
          "model_module": "@jupyter-widgets/base",
          "model_name": "LayoutModel",
          "model_module_version": "1.2.0",
          "state": {
            "_model_module": "@jupyter-widgets/base",
            "_model_module_version": "1.2.0",
            "_model_name": "LayoutModel",
            "_view_count": null,
            "_view_module": "@jupyter-widgets/base",
            "_view_module_version": "1.2.0",
            "_view_name": "LayoutView",
            "align_content": null,
            "align_items": null,
            "align_self": null,
            "border": null,
            "bottom": null,
            "display": null,
            "flex": null,
            "flex_flow": null,
            "grid_area": null,
            "grid_auto_columns": null,
            "grid_auto_flow": null,
            "grid_auto_rows": null,
            "grid_column": null,
            "grid_gap": null,
            "grid_row": null,
            "grid_template_areas": null,
            "grid_template_columns": null,
            "grid_template_rows": null,
            "height": null,
            "justify_content": null,
            "justify_items": null,
            "left": null,
            "margin": null,
            "max_height": null,
            "max_width": null,
            "min_height": null,
            "min_width": null,
            "object_fit": null,
            "object_position": null,
            "order": null,
            "overflow": null,
            "overflow_x": null,
            "overflow_y": null,
            "padding": null,
            "right": null,
            "top": null,
            "visibility": null,
            "width": null
          }
        },
        "bab9e3aa6a9148d1a0f9b8404c6c26b4": {
          "model_module": "@jupyter-widgets/controls",
          "model_name": "DescriptionStyleModel",
          "model_module_version": "1.5.0",
          "state": {
            "_model_module": "@jupyter-widgets/controls",
            "_model_module_version": "1.5.0",
            "_model_name": "DescriptionStyleModel",
            "_view_count": null,
            "_view_module": "@jupyter-widgets/base",
            "_view_module_version": "1.2.0",
            "_view_name": "StyleView",
            "description_width": ""
          }
        }
      }
    }
  },
  "nbformat": 4,
  "nbformat_minor": 5
}