{
  "nbformat": 4,
  "nbformat_minor": 0,
  "metadata": {
    "colab": {
      "provenance": []
    },
    "kernelspec": {
      "name": "python3",
      "display_name": "Python 3"
    },
    "language_info": {
      "name": "python"
    }
  },
  "cells": [
    {
      "cell_type": "code",
      "source": [
        "pip install newsapi-python\n"
      ],
      "metadata": {
        "colab": {
          "base_uri": "https://localhost:8080/"
        },
        "id": "NkRbQRe7a9hk",
        "outputId": "e2b2fac5-3f61-4628-c474-abd90bb01908"
      },
      "execution_count": null,
      "outputs": [
        {
          "output_type": "stream",
          "name": "stdout",
          "text": [
            "Collecting newsapi-python\n",
            "  Downloading newsapi_python-0.2.7-py2.py3-none-any.whl.metadata (1.2 kB)\n",
            "Requirement already satisfied: requests<3.0.0 in /usr/local/lib/python3.11/dist-packages (from newsapi-python) (2.32.3)\n",
            "Requirement already satisfied: charset-normalizer<4,>=2 in /usr/local/lib/python3.11/dist-packages (from requests<3.0.0->newsapi-python) (3.4.1)\n",
            "Requirement already satisfied: idna<4,>=2.5 in /usr/local/lib/python3.11/dist-packages (from requests<3.0.0->newsapi-python) (3.10)\n",
            "Requirement already satisfied: urllib3<3,>=1.21.1 in /usr/local/lib/python3.11/dist-packages (from requests<3.0.0->newsapi-python) (2.3.0)\n",
            "Requirement already satisfied: certifi>=2017.4.17 in /usr/local/lib/python3.11/dist-packages (from requests<3.0.0->newsapi-python) (2025.1.31)\n",
            "Downloading newsapi_python-0.2.7-py2.py3-none-any.whl (7.9 kB)\n",
            "Installing collected packages: newsapi-python\n",
            "Successfully installed newsapi-python-0.2.7\n"
          ]
        }
      ]
    },
    {
      "cell_type": "code",
      "source": [
        "from newsapi import NewsApiClient\n",
        "\n",
        "newsapi = NewsApiClient(api_key=\"50fabb55155d4a13a248d40c8f60991b\")\n",
        "\n",
        "top_headlines = newsapi.get_top_headlines(language=\"en\", country=\"us\")\n",
        "\n",
        "for article in top_headlines[\"articles\"][:30]:\n",
        "    print(\"Headline:\", article[\"title\"])\n",
        "    print(\"Link:\", article[\"url\"])\n",
        "    print()\n"
      ],
      "metadata": {
        "colab": {
          "base_uri": "https://localhost:8080/"
        },
        "id": "JHSU57W9bCed",
        "outputId": "029cfae9-8db6-4b6b-e0a5-d73394d5b98c"
      },
      "execution_count": null,
      "outputs": [
        {
          "output_type": "stream",
          "name": "stdout",
          "text": [
            "Headline: Lakers trade for Hornets' Williams rescinded - ESPN\n",
            "Link: https://www.espn.com/nba/story/_/id/43756073/lakers-hornets-deal-nixed-williams-fails-physical-sources-say\n",
            "\n",
            "Headline: Magnitude 7.6 earthquake in the Caribbean triggers a tsunami advisory for Puerto Rico and Virgin Islands - CNN\n",
            "Link: https://www.cnn.com/2025/02/08/americas/earthquake-caribbean-tsunami-warning-puerto-rico-virgin-intl-latam/index.html\n",
            "\n",
            "Headline: Anthony Davis leaves his Dallas debut with an injury after seismic Luka Doncic trade - The Associated Press\n",
            "Link: https://apnews.com/article/mavericks-anthony-davis-22ce89d5786f84d2334b4b67733e9d97\n",
            "\n",
            "Headline: What to know about presidents and security clearances - NPR\n",
            "Link: https://www.npr.org/2025/02/08/nx-s1-5290912/trump-revoke-biden-security-clearance-history-explainer\n",
            "\n",
            "Headline: NIH announces it's slashing funding for indirect research costs - NBC News\n",
            "Link: https://www.nbcnews.com/politics/politics-news/nih-announces-slashing-funding-indirect-research-costs-rcna191337\n",
            "\n",
            "Headline: Christy Carlson Romano Reveals She Was “Shot in the Eye” During Husband’s Birthday Celebration - Hollywood Reporter\n",
            "Link: http://www.hollywoodreporter.com/news/general-news/christy-carlson-romano-shot-in-the-eye-1236131095/\n",
            "\n",
            "Headline: Three big iPhone SE 4 rumors you might’ve missed - 9to5Mac\n",
            "Link: https://9to5mac.com/2025/02/08/here-are-three-big-iphone-se-4-rumors-you-may-have-missed/\n",
            "\n",
            "Headline: PlayStation Network struggles to return from a nearly daylong outage - The Verge\n",
            "Link: https://www.theverge.com/news/608946/playstation-network-down-outage\n",
            "\n",
            "Headline: Activist hedge fund Elliott builds stake in struggling BP - Financial Times\n",
            "Link: https://www.ft.com/content/0fe68734-0a90-4824-ba84-8a3cd39a0bc3\n",
            "\n",
            "Headline: Hamas releases 3 frail-looking Israeli hostages for Palestinian prisoners under Gaza ceasefire - The Associated Press\n",
            "Link: https://apnews.com/article/israel-palestinians-hamas-war-news-ceasefire-hostages-02-08-2025-bf94014ccedeb15b4d235a1df57b563a\n",
            "\n",
            "Headline: What we know about the Alaska commuter plane crash that killed all 10 people aboard - PBS NewsHour\n",
            "Link: https://www.pbs.org/newshour/nation/what-we-know-about-the-alaska-commuter-plane-crash-that-killed-all-10-people-aboard\n",
            "\n",
            "Headline: Two U.S. senators slammed an S.F. telehealth company’s Super Bowl ad. Here’s why - San Francisco Chronicle\n",
            "Link: https://www.sfchronicle.com/bayarea/article/hims-hers-super-bowl-ad-20155177.php\n",
            "\n",
            "Headline: Trump’s Gaza proposal strikes fear in his new Arab American supporters - The Washington Post\n",
            "Link: https://www.washingtonpost.com/politics/2025/02/08/trump-gaza-arab-american-supporters/\n",
            "\n",
            "Headline: Apple’s new research robot takes a page from Pixar’s playbook - TechCrunch\n",
            "Link: https://techcrunch.com/2025/02/08/apples-new-research-robot-takes-a-page-from-pixars-playbook/\n",
            "\n",
            "Headline: Bird flu variant found in Nevada cows shows signs of adaptation to mammals - CNN\n",
            "Link: https://www.cnn.com/2025/02/08/health/bird-flu-variant-nevada-human-case/index.html\n",
            "\n",
            "Headline: Solo Sikoa sheds Tribal Chief look during return to WWE SmackDown - Cageside Seats\n",
            "Link: https://www.cagesideseats.com/wwe/2025/2/8/24361519/solo-sikoa-sheds-tribal-chief-look-wwe-smackdown-return-wrecks-cody-rhodes-jacob-fatu-tama-tonga\n",
            "\n",
            "Headline: Kennedy Center responds to Trump's announcement that he's taking over as chairman - WUSA9.com\n",
            "Link: https://www.wusa9.com/article/news/politics/kennedy-center-responds-to-trump-wanting-to-take-over-board-chairman/65-d503a150-eb48-4c7a-b73e-bc4f285febe6\n",
            "\n",
            "Headline: Elon Musk said he’s not interested in acquiring TikTok - TechCrunch\n",
            "Link: https://techcrunch.com/2025/02/08/elon-musk-said-hes-not-interested-in-acquiring-tiktok/\n",
            "\n",
            "Headline: Trump says some white South Africans are oppressed and could be resettled in the US. They say no thanks - The Associated Press\n",
            "Link: https://apnews.com/article/trump-south-africa-afrikaners-0120efec17122b47e3371e0e39fe1db8\n",
            "\n"
          ]
        }
      ]
    },
    {
      "cell_type": "code",
      "source": [
        "import pandas as pd\n",
        "\n",
        "# Convert API response to DataFrame\n",
        "df = pd.DataFrame(top_headlines[\"articles\"])\n",
        "\n",
        "# Select relevant columns\n",
        "df = df[[\"title\", \"description\", \"content\", \"url\", \"publishedAt\", \"source\"]]\n",
        "\n",
        "# Save to CSV for later use\n",
        "df.to_csv(\"news_data.csv\", index=False)\n",
        "\n",
        "print(\"Dataset saved successfully!\")\n",
        "print(df.shape)  # Check dataset size\n"
      ],
      "metadata": {
        "colab": {
          "base_uri": "https://localhost:8080/"
        },
        "id": "Ag3Wuy6HnGZb",
        "outputId": "bdaacd5e-d0f3-4ab4-e7d8-5c84765eb27e"
      },
      "execution_count": null,
      "outputs": [
        {
          "output_type": "stream",
          "name": "stdout",
          "text": [
            "Dataset saved successfully!\n",
            "(19, 6)\n"
          ]
        }
      ]
    },
    {
      "cell_type": "code",
      "source": [
        "import re\n",
        "import nltk\n",
        "from nltk.corpus import stopwords\n",
        "from nltk.tokenize import word_tokenize\n",
        "\n",
        "nltk.download('punkt_tab')\n",
        "nltk.download(\"stopwords\")\n",
        "nltk.download(\"punkt\")\n",
        "\n",
        "def clean_text(text):\n",
        "    if not isinstance(text, str):\n",
        "        return \"\"  # Handle missing values\n",
        "\n",
        "    text = text.lower()  # Convert to lowercase\n",
        "    text = re.sub(r\"https?://\\S+|www\\.\\S+\", \"\", text)  # Remove URLs\n",
        "    text = re.sub(r\"[^\\w\\s]\", \"\", text)  # Remove punctuation\n",
        "    tokens = word_tokenize(text)  # Tokenization\n",
        "    tokens = [word for word in tokens if word not in stopwords.words(\"english\")]  # Remove stopwords\n",
        "    return \" \".join(tokens)\n",
        "\n",
        "df[\"cleaned_content\"] = df[\"content\"].apply(clean_text)\n",
        "print(df.head())  # Check processed text\n"
      ],
      "metadata": {
        "colab": {
          "base_uri": "https://localhost:8080/"
        },
        "id": "skJfkAdvnNYv",
        "outputId": "819a3650-08b0-4e33-db35-20dcee531b0c"
      },
      "execution_count": null,
      "outputs": [
        {
          "output_type": "stream",
          "name": "stderr",
          "text": [
            "[nltk_data] Downloading package punkt_tab to /root/nltk_data...\n",
            "[nltk_data]   Unzipping tokenizers/punkt_tab.zip.\n",
            "[nltk_data] Downloading package stopwords to /root/nltk_data...\n",
            "[nltk_data]   Package stopwords is already up-to-date!\n",
            "[nltk_data] Downloading package punkt to /root/nltk_data...\n",
            "[nltk_data]   Package punkt is already up-to-date!\n"
          ]
        },
        {
          "output_type": "stream",
          "name": "stdout",
          "text": [
            "                                               title  \\\n",
            "0  Lakers trade for Hornets' Williams rescinded -...   \n",
            "1  Magnitude 7.6 earthquake in the Caribbean trig...   \n",
            "2  Anthony Davis leaves his Dallas debut with an ...   \n",
            "3  What to know about presidents and security cle...   \n",
            "4  NIH announces it's slashing funding for indire...   \n",
            "\n",
            "                                         description  \\\n",
            "0  The trade between the Hornets and Lakers for M...   \n",
            "1  An earthquake with a magnitude of 7.6 occurred...   \n",
            "2  Anthony Davis left in the third quarter with a...   \n",
            "3  Both former President Joe Biden and President ...   \n",
            "4  The National Institutes of Health announced th...   \n",
            "\n",
            "                                             content  \\\n",
            "0  LOS ANGELES -- The Lakers' trade with the Char...   \n",
            "1  An earthquake with a magnitude of 7.6 occurred...   \n",
            "2  DALLAS (AP) Anthony Davis left in the third qu...   \n",
            "3  The question of who should have access to the ...   \n",
            "4  The National Institutes of Health announced Fr...   \n",
            "\n",
            "                                                 url           publishedAt  \\\n",
            "0  https://www.espn.com/nba/story/_/id/43756073/l...  2025-02-09T02:12:00Z   \n",
            "1  https://www.cnn.com/2025/02/08/americas/earthq...  2025-02-09T01:20:00Z   \n",
            "2  https://apnews.com/article/mavericks-anthony-d...  2025-02-09T01:05:00Z   \n",
            "3  https://www.npr.org/2025/02/08/nx-s1-5290912/t...  2025-02-09T00:02:19Z   \n",
            "4  https://www.nbcnews.com/politics/politics-news...  2025-02-08T23:53:07Z   \n",
            "\n",
            "                                              source  \\\n",
            "0                     {'id': 'espn', 'name': 'ESPN'}   \n",
            "1                       {'id': 'cnn', 'name': 'CNN'}   \n",
            "2  {'id': 'associated-press', 'name': 'Associated...   \n",
            "3                        {'id': None, 'name': 'NPR'}   \n",
            "4             {'id': 'nbc-news', 'name': 'NBC News'}   \n",
            "\n",
            "                                     cleaned_content  \n",
            "0  los angeles lakers trade charlotte hornets mar...  \n",
            "1  earthquake magnitude 76 occurred saturday cari...  \n",
            "2  dallas ap anthony davis left third quarter low...  \n",
            "3  question access nations secrets one utmost imp...  \n",
            "4  national institutes health announced friday ag...  \n"
          ]
        }
      ]
    }
  ]
}