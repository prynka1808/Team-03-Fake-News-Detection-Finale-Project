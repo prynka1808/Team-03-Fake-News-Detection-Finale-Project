{
  "nbformat": 4,
  "nbformat_minor": 0,
  "metadata": {
    "colab": {
      "provenance": []
    },
    "kernelspec": {
      "name": "python3",
      "display_name": "Python 3"
    },
    "language_info": {
      "name": "python"
    }
  },
  "cells": [
    {
      "cell_type": "code",
      "source": [
        "pip install newsapi-python\n"
      ],
      "metadata": {
        "colab": {
          "base_uri": "https://localhost:8080/"
        },
        "id": "NkRbQRe7a9hk",
        "outputId": "5977afb7-7131-4a48-bc8e-2dde9a5c4167"
      },
      "execution_count": null,
      "outputs": [
        {
          "output_type": "stream",
          "name": "stdout",
          "text": [
            "Requirement already satisfied: newsapi-python in /usr/local/lib/python3.11/dist-packages (0.2.7)\n",
            "Requirement already satisfied: requests<3.0.0 in /usr/local/lib/python3.11/dist-packages (from newsapi-python) (2.32.3)\n",
            "Requirement already satisfied: charset-normalizer<4,>=2 in /usr/local/lib/python3.11/dist-packages (from requests<3.0.0->newsapi-python) (3.4.1)\n",
            "Requirement already satisfied: idna<4,>=2.5 in /usr/local/lib/python3.11/dist-packages (from requests<3.0.0->newsapi-python) (3.10)\n",
            "Requirement already satisfied: urllib3<3,>=1.21.1 in /usr/local/lib/python3.11/dist-packages (from requests<3.0.0->newsapi-python) (2.3.0)\n",
            "Requirement already satisfied: certifi>=2017.4.17 in /usr/local/lib/python3.11/dist-packages (from requests<3.0.0->newsapi-python) (2024.12.14)\n"
          ]
        }
      ]
    },
    {
      "cell_type": "code",
      "source": [
        "from newsapi import NewsApiClient\n",
        "\n",
        "newsapi = NewsApiClient(api_key=\"50fabb55155d4a13a248d40c8f60991b\")\n",
        "\n",
        "top_headlines = newsapi.get_top_headlines(language=\"en\", country=\"us\")\n",
        "\n",
        "for article in top_headlines[\"articles\"][:30]:\n",
        "    print(\"Headline:\", article[\"title\"])\n",
        "    print(\"Link:\", article[\"url\"])\n",
        "    print()\n"
      ],
      "metadata": {
        "colab": {
          "base_uri": "https://localhost:8080/"
        },
        "id": "JHSU57W9bCed",
        "outputId": "792d6982-b32f-46ba-a724-44a49cd0c8de"
      },
      "execution_count": null,
      "outputs": [
        {
          "output_type": "stream",
          "name": "stdout",
          "text": [
            "Headline: GSA seeks 50% spending cuts, nonvoluntary RIF after OPM’s resignation offer - Federal News Network\n",
            "Link: https://federalnewsnetwork.com/hiring-retention/2025/02/gsa-seeks-50-spending-cuts-nonvoluntary-rif-after-opms-resignation-offer/\n",
            "\n",
            "Headline: FBI turns over details of 5,000 employees who worked on January 6 cases to Trump Justice Department, as agents sue - CNN\n",
            "Link: https://www.cnn.com/2025/02/04/politics/fbi-employees-tuesday/index.html\n",
            "\n",
            "Headline: S&P 500 rises as investors shake off Trump's trade battles, Nasdaq gains 1% led by Palantir: Live updates - CNBC\n",
            "Link: https://www.cnbc.com/2025/02/03/stock-market-today-live-updates.html\n",
            "\n",
            "Headline: 'No Team' Has Asked Miami for Permission to Talk to Jimmy Butler About Trade - Sports Illustrated\n",
            "Link: https://www.si.com/nba/no-team-has-asked-miami-for-permission-to-talk-to-jimmy-butler-about-trade\n",
            "\n",
            "Headline: As hundreds of quakes rattle Greek islands, a few brave tourists have Santorini to themselves - The Associated Press\n",
            "Link: https://apnews.com/article/greece-santorini-earthquakes-25df4b59f3c0f3c72d4cfc31f1e0034a\n",
            "\n",
            "Headline: Trump order to dismantle the education department in the works, sources say - ABC News\n",
            "Link: https://abcnews.go.com/Politics/trump-order-dismantle-education-department-works-sources/story?id\\\\u003d118418280\n",
            "\n",
            "Headline: Sweden shooting: Around 10 people killed in shooting at Orebro school - BBC.com\n",
            "Link: https://www.bbc.com/news/articles/c79d52gpd02o\n",
            "\n",
            "Headline: Families and doctors sue over Trump’s order to halt funding for gender-affirming care - The Associated Press\n",
            "Link: https://apnews.com/article/trump-transgender-gender-affirming-care-lawsuit-19-cf1467fd53ebb8a125a863c345508e4c\n",
            "\n",
            "Headline: Now Kanye Is Beefing With Don Lemon About the Grammys - The Cut\n",
            "Link: http://www.thecut.com/article/don-lemon-and-kanye-west-have-grammys-beef.html\n",
            "\n",
            "Headline: Trump to host Netanyahu in first foreign leader visit of second term - BBC.com\n",
            "Link: https://www.bbc.com/news/live/clyn05y9x2xt\n",
            "\n",
            "Headline: Apple lashes out at iPhone porn app maker and the EU rules allowing its download - The Associated Press\n",
            "Link: https://apnews.com/article/apple-app-store-porn-495465278f404b38eb9ec472cd2ca6e3\n",
            "\n",
            "Headline: Luka Dončić joins Lakers after trade from Mavericks - NBA.Com\n",
            "Link: https://www.nba.com/news/luka-doncic-joins-lakers-after-trade-from-mavericks\n",
            "\n",
            "Headline: Cruise to slash workforce by 50% after GM cuts funding to robotaxi operations - TechCrunch\n",
            "Link: https://techcrunch.com/2025/02/04/cruise-to-slash-workforce-by-50-after-gm-cuts-funding-to-robotaxi-operations/\n",
            "\n",
            "Headline: Hear why key Republican voted to advance RFK Jr.'s nomination - CNN\n",
            "Link: https://www.cnn.com/2025/02/04/politics/video/rfk-jr-vote-senator-bill-cassidy-digvid\n",
            "\n",
            "Headline: Introducing Apple Invites, a new app that brings people together for life’s special moments - Apple Newsroom\n",
            "Link: https://www.apple.com/newsroom/2025/02/introducing-apple-invites-a-new-app-that-brings-people-together/\n",
            "\n",
            "Headline: Bullet-fast moon rocks carved 2 lunar gorges deeper than the Grand Canyon - Space.com\n",
            "Link: https://www.space.com/the-universe/moon/bullet-fast-moon-rocks-carved-2-lunar-gorges-deeper-than-the-grand-canyon\n",
            "\n"
          ]
        }
      ]
    },
    {
      "cell_type": "code",
      "source": [
        "import pandas as pd\n",
        "\n",
        "# Convert API response to DataFrame\n",
        "df = pd.DataFrame(top_headlines[\"articles\"])\n",
        "\n",
        "# Select relevant columns\n",
        "df = df[[\"title\", \"description\", \"content\", \"url\", \"publishedAt\", \"source\"]]\n",
        "\n",
        "# Save to CSV for later use\n",
        "df.to_csv(\"news_data.csv\", index=False)\n",
        "\n",
        "print(\"Dataset saved successfully!\")\n",
        "print(df.shape)  # Check dataset size\n"
      ],
      "metadata": {
        "colab": {
          "base_uri": "https://localhost:8080/"
        },
        "id": "Ag3Wuy6HnGZb",
        "outputId": "3b47d6a1-9a56-413d-8db2-b285e952b10f"
      },
      "execution_count": null,
      "outputs": [
        {
          "output_type": "stream",
          "name": "stdout",
          "text": [
            "Dataset saved successfully!\n",
            "(16, 6)\n"
          ]
        }
      ]
    },
    {
      "cell_type": "code",
      "source": [
        "import re\n",
        "import nltk\n",
        "from nltk.corpus import stopwords\n",
        "from nltk.tokenize import word_tokenize\n",
        "\n",
        "nltk.download(\"stopwords\")\n",
        "nltk.download(\"punkt\")\n",
        "\n",
        "def clean_text(text):\n",
        "    if not isinstance(text, str):\n",
        "        return \"\"  # Handle missing values\n",
        "\n",
        "    text = text.lower()  # Convert to lowercase\n",
        "    text = re.sub(r\"https?://\\S+|www\\.\\S+\", \"\", text)  # Remove URLs\n",
        "    text = re.sub(r\"[^\\w\\s]\", \"\", text)  # Remove punctuation\n",
        "    tokens = word_tokenize(text)  # Tokenization\n",
        "    tokens = [word for word in tokens if word not in stopwords.words(\"english\")]  # Remove stopwords\n",
        "    return \" \".join(tokens)\n",
        "\n",
        "df[\"cleaned_content\"] = df[\"content\"].apply(clean_text)\n",
        "print(df.head())  # Check processed text\n"
      ],
      "metadata": {
        "colab": {
          "base_uri": "https://localhost:8080/"
        },
        "id": "skJfkAdvnNYv",
        "outputId": "ccfe9935-d8cb-42f7-d617-31985cf7b0a7"
      },
      "execution_count": null,
      "outputs": [
        {
          "output_type": "stream",
          "name": "stdout",
          "text": [
            "                                               title  \\\n",
            "0  GSA seeks 50% spending cuts, nonvoluntary RIF ...   \n",
            "1  FBI turns over details of 5,000 employees who ...   \n",
            "2  S&P 500 rises as investors shake off Trump's t...   \n",
            "3  'No Team' Has Asked Miami for Permission to Ta...   \n",
            "4  As hundreds of quakes rattle Greek islands, a ...   \n",
            "\n",
            "                                         description  \\\n",
            "0  The proposed cuts and RIF at GSA raise questio...   \n",
            "1  FBI officials have complied with demands to pr...   \n",
            "2  Stocks were little changed on Tuesday as Wall ...   \n",
            "3  Butler's market appears non-existent as the NB...   \n",
            "4  The mayor of Santorini says that the hundreds ...   \n",
            "\n",
            "                                             content  \\\n",
            "0  The Trump administrations leadership at the Ge...   \n",
            "1  FBI officials have complied with demands to pr...   \n",
            "2  The Nasdaq Composite and S&amp;P 500 moved hig...   \n",
            "3  The market for Jimmy Butler may not be as robu...   \n",
            "4  SANTORINI, Greece (AP) The hundreds of earthqu...   \n",
            "\n",
            "                                                 url           publishedAt  \\\n",
            "0  https://federalnewsnetwork.com/hiring-retentio...  2025-02-04T20:36:15Z   \n",
            "1  https://www.cnn.com/2025/02/04/politics/fbi-em...  2025-02-04T20:14:00Z   \n",
            "2  https://www.cnbc.com/2025/02/03/stock-market-t...  2025-02-04T20:12:00Z   \n",
            "3  https://www.si.com/nba/no-team-has-asked-miami...  2025-02-04T19:07:14Z   \n",
            "4  https://apnews.com/article/greece-santorini-ea...  2025-02-04T18:59:00Z   \n",
            "\n",
            "                                              source  \\\n",
            "0       {'id': None, 'name': 'Federal News Network'}   \n",
            "1                       {'id': 'cnn', 'name': 'CNN'}   \n",
            "2                       {'id': None, 'name': 'CNBC'}   \n",
            "3         {'id': None, 'name': 'Sports Illustrated'}   \n",
            "4  {'id': 'associated-press', 'name': 'Associated...   \n",
            "\n",
            "                                     cleaned_content  \n",
            "0  trump administrations leadership general servi...  \n",
            "1  fbi officials complied demands provide justice...  \n",
            "2  nasdaq composite sampp 500 moved higher tuesda...  \n",
            "3  market jimmy butler may robust originally thou...  \n",
            "4  santorini greece ap hundreds earthquakes rattl...  \n"
          ]
        },
        {
          "output_type": "stream",
          "name": "stderr",
          "text": [
            "[nltk_data] Downloading package stopwords to /root/nltk_data...\n",
            "[nltk_data]   Package stopwords is already up-to-date!\n",
            "[nltk_data] Downloading package punkt to /root/nltk_data...\n",
            "[nltk_data]   Package punkt is already up-to-date!\n"
          ]
        }
      ]
    },
    {
      "cell_type": "code",
      "source": [
        "import re\n",
        "import nltk\n",
        "from nltk.corpus import stopwords\n",
        "from nltk.tokenize import word_tokenize\n",
        "\n",
        "nltk.download(\"stopwords\")\n",
        "nltk.download(\"punkt\")\n",
        "nltk.download('punkt_tab') # Download the punkt_tab dataset\n",
        "\n",
        "def clean_text(text):\n",
        "    if not isinstance(text, str):\n",
        "        return \"\"  # Handle missing values\n",
        "\n",
        "    text = text.lower()  # Convert to lowercase\n",
        "    text = re.sub(r\"https?://\\S+|www\\.\\S+\", \"\", text)  # Remove URLs\n",
        "    text = re.sub(r\"[^\\w\\s]\", \"\", text)  # Remove punctuation\n",
        "    tokens = word_tokenize(text)  # Tokenization\n",
        "    tokens = [word for word in tokens if word not in stopwords.words(\"english\")]  # Remove stopwords\n",
        "    return \" \".join(tokens)\n",
        "\n",
        "df[\"cleaned_content\"] = df[\"content\"].apply(clean_text)\n",
        "print(df.head())  # Check processed text"
      ],
      "metadata": {
        "colab": {
          "base_uri": "https://localhost:8080/"
        },
        "id": "z8Phzprtpo1O",
        "outputId": "b97511c8-6151-4125-9473-f17a05b554ba"
      },
      "execution_count": null,
      "outputs": [
        {
          "output_type": "stream",
          "name": "stderr",
          "text": [
            "[nltk_data] Downloading package stopwords to /root/nltk_data...\n",
            "[nltk_data]   Package stopwords is already up-to-date!\n",
            "[nltk_data] Downloading package punkt to /root/nltk_data...\n",
            "[nltk_data]   Package punkt is already up-to-date!\n",
            "[nltk_data] Downloading package punkt_tab to /root/nltk_data...\n",
            "[nltk_data]   Package punkt_tab is already up-to-date!\n"
          ]
        },
        {
          "output_type": "stream",
          "name": "stdout",
          "text": [
            "                                               title  \\\n",
            "0  GSA seeks 50% spending cuts, nonvoluntary RIF ...   \n",
            "1  FBI turns over details of 5,000 employees who ...   \n",
            "2  S&P 500 rises as investors shake off Trump's t...   \n",
            "3  'No Team' Has Asked Miami for Permission to Ta...   \n",
            "4  As hundreds of quakes rattle Greek islands, a ...   \n",
            "\n",
            "                                         description  \\\n",
            "0  The proposed cuts and RIF at GSA raise questio...   \n",
            "1  FBI officials have complied with demands to pr...   \n",
            "2  Stocks were little changed on Tuesday as Wall ...   \n",
            "3  Butler's market appears non-existent as the NB...   \n",
            "4  The mayor of Santorini says that the hundreds ...   \n",
            "\n",
            "                                             content  \\\n",
            "0  The Trump administrations leadership at the Ge...   \n",
            "1  FBI officials have complied with demands to pr...   \n",
            "2  The Nasdaq Composite and S&amp;P 500 moved hig...   \n",
            "3  The market for Jimmy Butler may not be as robu...   \n",
            "4  SANTORINI, Greece (AP) The hundreds of earthqu...   \n",
            "\n",
            "                                                 url           publishedAt  \\\n",
            "0  https://federalnewsnetwork.com/hiring-retentio...  2025-02-04T20:36:15Z   \n",
            "1  https://www.cnn.com/2025/02/04/politics/fbi-em...  2025-02-04T20:14:00Z   \n",
            "2  https://www.cnbc.com/2025/02/03/stock-market-t...  2025-02-04T20:12:00Z   \n",
            "3  https://www.si.com/nba/no-team-has-asked-miami...  2025-02-04T19:07:14Z   \n",
            "4  https://apnews.com/article/greece-santorini-ea...  2025-02-04T18:59:00Z   \n",
            "\n",
            "                                              source  \\\n",
            "0       {'id': None, 'name': 'Federal News Network'}   \n",
            "1                       {'id': 'cnn', 'name': 'CNN'}   \n",
            "2                       {'id': None, 'name': 'CNBC'}   \n",
            "3         {'id': None, 'name': 'Sports Illustrated'}   \n",
            "4  {'id': 'associated-press', 'name': 'Associated...   \n",
            "\n",
            "                                     cleaned_content  \n",
            "0  trump administrations leadership general servi...  \n",
            "1  fbi officials complied demands provide justice...  \n",
            "2  nasdaq composite sampp 500 moved higher tuesda...  \n",
            "3  market jimmy butler may robust originally thou...  \n",
            "4  santorini greece ap hundreds earthquakes rattl...  \n"
          ]
        }
      ]
    }
  ]
}