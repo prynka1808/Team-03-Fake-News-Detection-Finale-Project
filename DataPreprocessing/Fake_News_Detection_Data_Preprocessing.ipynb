{
  "cells": [
    {
      "cell_type": "code",
      "source": [
        "# Import necessary libraries\n",
        "import pandas as pd\n",
        "import numpy as np\n",
        "import re\n",
        "import nltk\n",
        "import spacy\n",
        "import string\n",
        "import os\n",
        "import zipfile\n",
        "from nltk.tokenize import word_tokenize\n",
        "from nltk.corpus import stopwords\n",
        "from nltk.stem import WordNetLemmatizer\n",
        "from sklearn.feature_extraction.text import TfidfVectorizer\n",
        "from textblob import TextBlob\n",
        "from gensim.models import Word2Vec"
      ],
      "metadata": {
        "id": "czrtgGU-8vBb"
      },
      "id": "czrtgGU-8vBb",
      "execution_count": 1,
      "outputs": []
    },
    {
      "cell_type": "code",
      "source": [
        "# Ensure necessary NLTK resources are downloaded\n",
        "nltk.download('punkt')\n",
        "nltk.download('stopwords')\n",
        "nltk.download('wordnet')\n",
        "nltk.download('punkt_tab')"
      ],
      "metadata": {
        "colab": {
          "base_uri": "https://localhost:8080/"
        },
        "id": "kW6m79_O8xcR",
        "outputId": "1812ab2a-51cf-481b-a008-e5a7a6d74c82"
      },
      "id": "kW6m79_O8xcR",
      "execution_count": 2,
      "outputs": [
        {
          "output_type": "stream",
          "name": "stderr",
          "text": [
            "[nltk_data] Downloading package punkt to /root/nltk_data...\n",
            "[nltk_data]   Package punkt is already up-to-date!\n",
            "[nltk_data] Downloading package stopwords to /root/nltk_data...\n",
            "[nltk_data]   Package stopwords is already up-to-date!\n",
            "[nltk_data] Downloading package wordnet to /root/nltk_data...\n",
            "[nltk_data]   Package wordnet is already up-to-date!\n",
            "[nltk_data] Downloading package punkt_tab to /root/nltk_data...\n",
            "[nltk_data]   Unzipping tokenizers/punkt_tab.zip.\n"
          ]
        },
        {
          "output_type": "execute_result",
          "data": {
            "text/plain": [
              "True"
            ]
          },
          "metadata": {},
          "execution_count": 2
        }
      ]
    },
    {
      "cell_type": "code",
      "source": [
        "# Load SpaCy model\n",
        "try:\n",
        "    nlp = spacy.load(\"en_core_web_sm\")\n",
        "except OSError:\n",
        "    import subprocess\n",
        "    subprocess.run([\"python\", \"-m\", \"spacy\", \"download\", \"en_core_web_sm\"])\n",
        "    nlp = spacy.load(\"en_core_web_sm\")"
      ],
      "metadata": {
        "id": "zlVLlD4P8y-N"
      },
      "id": "zlVLlD4P8y-N",
      "execution_count": 3,
      "outputs": []
    },
    {
      "cell_type": "code",
      "source": [
        "# Initialize necessary tools\n",
        "lemmatizer = WordNetLemmatizer()\n",
        "stop_words = set(stopwords.words(\"english\"))"
      ],
      "metadata": {
        "id": "C-C9zdFj81Hk"
      },
      "id": "C-C9zdFj81Hk",
      "execution_count": 4,
      "outputs": []
    },
    {
      "cell_type": "code",
      "source": [
        "# Function to clean raw text data\n",
        "def clean_text(text):\n",
        "    if isinstance(text, str):\n",
        "        text = text.lower()\n",
        "        text = re.sub(r'\\s+', ' ', text)  # Remove extra spaces\n",
        "        text = re.sub(r'\\[.*?\\]', '', text)  # Remove text inside brackets\n",
        "        text = re.sub(r'https?://\\S+|www\\.\\S+', '', text)  # Remove URLs\n",
        "        text = re.sub(r'<.*?>+', '', text)  # Remove HTML tags\n",
        "        text = re.sub(r'[^\\w\\s]', '', text)  # Remove punctuation\n",
        "        text = re.sub(r'\\d+', '', text)  # Remove numbers\n",
        "        return text\n",
        "    return \"\""
      ],
      "metadata": {
        "id": "0r6rDcIP83WU"
      },
      "id": "0r6rDcIP83WU",
      "execution_count": 5,
      "outputs": []
    },
    {
      "cell_type": "code",
      "source": [
        "# Function for tokenization, stopword removal, and lemmatization\n",
        "def preprocess_text(text):\n",
        "    tokens = word_tokenize(text)\n",
        "    tokens = [word for word in tokens if word not in stop_words]\n",
        "    tokens = [lemmatizer.lemmatize(word) for word in tokens]\n",
        "    return \" \".join(tokens)"
      ],
      "metadata": {
        "id": "xrrAnyCc85e8"
      },
      "id": "xrrAnyCc85e8",
      "execution_count": 6,
      "outputs": []
    },
    {
      "cell_type": "code",
      "source": [
        "# Function for sentiment analysis\n",
        "def sentiment_score(text):\n",
        "    return TextBlob(text).sentiment.polarity"
      ],
      "metadata": {
        "id": "wg6_pkEo87ox"
      },
      "id": "wg6_pkEo87ox",
      "execution_count": 7,
      "outputs": []
    },
    {
      "cell_type": "code",
      "source": [
        "# Function for word embedding using Word2Vec\n",
        "def train_word2vec(corpus):\n",
        "    tokenized_corpus = [word_tokenize(doc) for doc in corpus]\n",
        "    model = Word2Vec(sentences=tokenized_corpus, vector_size=100, window=5, min_count=1, workers=4)\n",
        "    return model"
      ],
      "metadata": {
        "id": "4QgNYYiz89Ln"
      },
      "id": "4QgNYYiz89Ln",
      "execution_count": 8,
      "outputs": []
    },
    {
      "cell_type": "code",
      "source": [
        "# GitHub raw file URL\n",
        "url = \"https://raw.githubusercontent.com/prynka1808/Team-03-Fake-News-Detection-Finale-Project/main/Dataset/liar-fake-news-dataset/train.tsv\"\n",
        "\n",
        "# Read the dataset from GitHub\n",
        "try:\n",
        "    liar_df = pd.read_csv(url, delimiter=\"\\t\", names=[\"label\", \"text\"])\n",
        "    liar_df = liar_df[['label', 'text']]\n",
        "    liar_df['label'] = liar_df['label'].map({'true': 0, 'false': 1})\n",
        "    print(\"Dataset Uploaded Successfully!\")\n",
        "except Exception as e:\n",
        "    print(f\"Error loading dataset: {e}\")"
      ],
      "metadata": {
        "colab": {
          "base_uri": "https://localhost:8080/"
        },
        "id": "28GIxBxlz5Qn",
        "outputId": "cd779bb8-c48f-4f20-c1bd-570340c70aa7"
      },
      "id": "28GIxBxlz5Qn",
      "execution_count": 11,
      "outputs": [
        {
          "output_type": "stream",
          "name": "stdout",
          "text": [
            "Dataset Uploaded Successfully!\n"
          ]
        }
      ]
    },
    {
      "cell_type": "code",
      "source": [
        "# GitHub raw URLs\n",
        "fake_news_net_url = \"https://raw.githubusercontent.com/prynka1808/Team-03-Fake-News-Detection-Finale-Project/main/Dataset/FakeNewsNet-github/dataset/politifact_fake.csv\"\n",
        "real_news_net_url = \"https://raw.githubusercontent.com/prynka1808/Team-03-Fake-News-Detection-Finale-Project/main/Dataset/FakeNewsNet-github/dataset/politifact_real.csv\"\n",
        "\n",
        "try:\n",
        "    # Read CSV with error handling\n",
        "    fake_news_net_df = pd.read_csv(fake_news_net_url, delimiter=\",\", quotechar='\"', on_bad_lines=\"skip\")\n",
        "    real_news_net_df = pd.read_csv(real_news_net_url, delimiter=\",\", quotechar='\"', on_bad_lines=\"skip\")\n",
        "\n",
        "    # Assign labels\n",
        "    fake_news_net_df['label'] = 1  # Fake news\n",
        "    real_news_net_df['label'] = 0  # Real news\n",
        "\n",
        "    # Keep only necessary columns\n",
        "    fake_news_net_df = fake_news_net_df[['id', 'news_url', 'title', 'label']]\n",
        "    real_news_net_df = real_news_net_df[['id', 'news_url', 'title', 'label']]\n",
        "\n",
        "    # Merge datasets\n",
        "    fakenewsnet_df = pd.concat([fake_news_net_df, real_news_net_df])\n",
        "\n",
        "    print(\"FakeNewsNet dataset loaded successfully!\")\n",
        "\n",
        "except Exception as e:\n",
        "    print(f\"Error loading FakeNewsNet dataset: {e}\")\n"
      ],
      "metadata": {
        "colab": {
          "base_uri": "https://localhost:8080/"
        },
        "id": "oM_P4e71BCN0",
        "outputId": "2a9fc910-c2cd-4732-c4a2-25c361842fe0"
      },
      "id": "oM_P4e71BCN0",
      "execution_count": 10,
      "outputs": [
        {
          "output_type": "stream",
          "name": "stdout",
          "text": [
            "FakeNewsNet dataset loaded successfully!\n"
          ]
        }
      ]
    },
    {
      "cell_type": "code",
      "source": [
        "import pandas as pd\n",
        "\n",
        "# Correct GitHub raw file URLs\n",
        "fake_articles_url = \"https://raw.github.com/prynka1808/Team-03-Fake-News-Detection-Finale-Project/main/Dataset/Fake-News-Dataset-kaggle/Testing_dataset/testingSet/Catalog%20-%20Fake%20Articles.csv\"\n",
        "real_articles_url = \"https://raw.github.com/prynka1808/Team-03-Fake-News-Detection-Finale-Project/main/Dataset/Fake-News-Dataset-kaggle/Testing_dataset/testingSet/Catalog%20-%20Real%20Articles.csv\"\n",
        "\n",
        "try:\n",
        "    # Load datasets from GitHub\n",
        "    fake_news_kaggle = pd.read_csv(fake_articles_url, encoding=\"ISO-8859-1\")\n",
        "    real_news_kaggle = pd.read_csv(real_articles_url, encoding=\"ISO-8859-1\")\n",
        "\n",
        "    # Keep only relevant columns: \"Article\" for text\n",
        "    fake_news_kaggle = fake_news_kaggle[['Article']].rename(columns={'Article': 'text'})\n",
        "    real_news_kaggle = real_news_kaggle[['Article']].rename(columns={'Article': 'text'})\n",
        "\n",
        "    # Assign labels: 1 for Fake, 0 for Real\n",
        "    fake_news_kaggle['label'] = 1\n",
        "    real_news_kaggle['label'] = 0\n",
        "\n",
        "    # Merge both datasets into a single dataframe\n",
        "    fakenews_kaggle_df = pd.concat([fake_news_kaggle, real_news_kaggle], ignore_index=True)\n",
        "\n",
        "    print(\"Kaggle Fake News dataset loaded successfully!\")\n",
        "\n",
        "except Exception as e:\n",
        "    print(f\"Error loading Kaggle Fake News dataset: {e}\")\n"
      ],
      "metadata": {
        "colab": {
          "base_uri": "https://localhost:8080/"
        },
        "id": "JqrdOCcF9Eqb",
        "outputId": "90dde30d-063c-4df0-fafd-6e8f0973769f"
      },
      "id": "JqrdOCcF9Eqb",
      "execution_count": 12,
      "outputs": [
        {
          "output_type": "stream",
          "name": "stdout",
          "text": [
            "Kaggle Fake News dataset loaded successfully!\n"
          ]
        }
      ]
    },
    {
      "cell_type": "code",
      "source": [
        "# Merge all datasets\n",
        "all_data = pd.concat([liar_df, fakenewsnet_df, fakenews_kaggle_df], ignore_index=True)"
      ],
      "metadata": {
        "id": "LAa3r5OK9Ho8"
      },
      "id": "LAa3r5OK9Ho8",
      "execution_count": 13,
      "outputs": []
    },
    {
      "cell_type": "code",
      "source": [
        "# Drop duplicates and missing values\n",
        "all_data.drop_duplicates(inplace=True)\n",
        "all_data.dropna(subset=['text'], inplace=True)"
      ],
      "metadata": {
        "id": "uLTT3DHB9Jko"
      },
      "id": "uLTT3DHB9Jko",
      "execution_count": 14,
      "outputs": []
    },
    {
      "cell_type": "code",
      "source": [
        "# Apply text cleaning\n",
        "all_data['clean_text'] = all_data['text'].apply(clean_text)"
      ],
      "metadata": {
        "id": "BT0V2PG19K5G"
      },
      "id": "BT0V2PG19K5G",
      "execution_count": 15,
      "outputs": []
    },
    {
      "cell_type": "code",
      "source": [
        "# Apply text preprocessing\n",
        "all_data['processed_text'] = all_data['clean_text'].apply(preprocess_text)"
      ],
      "metadata": {
        "id": "3NTcfgqP9NsU"
      },
      "id": "3NTcfgqP9NsU",
      "execution_count": 16,
      "outputs": []
    },
    {
      "cell_type": "code",
      "source": [
        "# Compute sentiment scores\n",
        "all_data['sentiment'] = all_data['processed_text'].apply(sentiment_score)"
      ],
      "metadata": {
        "id": "cvHNP05Q9PvM"
      },
      "id": "cvHNP05Q9PvM",
      "execution_count": 17,
      "outputs": []
    },
    {
      "cell_type": "code",
      "source": [
        "print(\"Data processing completed successfully!\")"
      ],
      "metadata": {
        "colab": {
          "base_uri": "https://localhost:8080/"
        },
        "id": "Yu77c9cc9RNo",
        "outputId": "62bce1d5-2070-42c2-9239-ff3513b3af09"
      },
      "id": "Yu77c9cc9RNo",
      "execution_count": 18,
      "outputs": [
        {
          "output_type": "stream",
          "name": "stdout",
          "text": [
            "Data processing completed successfully!\n"
          ]
        }
      ]
    }
  ],
  "metadata": {
    "colab": {
      "provenance": []
    },
    "language_info": {
      "name": "python"
    },
    "kernelspec": {
      "name": "python3",
      "display_name": "Python 3"
    }
  },
  "nbformat": 4,
  "nbformat_minor": 5
}
